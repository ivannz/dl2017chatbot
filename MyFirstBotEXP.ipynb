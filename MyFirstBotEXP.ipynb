{
 "cells": [
  {
   "cell_type": "markdown",
   "metadata": {
    "deletable": true,
    "editable": true
   },
   "source": [
    "# Train the chatbot"
   ]
  },
  {
   "cell_type": "markdown",
   "metadata": {
    "deletable": true,
    "editable": true
   },
   "source": [
    "This is remotely based on the amalgamation of [this](https://github.com/saltypaul/Seq2Seq-Chatbot)\n",
    "and [that](https://github.com/marekrei/sequence-labeler) repositories. The images are taken from\n",
    "the first one."
   ]
  },
  {
   "cell_type": "code",
   "execution_count": 1,
   "metadata": {
    "collapsed": true,
    "deletable": true,
    "editable": true
   },
   "outputs": [],
   "source": [
    "import os\n",
    "import time\n",
    "import json\n",
    "import pickle\n",
    "\n",
    "import numpy as np\n",
    "\n",
    "import pandas as pd\n",
    "import tqdm"
   ]
  },
  {
   "cell_type": "markdown",
   "metadata": {
    "deletable": true,
    "editable": true
   },
   "source": [
    "We'll definitely need to plot something"
   ]
  },
  {
   "cell_type": "code",
   "execution_count": 2,
   "metadata": {
    "collapsed": true,
    "deletable": true,
    "editable": true
   },
   "outputs": [],
   "source": [
    "%matplotlib inline\n",
    "import matplotlib.pyplot as plt"
   ]
  },
  {
   "cell_type": "markdown",
   "metadata": {
    "deletable": true,
    "editable": true
   },
   "source": [
    "Uninterruptible section"
   ]
  },
  {
   "cell_type": "code",
   "execution_count": 3,
   "metadata": {
    "collapsed": true,
    "deletable": true,
    "editable": true
   },
   "outputs": [],
   "source": [
    "import signal\n",
    "\n",
    "class DelayedKeyboardInterrupt(object):\n",
    "    def __enter__(self):\n",
    "        self.signal_received = False\n",
    "        self.old_handler = signal.getsignal(signal.SIGINT)\n",
    "        signal.signal(signal.SIGINT, self.handler)\n",
    "\n",
    "    def handler(self, sig, frame):\n",
    "        self.signal_received = (sig, frame)\n",
    "\n",
    "    def __exit__(self, type, value, traceback):\n",
    "        signal.signal(signal.SIGINT, self.old_handler)\n",
    "        if self.signal_received:\n",
    "            self.old_handler(*self.signal_received)"
   ]
  },
  {
   "cell_type": "markdown",
   "metadata": {
    "deletable": true,
    "editable": true
   },
   "source": [
    "Fix the random seed"
   ]
  },
  {
   "cell_type": "code",
   "execution_count": 4,
   "metadata": {
    "collapsed": true,
    "deletable": true,
    "editable": true
   },
   "outputs": [],
   "source": [
    "random_state = np.random.RandomState(0x0BADC0DE)"
   ]
  },
  {
   "cell_type": "markdown",
   "metadata": {
    "deletable": true,
    "editable": true
   },
   "source": [
    "Import Theano and Lasagne"
   ]
  },
  {
   "cell_type": "code",
   "execution_count": 5,
   "metadata": {
    "collapsed": false,
    "deletable": true,
    "editable": true
   },
   "outputs": [
    {
     "name": "stderr",
     "output_type": "stream",
     "text": [
      "Using cuDNN version 5103 on context None\n",
      "Mapped name None to device cuda: GeForce GTX 980 Ti (0000:06:00.0)\n"
     ]
    }
   ],
   "source": [
    "# %env THEANO_FLAGS='device=cuda0,force_device=True,mode=FAST_RUN,floatX=float32'\n",
    "\n",
    "import theano\n",
    "theano.config.exception_verbosity = 'high'\n",
    "\n",
    "import theano.tensor as tt\n",
    "\n",
    "import lasagne\n",
    "from lasagne.utils import floatX"
   ]
  },
  {
   "cell_type": "markdown",
   "metadata": {
    "deletable": true,
    "editable": true
   },
   "source": [
    "Fix Lasagne's random seed."
   ]
  },
  {
   "cell_type": "code",
   "execution_count": 6,
   "metadata": {
    "collapsed": true,
    "deletable": true,
    "editable": true
   },
   "outputs": [],
   "source": [
    "lasagne.random.set_rng(np.random.RandomState(0xDEADC0DE))"
   ]
  },
  {
   "cell_type": "markdown",
   "metadata": {
    "deletable": true,
    "editable": true
   },
   "source": [
    "Load the line lookup table. It was generated from the [Cornell Movie--Dialogs Corpus](https://people.mpi-sws.org/~cristian/Cornell_Movie-Dialogs_Corpus.html)"
   ]
  },
  {
   "cell_type": "code",
   "execution_count": 7,
   "metadata": {
    "collapsed": false,
    "deletable": true,
    "editable": true
   },
   "outputs": [],
   "source": [
    "with open(\"../processed_lines.json\", \"r\", encoding=\"utf-8\") as fin:\n",
    "    db_lines = {k: \"\\x02\" + v + \"\\x03\" for k, v in json.load(fin).items()}"
   ]
  },
  {
   "cell_type": "markdown",
   "metadata": {
    "deletable": true,
    "editable": true
   },
   "source": [
    "Load the diaogues into Q&A pairs"
   ]
  },
  {
   "cell_type": "code",
   "execution_count": 8,
   "metadata": {
    "collapsed": true,
    "deletable": true,
    "editable": true
   },
   "outputs": [],
   "source": [
    "with open(\"../processed_dialogues.json\", \"r\", encoding=\"utf-8\") as fin:\n",
    "    db_dialogues = json.load(fin)\n",
    "\n",
    "qa_pairs = []\n",
    "for lines in db_dialogues:\n",
    "    qa_pairs.extend(zip(lines[:-1], lines[1:]))\n",
    "del db_dialogues\n",
    "\n",
    "# for easier indexing\n",
    "qa_pairs = np.array(qa_pairs)"
   ]
  },
  {
   "cell_type": "markdown",
   "metadata": {
    "deletable": true,
    "editable": true
   },
   "source": [
    "Build the vocabulary"
   ]
  },
  {
   "cell_type": "code",
   "execution_count": 9,
   "metadata": {
    "collapsed": true,
    "deletable": true,
    "editable": true
   },
   "outputs": [],
   "source": [
    "from collections import Counter\n",
    "token_counts = Counter(c for l in db_lines.values() for c in l[1:-1])\n",
    "\n",
    "## It is very important that these service characters be added first\n",
    "vocab = [\"\\x02\", \"\\x03\"]\n",
    "vocab += [c for c, f in token_counts.items()]\n",
    "\n",
    "token_to_index = {w: i for i, w in enumerate(vocab)}"
   ]
  },
  {
   "cell_type": "markdown",
   "metadata": {
    "deletable": true,
    "editable": true
   },
   "source": [
    "A function to lines into character id vectors."
   ]
  },
  {
   "cell_type": "code",
   "execution_count": 10,
   "metadata": {
    "collapsed": true,
    "deletable": true,
    "editable": true
   },
   "outputs": [],
   "source": [
    "def as_matrix(lines, max_len=None):\n",
    "    if isinstance(lines, str):\n",
    "        lines = [lines]\n",
    "\n",
    "    length = max(map(len, lines))\n",
    "    length = min(length, max_len or length)\n",
    "\n",
    "    matrix = np.full((len(lines), length), -1, dtype='int32')\n",
    "    for i, line in enumerate(lines):\n",
    "        row_ix = [token_to_index.get(c, -1)\n",
    "                  for c in line[:length]]\n",
    "\n",
    "        matrix[i, :len(row_ix)] = row_ix\n",
    "\n",
    "    return matrix"
   ]
  },
  {
   "cell_type": "markdown",
   "metadata": {
    "deletable": true,
    "editable": true
   },
   "source": [
    "A function to convert History-Reply pairs into character id matrices"
   ]
  },
  {
   "cell_type": "code",
   "execution_count": 11,
   "metadata": {
    "collapsed": true,
    "deletable": true,
    "editable": true
   },
   "outputs": [],
   "source": [
    "def retrieve_sentences(pairs):\n",
    "    enc, dec = [], []\n",
    "    for q, a in pairs:\n",
    "        enc.append(db_lines[q])\n",
    "        dec.append(db_lines[a])\n",
    "    return enc, dec\n",
    "\n",
    "def get_matrices(pairs, max_len=None):\n",
    "    enc, dec = retrieve_sentences(pairs)\n",
    "    return as_matrix(enc, max_len), as_matrix(dec, max_len)"
   ]
  },
  {
   "cell_type": "markdown",
   "metadata": {
    "deletable": true,
    "editable": true
   },
   "source": [
    "A function to sample a batch from History-Reply pairs"
   ]
  },
  {
   "cell_type": "code",
   "execution_count": 12,
   "metadata": {
    "collapsed": true,
    "deletable": true,
    "editable": true
   },
   "outputs": [],
   "source": [
    "def generate_batch(batch_size=32, max_len=None):\n",
    "    n_batches = (len(qa_pairs) + batch_size - 1) // batch_size\n",
    "    indices_ = random_state.permutation(len(qa_pairs))\n",
    "    \n",
    "    for i in range(n_batches):\n",
    "        yield get_matrices(qa_pairs[indices_[i::n_batches]], max_len)"
   ]
  },
  {
   "cell_type": "markdown",
   "metadata": {
    "deletable": true,
    "editable": true
   },
   "source": [
    "Define a simple seq2seq network (preferably in Lasagne)"
   ]
  },
  {
   "cell_type": "code",
   "execution_count": 13,
   "metadata": {
    "collapsed": true,
    "deletable": true,
    "editable": true
   },
   "outputs": [],
   "source": [
    "from lasagne.layers import InputLayer, EmbeddingLayer\n",
    "from lasagne.layers import GRULayer, DenseLayer\n",
    "from lasagne.layers import NonlinearityLayer\n",
    "\n",
    "from broadcast import BroadcastLayer, UnbroadcastLayer\n",
    "from lasagne.layers import SliceLayer\n",
    "\n",
    "from lasagne.layers.base import Layer"
   ]
  },
  {
   "cell_type": "markdown",
   "metadata": {
    "deletable": true,
    "editable": true
   },
   "source": [
    "The architecture hyper parameters"
   ]
  },
  {
   "cell_type": "code",
   "execution_count": 14,
   "metadata": {
    "collapsed": false,
    "deletable": true,
    "editable": true
   },
   "outputs": [],
   "source": [
    "model_file = \"pickles/experimental_mdl_epoch-05.pkl\"\n",
    "if os.path.exists(model_file):\n",
    "    with open(model_file, \"rb\") as fin:\n",
    "        ver, *rest = pickle.load(fin)\n",
    "        assert ver == \"2.5EXP\"\n",
    "\n",
    "    hyper, vocab, weights = rest\n",
    "\n",
    "else:\n",
    "    hyper = {\n",
    "        \"n_embed_char\": 32,\n",
    "        \"n_hidden_decoder\": 256,\n",
    "        \"n_hidden_encoder\": 256,\n",
    "        \"n_layers_decoder\": 4,\n",
    "        \"n_layers_encoder\": 2,\n",
    "    }"
   ]
  },
  {
   "cell_type": "markdown",
   "metadata": {
    "deletable": true,
    "editable": true
   },
   "source": [
    "Set shortcuts"
   ]
  },
  {
   "cell_type": "code",
   "execution_count": 15,
   "metadata": {
    "collapsed": true,
    "deletable": true,
    "editable": true
   },
   "outputs": [],
   "source": [
    "n_embed_char = hyper[\"n_embed_char\"]          # 32\n",
    "n_hidden_encoder = hyper[\"n_hidden_encoder\"]  # 256\n",
    "n_hidden_decoder = hyper[\"n_hidden_decoder\"]  # 256\n",
    "n_layers_encoder = hyper[\"n_layers_encoder\"]  # 2\n",
    "n_layers_decoder = hyper[\"n_layers_decoder\"]  # 4"
   ]
  },
  {
   "cell_type": "markdown",
   "metadata": {
    "deletable": true,
    "editable": true
   },
   "source": [
    "<img src=\"https://raw.githubusercontent.com/saltypaul/Seq2Seq-Chatbot/master/pics/Training%20Phase.jpg\" />"
   ]
  },
  {
   "cell_type": "markdown",
   "metadata": {
    "deletable": true,
    "editable": true
   },
   "source": [
    "### Embedding subgraph (pinkish)"
   ]
  },
  {
   "cell_type": "markdown",
   "metadata": {
    "deletable": true,
    "editable": true
   },
   "source": [
    "A helper to create stacked RNN"
   ]
  },
  {
   "cell_type": "code",
   "execution_count": 16,
   "metadata": {
    "collapsed": true,
    "deletable": true,
    "editable": true
   },
   "outputs": [],
   "source": [
    "from lasagne.layers.base import Layer\n",
    "\n",
    "def gru_column(input, num_units, hidden, **kwargs):\n",
    "    kwargs.pop(\"only_return_final\", None)\n",
    "    assert isinstance(hidden, (list, tuple))\n",
    "\n",
    "    name = kwargs.pop(\"name\", \"default\")\n",
    "    column = [input]\n",
    "    for i, l_hidden in enumerate(hidden):\n",
    "        kwargs_ = kwargs.copy()\n",
    "        if isinstance(l_hidden, Layer):\n",
    "            kwargs_.pop(\"learn_init\", None)\n",
    "            kwargs_[\"hid_init\"] = l_hidden\n",
    "\n",
    "        layer = GRULayer(column[-1], num_units,\n",
    "                         name=os.path.join(name, \"gru_%02d\" % i),\n",
    "                         **kwargs_)\n",
    "        column.append(layer)\n",
    "    return column[1:]"
   ]
  },
  {
   "cell_type": "markdown",
   "metadata": {
    "deletable": true,
    "editable": true
   },
   "source": [
    "Create readouts of the last hidden state"
   ]
  },
  {
   "cell_type": "code",
   "execution_count": 17,
   "metadata": {
    "collapsed": true,
    "deletable": true,
    "editable": true
   },
   "outputs": [],
   "source": [
    "def gru_hidden_readout(column, indices):\n",
    "    hidden = []\n",
    "    for layer in column:\n",
    "        name = os.path.join(layer.name, \"slice\")\n",
    "        slice_ = SliceLayer(layer, indices, axis=1, name=name)\n",
    "        hidden.append(slice_)\n",
    "    return hidden"
   ]
  },
  {
   "cell_type": "markdown",
   "metadata": {
    "deletable": true,
    "editable": true
   },
   "source": [
    "### Encoder"
   ]
  },
  {
   "cell_type": "markdown",
   "metadata": {
    "deletable": true,
    "editable": true
   },
   "source": [
    "Tap into the common embedding layer"
   ]
  },
  {
   "cell_type": "code",
   "execution_count": 18,
   "metadata": {
    "collapsed": true,
    "deletable": true,
    "editable": true
   },
   "outputs": [],
   "source": [
    "l_encoder_mask = InputLayer((None, None), name=\"encoder/mask\")\n",
    "l_encoder_embed = InputLayer((None, None, n_embed_char), name=\"encoder/input\")"
   ]
  },
  {
   "cell_type": "markdown",
   "metadata": {
    "deletable": true,
    "editable": true
   },
   "source": [
    "### Sentence representation"
   ]
  },
  {
   "cell_type": "markdown",
   "metadata": {
    "deletable": true,
    "editable": true
   },
   "source": [
    "Construct layered GRU columns atop the embedding (we can also make parallel fwd / rev layers)"
   ]
  },
  {
   "cell_type": "code",
   "execution_count": 19,
   "metadata": {
    "collapsed": false,
    "deletable": true,
    "editable": true
   },
   "outputs": [],
   "source": [
    "hidden = n_layers_encoder * [None]\n",
    "enc_rnn_layers = gru_column(l_encoder_embed, n_hidden_encoder, hidden,\n",
    "                            mask_input=l_encoder_mask, learn_init=True,\n",
    "                            backwards=False, name=\"encoder\")\n",
    "\n",
    "enc_rnn_layers_sliced = gru_hidden_readout(enc_rnn_layers, -1)"
   ]
  },
  {
   "cell_type": "markdown",
   "metadata": {
    "deletable": true,
    "editable": true
   },
   "source": [
    "### Decoder"
   ]
  },
  {
   "cell_type": "markdown",
   "metadata": {
    "deletable": true,
    "editable": true
   },
   "source": [
    "Tap into the common embedding layer but with decoder's own input."
   ]
  },
  {
   "cell_type": "code",
   "execution_count": 20,
   "metadata": {
    "collapsed": true,
    "deletable": true,
    "editable": true
   },
   "outputs": [],
   "source": [
    "l_decoder_mask = InputLayer((None, None), name=\"decoder/mask\")\n",
    "l_decoder_embed = InputLayer((None, None, n_embed_char), name=\"decoder/input\")"
   ]
  },
  {
   "cell_type": "markdown",
   "metadata": {
    "deletable": true,
    "editable": true
   },
   "source": [
    "Project the hidden state of the encoder"
   ]
  },
  {
   "cell_type": "code",
   "execution_count": 21,
   "metadata": {
    "collapsed": true,
    "deletable": true,
    "editable": true
   },
   "outputs": [],
   "source": [
    "from lasagne.layers import ConcatLayer\n",
    "from lasagne.layers import BatchNormLayer\n",
    "\n",
    "l_hidden_pool = ConcatLayer(enc_rnn_layers_sliced, axis=-1, name=\"encoder/cat\")\n",
    "\n",
    "l_fc_layer = DenseLayer(l_hidden_pool, n_layers_encoder * n_hidden_encoder,\n",
    "                        nonlinearity=None, name=\"encoder/fc/core\")\n",
    "\n",
    "l_fc_bn = BatchNormLayer(l_fc_layer, name=\"encoder/fc/bn\")\n",
    "l_fc_relu = NonlinearityLayer(l_fc_bn, name=\"encoder/fc/tanh\",\n",
    "                              nonlinearity=lasagne.nonlinearities.tanh)\n",
    "\n",
    "# l_bottleneck = DenseLayer(l_fc_relu, n_hidden_encoder,\n",
    "#                           nonlinearity=None, name=\"encoder/bottleneck\")\n",
    "l_bottleneck = l_fc_relu"
   ]
  },
  {
   "cell_type": "markdown",
   "metadata": {
    "deletable": true,
    "editable": true
   },
   "source": [
    "Construct projections"
   ]
  },
  {
   "cell_type": "code",
   "execution_count": 22,
   "metadata": {
    "collapsed": false,
    "deletable": true,
    "editable": true
   },
   "outputs": [],
   "source": [
    "dec_hid_inputs, n_base = [None], 1\n",
    "for i in range(n_layers_decoder - 2):\n",
    "    name = \"decoder/proj_%02d\" % (n_base + i)\n",
    "    l_project = DenseLayer(l_bottleneck, n_hidden_decoder,\n",
    "                           nonlinearity=None, name=os.path.join(name, \"core\"))\n",
    "\n",
    "    l_project_bn = BatchNormLayer(l_project, name=os.path.join(name, \"bn\"))\n",
    "    l_project_relu = NonlinearityLayer(l_project_bn, name=os.path.join(name, \"tanh\"),\n",
    "                                       nonlinearity=lasagne.nonlinearities.tanh)\n",
    "\n",
    "    dec_hid_inputs.append(l_project_relu)\n",
    "dec_hid_inputs.append(None)"
   ]
  },
  {
   "cell_type": "markdown",
   "metadata": {
    "deletable": true,
    "editable": true
   },
   "source": [
    "Construct layers of GRU-s which recieve the final state of the encoder's network."
   ]
  },
  {
   "cell_type": "code",
   "execution_count": 23,
   "metadata": {
    "collapsed": true,
    "deletable": true,
    "editable": true
   },
   "outputs": [],
   "source": [
    "dec_rnn_layers = gru_column(l_decoder_embed, n_hidden_decoder, dec_hid_inputs,\n",
    "                            mask_input=l_decoder_mask, learn_init=True,\n",
    "                            backwards=False, name=\"decoder\")\n",
    "\n",
    "dec_rnn_layers_sliced = gru_hidden_readout(dec_rnn_layers, -1)"
   ]
  },
  {
   "cell_type": "markdown",
   "metadata": {
    "deletable": true,
    "editable": true
   },
   "source": [
    "Read the output of the top layer of the RNN and re-embed into the character space"
   ]
  },
  {
   "cell_type": "code",
   "execution_count": 24,
   "metadata": {
    "collapsed": true,
    "deletable": true,
    "editable": true
   },
   "outputs": [],
   "source": [
    "l_decoder_reembedder = DenseLayer(dec_rnn_layers[-1], num_units=len(vocab),\n",
    "                                  nonlinearity=None, num_leading_axes=2,\n",
    "                                  name=\"decoder/project\")"
   ]
  },
  {
   "cell_type": "markdown",
   "metadata": {
    "deletable": true,
    "editable": true
   },
   "source": [
    "Construct the softmax layer"
   ]
  },
  {
   "cell_type": "code",
   "execution_count": 25,
   "metadata": {
    "collapsed": true,
    "deletable": true,
    "editable": true
   },
   "outputs": [],
   "source": [
    "l_bc = BroadcastLayer(l_decoder_reembedder, broadcasted_axes=(0, 1), name=\"decoder/bc\")\n",
    "l_softmax = NonlinearityLayer(l_bc, nonlinearity=lasagne.nonlinearities.softmax, name=\"decoder/softmax\")\n",
    "l_decoder_output = UnbroadcastLayer(l_softmax, l_bc, name=\"decoder/ub\")"
   ]
  },
  {
   "cell_type": "markdown",
   "metadata": {
    "deletable": true,
    "editable": true
   },
   "source": [
    "### Embedding layer "
   ]
  },
  {
   "cell_type": "markdown",
   "metadata": {
    "deletable": true,
    "editable": true
   },
   "source": [
    "The common embedding layer"
   ]
  },
  {
   "cell_type": "code",
   "execution_count": 26,
   "metadata": {
    "collapsed": true,
    "deletable": true,
    "editable": true
   },
   "outputs": [],
   "source": [
    "l_input_char = InputLayer((None, None), name=\"char/input\")\n",
    "l_embed_char = EmbeddingLayer(l_input_char, len(vocab), n_embed_char, name=\"char/embed\")"
   ]
  },
  {
   "cell_type": "markdown",
   "metadata": {
    "deletable": true,
    "editable": true
   },
   "source": [
    "### Resume training"
   ]
  },
  {
   "cell_type": "code",
   "execution_count": 27,
   "metadata": {
    "collapsed": false,
    "deletable": true,
    "editable": true
   },
   "outputs": [],
   "source": [
    "lasagne.layers.set_all_param_values(l_embed_char,\n",
    "                                    weights[\"l_embed_char\"])\n",
    "lasagne.layers.set_all_param_values(l_decoder_reembedder,\n",
    "                                    weights[\"l_decoder_reembedder\"])"
   ]
  },
  {
   "cell_type": "markdown",
   "metadata": {
    "deletable": true,
    "editable": true
   },
   "source": [
    "### Loss"
   ]
  },
  {
   "cell_type": "markdown",
   "metadata": {
    "deletable": true,
    "editable": true
   },
   "source": [
    "Collect the encoder input"
   ]
  },
  {
   "cell_type": "code",
   "execution_count": 28,
   "metadata": {
    "collapsed": false,
    "deletable": true,
    "editable": true
   },
   "outputs": [],
   "source": [
    "v_encoder_input = tt.imatrix(name=\"encoder/input\")\n",
    "v_encoder_embed = l_embed_char.get_output_for(v_encoder_input)\n",
    "\n",
    "inputs = {l_encoder_embed: v_encoder_embed,\n",
    "          l_encoder_mask: tt.ge(v_encoder_input, 0)}"
   ]
  },
  {
   "cell_type": "markdown",
   "metadata": {
    "deletable": true,
    "editable": true
   },
   "source": [
    "And the decoder's inputs"
   ]
  },
  {
   "cell_type": "code",
   "execution_count": 29,
   "metadata": {
    "collapsed": true,
    "deletable": true,
    "editable": true
   },
   "outputs": [],
   "source": [
    "v_decoder_input = tt.imatrix(name=\"decoder/input\")\n",
    "v_decoder_embed = lasagne.layers.get_output(l_embed_char, v_decoder_input)\n",
    "\n",
    "inputs.update({l_decoder_embed: v_decoder_embed,\n",
    "               l_decoder_mask: tt.ge(v_decoder_input, 0)})"
   ]
  },
  {
   "cell_type": "markdown",
   "metadata": {
    "deletable": true,
    "editable": true
   },
   "source": [
    "Get the output of the decoder"
   ]
  },
  {
   "cell_type": "code",
   "execution_count": 30,
   "metadata": {
    "collapsed": true,
    "deletable": true,
    "editable": true
   },
   "outputs": [],
   "source": [
    "v_decoder_output, v_decoder_mask = lasagne.layers.get_output(\n",
    "    [l_decoder_output, l_decoder_mask], inputs, deterministic=False)"
   ]
  },
  {
   "cell_type": "markdown",
   "metadata": {
    "deletable": true,
    "editable": true
   },
   "source": [
    "Slice the output to match the forward character-level language model"
   ]
  },
  {
   "cell_type": "code",
   "execution_count": 31,
   "metadata": {
    "collapsed": false,
    "deletable": true,
    "editable": true
   },
   "outputs": [],
   "source": [
    "v_predicted = v_decoder_output[:, :-1].reshape(\n",
    "    (-1, v_decoder_output.shape[-1]))\n",
    "\n",
    "v_targets = v_decoder_input[:, 1:].reshape((-1,))\n",
    "\n",
    "v_mask = v_decoder_mask[:, 1:].reshape((-1,))"
   ]
  },
  {
   "cell_type": "markdown",
   "metadata": {
    "deletable": true,
    "editable": true
   },
   "source": [
    "Construct the cross-entropy loss"
   ]
  },
  {
   "cell_type": "code",
   "execution_count": 32,
   "metadata": {
    "collapsed": true,
    "deletable": true,
    "editable": true
   },
   "outputs": [],
   "source": [
    "loss_ij = lasagne.objectives.categorical_crossentropy(v_predicted, v_targets)\n",
    "loss = (loss_ij * v_mask).sum()\n",
    "loss /= v_mask.sum()"
   ]
  },
  {
   "cell_type": "markdown",
   "metadata": {
    "deletable": true,
    "editable": true
   },
   "source": [
    "It can be benefitial to project the character embeddings onto the unit sphere.\n",
    "However we are going to project the embeddings into the unit $l^2$ ball instead."
   ]
  },
  {
   "cell_type": "code",
   "execution_count": 33,
   "metadata": {
    "collapsed": true,
    "deletable": true,
    "editable": true
   },
   "outputs": [],
   "source": [
    "W_emb = l_embed_char.get_params()[0]\n",
    "\n",
    "op_project_embedding = theano.function([], updates={\n",
    "    W_emb: W_emb / tt.maximum(W_emb.norm(2, axis=-1, keepdims=True), 1.0)\n",
    "})"
   ]
  },
  {
   "cell_type": "markdown",
   "metadata": {
    "deletable": true,
    "editable": true
   },
   "source": [
    "On the other hand we can always add $l^2$ regularization term."
   ]
  },
  {
   "cell_type": "code",
   "execution_count": 34,
   "metadata": {
    "collapsed": true,
    "deletable": true,
    "editable": true
   },
   "outputs": [],
   "source": [
    "if False:\n",
    "    C_embed = 1e-1\n",
    "    loss += C_embed * W_emb.norm(2, axis=-1).mean()"
   ]
  },
  {
   "cell_type": "markdown",
   "metadata": {
    "deletable": true,
    "editable": true
   },
   "source": [
    "Collect all trainable parameters "
   ]
  },
  {
   "cell_type": "code",
   "execution_count": 35,
   "metadata": {
    "collapsed": true,
    "deletable": true,
    "editable": true
   },
   "outputs": [],
   "source": [
    "trainable = []\n",
    "trainable.extend(lasagne.layers.get_all_params(l_embed_char, trainable=True))\n",
    "trainable.extend(lasagne.layers.get_all_params(l_decoder_output, trainable=True))"
   ]
  },
  {
   "cell_type": "markdown",
   "metadata": {
    "deletable": true,
    "editable": true
   },
   "source": [
    "Get the updates"
   ]
  },
  {
   "cell_type": "code",
   "execution_count": 36,
   "metadata": {
    "collapsed": true,
    "deletable": true,
    "editable": true
   },
   "outputs": [],
   "source": [
    "learning_rate = theano.shared(floatX(1e-3), name=\"eta\")\n",
    "\n",
    "# updates = lasagne.updates.sgd(loss, trainable, learning_rate)\n",
    "updates = lasagne.updates.adam(loss, trainable, learning_rate)"
   ]
  },
  {
   "cell_type": "markdown",
   "metadata": {
    "deletable": true,
    "editable": true
   },
   "source": [
    "Create the ops"
   ]
  },
  {
   "cell_type": "code",
   "execution_count": 37,
   "metadata": {
    "collapsed": false,
    "deletable": true,
    "editable": true
   },
   "outputs": [],
   "source": [
    "op_train = theano.function([v_decoder_input, v_encoder_input], loss,\n",
    "                           updates=updates, givens={},\n",
    "                           mode=theano.Mode(optimizer=\"fast_run\"))"
   ]
  },
  {
   "cell_type": "code",
   "execution_count": 38,
   "metadata": {
    "collapsed": true,
    "deletable": true,
    "editable": true
   },
   "outputs": [],
   "source": [
    "op_test_loss = theano.function([v_decoder_input, v_encoder_input], loss,\n",
    "                               mode=theano.Mode(optimizer=\"fast_run\"))"
   ]
  },
  {
   "cell_type": "code",
   "execution_count": 39,
   "metadata": {
    "collapsed": false,
    "deletable": true,
    "editable": true,
    "scrolled": true
   },
   "outputs": [],
   "source": [
    "op_predict = theano.function([v_decoder_input, v_encoder_input],\n",
    "                             v_decoder_output,\n",
    "                             mode=theano.Mode(optimizer=\"fast_run\"))"
   ]
  },
  {
   "cell_type": "code",
   "execution_count": 40,
   "metadata": {
    "collapsed": true,
    "deletable": true,
    "editable": true
   },
   "outputs": [],
   "source": [
    "# inputs_ = {l_encoder_embed: v_encoder_embed,\n",
    "#            l_encoder_mask: tt.ge(v_encoder_input, 0),\n",
    "#            l_decoder_embed: v_decoder_embed,\n",
    "#            l_decoder_mask: tt.ge(v_decoder_input, 0)}\n",
    "\n",
    "v_decoder_logits = lasagne.layers.get_output(l_decoder_reembedder, inputs, deterministic=True)\n",
    "\n",
    "op_predict_logits = theano.function([v_decoder_input, v_encoder_input],\n",
    "                                     v_decoder_logits, mode=theano.Mode(optimizer=\"fast_run\"))"
   ]
  },
  {
   "cell_type": "code",
   "execution_count": 41,
   "metadata": {
    "collapsed": false,
    "deletable": true,
    "editable": true,
    "scrolled": false
   },
   "outputs": [
    {
     "data": {
      "text/plain": [
       "[char/embed.W,\n",
       " decoder/gru_00.W_in_to_updategate,\n",
       " decoder/gru_00.W_hid_to_updategate,\n",
       " decoder/gru_00.b_updategate,\n",
       " decoder/gru_00.W_in_to_resetgate,\n",
       " decoder/gru_00.W_hid_to_resetgate,\n",
       " decoder/gru_00.b_resetgate,\n",
       " decoder/gru_00.W_in_to_hidden_update,\n",
       " decoder/gru_00.W_hid_to_hidden_update,\n",
       " decoder/gru_00.b_hidden_update,\n",
       " decoder/gru_00.hid_init,\n",
       " encoder/gru_00.W_in_to_updategate,\n",
       " encoder/gru_00.W_hid_to_updategate,\n",
       " encoder/gru_00.b_updategate,\n",
       " encoder/gru_00.W_in_to_resetgate,\n",
       " encoder/gru_00.W_hid_to_resetgate,\n",
       " encoder/gru_00.b_resetgate,\n",
       " encoder/gru_00.W_in_to_hidden_update,\n",
       " encoder/gru_00.W_hid_to_hidden_update,\n",
       " encoder/gru_00.b_hidden_update,\n",
       " encoder/gru_00.hid_init,\n",
       " encoder/gru_01.W_in_to_updategate,\n",
       " encoder/gru_01.W_hid_to_updategate,\n",
       " encoder/gru_01.b_updategate,\n",
       " encoder/gru_01.W_in_to_resetgate,\n",
       " encoder/gru_01.W_hid_to_resetgate,\n",
       " encoder/gru_01.b_resetgate,\n",
       " encoder/gru_01.W_in_to_hidden_update,\n",
       " encoder/gru_01.W_hid_to_hidden_update,\n",
       " encoder/gru_01.b_hidden_update,\n",
       " encoder/gru_01.hid_init,\n",
       " encoder/fc/core.W,\n",
       " encoder/fc/core.b,\n",
       " encoder/fc/bn.beta,\n",
       " encoder/fc/bn.gamma,\n",
       " decoder/proj_01/core.W,\n",
       " decoder/proj_01/core.b,\n",
       " decoder/proj_01/bn.beta,\n",
       " decoder/proj_01/bn.gamma,\n",
       " decoder/gru_01.W_in_to_updategate,\n",
       " decoder/gru_01.W_hid_to_updategate,\n",
       " decoder/gru_01.b_updategate,\n",
       " decoder/gru_01.W_in_to_resetgate,\n",
       " decoder/gru_01.W_hid_to_resetgate,\n",
       " decoder/gru_01.b_resetgate,\n",
       " decoder/gru_01.W_in_to_hidden_update,\n",
       " decoder/gru_01.W_hid_to_hidden_update,\n",
       " decoder/gru_01.b_hidden_update,\n",
       " decoder/proj_02/core.W,\n",
       " decoder/proj_02/core.b,\n",
       " decoder/proj_02/bn.beta,\n",
       " decoder/proj_02/bn.gamma,\n",
       " decoder/gru_02.W_in_to_updategate,\n",
       " decoder/gru_02.W_hid_to_updategate,\n",
       " decoder/gru_02.b_updategate,\n",
       " decoder/gru_02.W_in_to_resetgate,\n",
       " decoder/gru_02.W_hid_to_resetgate,\n",
       " decoder/gru_02.b_resetgate,\n",
       " decoder/gru_02.W_in_to_hidden_update,\n",
       " decoder/gru_02.W_hid_to_hidden_update,\n",
       " decoder/gru_02.b_hidden_update,\n",
       " decoder/gru_03.W_in_to_updategate,\n",
       " decoder/gru_03.W_hid_to_updategate,\n",
       " decoder/gru_03.b_updategate,\n",
       " decoder/gru_03.W_in_to_resetgate,\n",
       " decoder/gru_03.W_hid_to_resetgate,\n",
       " decoder/gru_03.b_resetgate,\n",
       " decoder/gru_03.W_in_to_hidden_update,\n",
       " decoder/gru_03.W_hid_to_hidden_update,\n",
       " decoder/gru_03.b_hidden_update,\n",
       " decoder/gru_03.hid_init,\n",
       " decoder/project.W,\n",
       " decoder/project.b]"
      ]
     },
     "execution_count": 41,
     "metadata": {},
     "output_type": "execute_result"
    }
   ],
   "source": [
    "trainable"
   ]
  },
  {
   "cell_type": "markdown",
   "metadata": {
    "deletable": true,
    "editable": true
   },
   "source": [
    "### The generator"
   ]
  },
  {
   "cell_type": "markdown",
   "metadata": {
    "deletable": true,
    "editable": true
   },
   "source": [
    "<img src=\"https://raw.githubusercontent.com/saltypaul/Seq2Seq-Chatbot/master/pics/Eval.jpg\" />"
   ]
  },
  {
   "cell_type": "markdown",
   "metadata": {
    "deletable": true,
    "editable": true
   },
   "source": [
    "A handy slicer (copied and modified)"
   ]
  },
  {
   "cell_type": "code",
   "execution_count": 42,
   "metadata": {
    "collapsed": true,
    "deletable": true,
    "editable": true
   },
   "outputs": [],
   "source": [
    "def slice_(x, i, n):\n",
    "    s = x[..., slice(i, i + n)]\n",
    "    return s if n > 1 else tt.addbroadcast(s, -1)"
   ]
  },
  {
   "cell_type": "markdown",
   "metadata": {
    "deletable": true,
    "editable": true
   },
   "source": [
    "Define one step of the scan function"
   ]
  },
  {
   "cell_type": "code",
   "execution_count": 43,
   "metadata": {
    "collapsed": true,
    "deletable": true,
    "editable": true
   },
   "outputs": [],
   "source": [
    "# Generator's one step update function\n",
    "def generator_step_sm(x_tm1, h_tm1, m_tm1, tau, eps):\n",
    "    \"\"\"One step of the generative decoder version.\"\"\"\n",
    "    # x_tm1 is `BxT` one-hot, h_tm1 is `batch x ...`\n",
    "    # m_tm1 is `batch`, tau, eps are scalars\n",
    "\n",
    "    # collect the inputs\n",
    "    inputs = {l_decoder_embed: x_tm1.dimshuffle(0, \"x\", 1),\n",
    "              l_decoder_mask: m_tm1.dimshuffle(0, \"x\")}\n",
    "\n",
    "    # Connect the prev variables to the the hidden and stack state feeds\n",
    "    j = 0\n",
    "    for layer in dec_rnn_layers:\n",
    "        inputs[layer.hid_init] = slice_(h_tm1, j, layer.num_units)\n",
    "        j += layer.num_units\n",
    "\n",
    "    # Get the outputs\n",
    "    outputs = [l_decoder_reembedder] + dec_rnn_layers_sliced\n",
    "\n",
    "    # propagate through the decoder column\n",
    "    logit_t, *h_t_list = lasagne.layers.get_output(outputs, inputs,\n",
    "                                                   deterministic=True)\n",
    "\n",
    "    # Pack the hidden states\n",
    "    h_t = tt.concatenate(h_t_list, axis=-1)\n",
    "    \n",
    "    # Generate the next symbol: logit_t is `Bx1xV`\n",
    "    logit_t = logit_t[:, 0]\n",
    "    prob_t = tt.nnet.softmax(logit_t)\n",
    "\n",
    "    # Gumbel-softmax sampling: Gumbel (e^{-e^{-x}}) distributed random noise\n",
    "    gumbel = -tt.log(-tt.log(theano_random_state.uniform(size=logit_t.shape) + eps) + eps)\n",
    "#     logit_t = theano.ifelse.ifelse(tt.gt(tau, 0), gumbel + logit_t, logit_t)\n",
    "#     inv_temp = theano.ifelse.ifelse(tt.gt(tau, 0), 1.0 / tau, tt.constant(1.0))\n",
    "    logit_t = tt.switch(tt.gt(tau, 0), gumbel + logit_t, logit_t)\n",
    "    inv_temp = tt.switch(tt.gt(tau, 0), 1.0 / tau, tt.constant(1.0))\n",
    "\n",
    "    # Get the softmax: x_t is `BxV`\n",
    "    x_t = tt.nnet.softmax(logit_t * inv_temp)\n",
    "\n",
    "    # Get the best symbol\n",
    "    c_t = tt.cast(tt.argmax(x_t, axis=-1), \"int8\")\n",
    "\n",
    "    # Get the estimated probability of the picked symbol.\n",
    "    p_t = prob_t[tt.arange(c_t.shape[0]), c_t]\n",
    "\n",
    "    # Compute the mask and inhibit the propagation on a stop symbol.\n",
    "    # Recurrent layers return the previous state if m_tm1 is Fasle\n",
    "    m_t = m_tm1 & tt.gt(c_t, vocab.index(\"\\x03\"))\n",
    "    c_t = tt.switch(m_t, c_t, vocab.index(\"\\x03\"))\n",
    "\n",
    "    # There is no need to freeze the states as they will be frozen by\n",
    "    # the RNN passthrough according to the mask `m_t`.\n",
    "\n",
    "    # Embed the current character.\n",
    "    x_t = tt.dot(x_t, l_embed_char.W)\n",
    "\n",
    "    return x_t, h_t, m_t, p_t, c_t"
   ]
  },
  {
   "cell_type": "markdown",
   "metadata": {
    "deletable": true,
    "editable": true
   },
   "source": [
    "Create scalar inputs to the scan loop. Also initialize the random stream."
   ]
  },
  {
   "cell_type": "code",
   "execution_count": 44,
   "metadata": {
    "collapsed": false,
    "deletable": true,
    "editable": true
   },
   "outputs": [],
   "source": [
    "theano_random_state = tt.shared_randomstreams.RandomStreams(seed=42)\n",
    "\n",
    "eps = tt.fscalar(\"generator/epsilon\")\n",
    "n_steps = tt.iscalar(\"generator/n_steps\")\n",
    "tau = tt.fscalar(\"generator/gumbel/tau\")"
   ]
  },
  {
   "cell_type": "markdown",
   "metadata": {
    "deletable": true,
    "editable": true
   },
   "source": [
    "Let's compile an autofeeding generator with softmax."
   ]
  },
  {
   "cell_type": "code",
   "execution_count": 45,
   "metadata": {
    "collapsed": false,
    "deletable": true,
    "editable": true
   },
   "outputs": [],
   "source": [
    "v_gen_input = tt.imatrix(name=\"generator/Q_input\")\n",
    "\n",
    "v_gen_embed = lasagne.layers.get_output(l_embed_char, v_gen_input)"
   ]
  },
  {
   "cell_type": "markdown",
   "metadata": {
    "deletable": true,
    "editable": true
   },
   "source": [
    "Helper functions to freeze the GRULayer's hidden input's initialization,\n",
    "if one is a parameter."
   ]
  },
  {
   "cell_type": "code",
   "execution_count": 46,
   "metadata": {
    "collapsed": true,
    "deletable": true,
    "editable": true
   },
   "outputs": [],
   "source": [
    "def GRULayer_freeze(layer, input):\n",
    "    assert isinstance(layer, GRULayer)\n",
    "    if isinstance(layer.hid_init, Layer):\n",
    "        return layer\n",
    "\n",
    "    assert not (layer.hid_init_incoming_index > 0)\n",
    "    assert isinstance(layer.hid_init, theano.compile.SharedVariable)\n",
    "\n",
    "    # Broadcast the fixed /learnt hidden init over the batch dimension\n",
    "    hid_init = tt.dot(tt.ones((input.shape[0], 1)), layer.hid_init)\n",
    "\n",
    "    # Create a fake Input Layer, which receives it as input\n",
    "    layer._old_hid_init = layer.hid_init\n",
    "    layer.hid_init = InputLayer((None, None), input_var=hid_init,\n",
    "                                name=os.path.join(layer.name,\n",
    "                                                  \"hid_init_fix\"))\n",
    "    \n",
    "    # Cache former values\n",
    "    layer._old_input_layers = layer.input_layers\n",
    "    layer._old_input_shapes = layer.input_shapes\n",
    "    layer._old_hid_init_incoming_index = layer.hid_init_incoming_index\n",
    "    \n",
    "    # Emulate hidden layer input (is in GRULayer/MergeLayer.__init__())\n",
    "    layer.input_layers.append(layer.hid_init)\n",
    "    layer.input_shapes.append(layer.hid_init.output_shape)\n",
    "    layer.hid_init_incoming_index = len(layer.input_layers) - 1\n",
    "\n",
    "    layer._layer_frozen = True\n",
    "    return layer"
   ]
  },
  {
   "cell_type": "markdown",
   "metadata": {
    "deletable": true,
    "editable": true
   },
   "source": [
    "Freeze the hidden inputs of the decoder layers, which do not tap into the encoder."
   ]
  },
  {
   "cell_type": "code",
   "execution_count": 47,
   "metadata": {
    "collapsed": true,
    "deletable": true,
    "editable": true
   },
   "outputs": [],
   "source": [
    "for layer in dec_rnn_layers:\n",
    "    GRULayer_freeze(layer, v_gen_input)"
   ]
  },
  {
   "cell_type": "markdown",
   "metadata": {
    "deletable": true,
    "editable": true
   },
   "source": [
    "Readout the last state from the encoder."
   ]
  },
  {
   "cell_type": "code",
   "execution_count": 48,
   "metadata": {
    "collapsed": false,
    "deletable": true,
    "editable": true
   },
   "outputs": [],
   "source": [
    "inputs = {l_encoder_embed: v_gen_embed,\n",
    "          l_encoder_mask: tt.ge(v_gen_input, 0)}\n",
    "outputs = [l.hid_init for l in dec_rnn_layers]\n",
    "\n",
    "dec_hid_inits = lasagne.layers.get_output(outputs, inputs,\n",
    "                                          deterministic=True)"
   ]
  },
  {
   "cell_type": "markdown",
   "metadata": {
    "deletable": true,
    "editable": true
   },
   "source": [
    "Prepare the initial values."
   ]
  },
  {
   "cell_type": "code",
   "execution_count": 49,
   "metadata": {
    "collapsed": true,
    "deletable": true,
    "editable": true
   },
   "outputs": [],
   "source": [
    "h_0 = tt.concatenate(dec_hid_inits, axis=-1)\n",
    "\n",
    "x_0 = tt.fill(tt.zeros((v_gen_input.shape[0],), dtype=\"int32\"),\n",
    "              vocab.index(\"\\x02\"))\n",
    "x_0 = lasagne.layers.get_output(l_embed_char, x_0)\n",
    "\n",
    "m_0 = tt.ones((v_gen_input.shape[0],), 'bool')"
   ]
  },
  {
   "cell_type": "markdown",
   "metadata": {
    "deletable": true,
    "editable": true
   },
   "source": [
    "Add a scan op and compile"
   ]
  },
  {
   "cell_type": "code",
   "execution_count": 50,
   "metadata": {
    "collapsed": false,
    "deletable": true,
    "editable": true,
    "scrolled": false
   },
   "outputs": [],
   "source": [
    "result, updates = theano.scan(generator_step_sm, sequences=None, n_steps=n_steps,\n",
    "                              outputs_info=[x_0, h_0, m_0, None, None],\n",
    "                              strict=False, return_list=True,\n",
    "                              non_sequences=[tau, eps], go_backwards=False,\n",
    "                              name=\"generator/scan\")\n",
    "x_t, h_t, m_t, p_t, c_t = [r.swapaxes(0, 1) for r in result]\n",
    "\n",
    "compile_mode = theano.Mode(optimizer=\"fast_run\", linker=\"cvm\")\n",
    "op_generate = theano.function([v_gen_input, n_steps, tau],\n",
    "                              [c_t, h_t, m_t, p_t],\n",
    "                              updates=updates, givens={eps: floatX(1e-20)},\n",
    "                              mode=compile_mode)"
   ]
  },
  {
   "cell_type": "markdown",
   "metadata": {
    "deletable": true,
    "editable": true
   },
   "source": [
    "This function undoes the frrezing by the previous one"
   ]
  },
  {
   "cell_type": "code",
   "execution_count": 51,
   "metadata": {
    "collapsed": true,
    "deletable": true,
    "editable": true
   },
   "outputs": [],
   "source": [
    "def GRULayer_unfreeze(layer):\n",
    "    assert isinstance(layer, GRULayer)\n",
    "    freeze_attr = [\"_layer_frozen\",\n",
    "                   \"_old_input_layers\", \"_old_input_shapes\",\n",
    "                   \"_old_hid_init_incoming_index\", \"_old_hid_init\"]\n",
    "    if not all(hasattr(layer, a) for a  in freeze_attr):\n",
    "        return layer\n",
    "\n",
    "    assert layer._layer_frozen\n",
    "    assert isinstance(layer.hid_init, Layer)\n",
    "    assert layer.hid_init.name.endswith(\"/hid_init_fix\")\n",
    "\n",
    "    # Thawe the frozen hidden input\n",
    "    layer.hid_init = layer._old_hid_init\n",
    "    layer.input_layers = layer._old_input_layers\n",
    "    layer.input_shapes = layer._old_input_shapes\n",
    "    layer.hid_init_incoming_index = layer._old_hid_init_incoming_index\n",
    "    \n",
    "    for attr in freeze_attr:\n",
    "        delattr(layer, attr)\n",
    "\n",
    "    return layer"
   ]
  },
  {
   "cell_type": "markdown",
   "metadata": {
    "deletable": true,
    "editable": true
   },
   "source": [
    "Unfreeze the decoder's layer, so that those which do not tap in to the encoder,\n",
    "may continue to use / learn their own `hid_init` state."
   ]
  },
  {
   "cell_type": "code",
   "execution_count": 52,
   "metadata": {
    "collapsed": true,
    "deletable": true,
    "editable": true
   },
   "outputs": [],
   "source": [
    "for layer in dec_rnn_layers:\n",
    "    GRULayer_unfreeze(layer)"
   ]
  },
  {
   "cell_type": "markdown",
   "metadata": {
    "deletable": true,
    "editable": true
   },
   "source": [
    "A generator procedure, which automatically select the best replies (lowest perplexity)."
   ]
  },
  {
   "cell_type": "code",
   "execution_count": 53,
   "metadata": {
    "collapsed": true,
    "deletable": true,
    "editable": true
   },
   "outputs": [],
   "source": [
    "def generate(questions, n_steps, n_samples=10, tau=0, seed=None):\n",
    "    results = []\n",
    "    for question in questions:\n",
    "        # Replicate the query\n",
    "        question = np.repeat(question[np.newaxis], n_samples, axis=0)\n",
    "        if seed is not None:\n",
    "            theano_random_state.seed(seed)\n",
    "        x_t, h_t, m_t, p_t = op_generate(question, n_steps, tau)\n",
    "\n",
    "        # may produce NaN, but they are shifted in the back by arsort\n",
    "        perplexity, n_chars = (- np.log2(p_t) * m_t).sum(axis=-1), m_t.sum(axis=-1)\n",
    "        perplexity /= n_chars\n",
    "\n",
    "        result = []\n",
    "        for i in perplexity.argsort():\n",
    "            reply = \"\".join(map(vocab.__getitem__, x_t[i, :n_chars[i]]))\n",
    "            result.append((reply, perplexity[i]))\n",
    "        results.append(result)\n",
    "    return results"
   ]
  },
  {
   "cell_type": "markdown",
   "metadata": {
    "deletable": true,
    "editable": true
   },
   "source": [
    "<br/>"
   ]
  },
  {
   "cell_type": "markdown",
   "metadata": {
    "deletable": true,
    "editable": true
   },
   "source": [
    "### Train the Bot"
   ]
  },
  {
   "cell_type": "code",
   "execution_count": 54,
   "metadata": {
    "collapsed": true,
    "deletable": true,
    "editable": true
   },
   "outputs": [],
   "source": [
    "def sample_qa():\n",
    "    sample = qa_pairs[random_state.choice(len(qa_pairs), 3)]\n",
    "    enc, dec = retrieve_sentences(sample)\n",
    "\n",
    "    replies = generate(as_matrix(enc), 140, tau=2**-5, n_samples=20)\n",
    "    for e, d, r in zip(enc, dec, replies):\n",
    "        tqdm.tqdm.write(\"|%-40.40s | %-30.30s | %-30.30s|\" % (e[1:-1], d[1:-1], r[0][0]))"
   ]
  },
  {
   "cell_type": "markdown",
   "metadata": {
    "deletable": true,
    "editable": true
   },
   "source": [
    "Set the batch size and the number of epochs."
   ]
  },
  {
   "cell_type": "code",
   "execution_count": 70,
   "metadata": {
    "collapsed": true,
    "deletable": true,
    "editable": true
   },
   "outputs": [],
   "source": [
    "batch_size, n_epochs = 160, 5\n",
    "epoch, loss_val_hist = 0, []\n",
    "\n",
    "model_path = os.path.join(\"pickles\", time.strftime(\"%Y%m%d-%H%M%S\"))\n",
    "if not os.path.exists(model_path):\n",
    "    os.makedirs(model_path)\n",
    "\n",
    "filename_fmt_ = os.path.join(model_path, \"experimental_mdl_epoch-%02d%s.pkl\")"
   ]
  },
  {
   "cell_type": "markdown",
   "metadata": {
    "deletable": true,
    "editable": true
   },
   "source": [
    "Now let's train the shit!"
   ]
  },
  {
   "cell_type": "code",
   "execution_count": null,
   "metadata": {
    "collapsed": false,
    "deletable": true,
    "editable": true,
    "scrolled": false
   },
   "outputs": [
    {
     "name": "stderr",
     "output_type": "stream",
     "text": [
      "  0%|          | 0/1386 [00:00<?, ?it/s]"
     ]
    },
    {
     "name": "stdout",
     "output_type": "stream",
     "text": [
      "|All right. Now the second one.           | First my girls. I get my girls | D5G4lI'TYOa?VUKa2 vsyAXxCXwik8|\n",
      "|Oh. No. Strictly dryland.                | Too bad. You could use some su | mf5k3,wv.joghru6c9PXfvm20v5fv7|\n",
      "|Who was that man?                        | It was nobody. Ah... he's a po | -R6P3 bX\"JdW                  |\n"
     ]
    },
    {
     "name": "stderr",
     "output_type": "stream",
     "text": [
      "  7%|▋         | 100/1386 [02:12<26:52,  1.25s/it, 3.185]"
     ]
    },
    {
     "name": "stdout",
     "output_type": "stream",
     "text": [
      "|You ever see it before...like mebbe on a | Yes!..Yes, I remember!..Have t | Whh rtyl                      |\n",
      "|Would you be prepared to handle this for | Are you proposing to transfer  | Ior' hhagoh                   |\n",
      "|Aaah, it's the same as always...poor mop | I've been trying to get throug | Wol aee e m                   |\n"
     ]
    },
    {
     "name": "stderr",
     "output_type": "stream",
     "text": [
      " 14%|█▍        | 200/1386 [04:28<27:10,  1.38s/it, 2.592]"
     ]
    },
    {
     "name": "stdout",
     "output_type": "stream",
     "text": [
      "|No, no! I haven't heard any of this. I n | All my things? All the eightee | I laslate                     |\n",
      "|What, and leave you here all by your lon | Uh...                          | Yhat's in dhene tocget, I lebe|\n",
      "|Creasy. Just call me Creasy.             | Creasy...                      | Wowe you asd. Ind foren?      |\n"
     ]
    },
    {
     "name": "stderr",
     "output_type": "stream",
     "text": [
      " 22%|██▏       | 300/1386 [06:39<26:08,  1.44s/it, 2.063]"
     ]
    },
    {
     "name": "stdout",
     "output_type": "stream",
     "text": [
      "|Looks at her skeptically doesn't say a w | I did it.                      | Whell you now?                |\n",
      "|The normal amount of build up in your ar | Can it kill me?                | What do?                      |\n",
      "|Before Meeks disappeared he was popping  | Bullshit. Where would a two-bi | That's that tous?             |\n"
     ]
    },
    {
     "name": "stderr",
     "output_type": "stream",
     "text": [
      " 29%|██▉       | 400/1386 [08:48<22:54,  1.39s/it, 1.835]"
     ]
    },
    {
     "name": "stdout",
     "output_type": "stream",
     "text": [
      "|Oh my God. Aw, God.                      | The shutdown must have turned  | Yes.                          |\n",
      "|Sera...                                  | Let's face it, Ben, we're havi | Yeah, what?                   |\n",
      "|A hundred and fifty-six. Some'll charge  | A real bargain.                | That's the word wints.        |\n"
     ]
    },
    {
     "name": "stderr",
     "output_type": "stream",
     "text": [
      " 36%|███▌      | 500/1386 [11:01<19:09,  1.30s/it, 1.705]"
     ]
    },
    {
     "name": "stdout",
     "output_type": "stream",
     "text": [
      "|You, me and Harry?                       | You, me and Harry. He's asleep | You can call.                 |\n",
      "|You're getting cold feet about this.     | I was just thinking what Ma wo | Oh... you have no mool!       |\n",
      "|You've been off in daisyland, honey. Eve | But a priest...?               | He don't...                   |\n"
     ]
    },
    {
     "name": "stderr",
     "output_type": "stream",
     "text": [
      " 43%|████▎     | 600/1386 [13:12<17:08,  1.31s/it, 1.623]"
     ]
    },
    {
     "name": "stdout",
     "output_type": "stream",
     "text": [
      "|General Jim Beam, then.                  | Nope.                          | Yeah.                         |\n",
      "|I mailed it to you on Wednesday.         | Well, today's Saturday and it' | I don't. If then there me.    |\n",
      "|No.                                      | What is she, at work?          | Yeah?                         |\n"
     ]
    },
    {
     "name": "stderr",
     "output_type": "stream",
     "text": [
      " 51%|█████     | 700/1386 [15:25<16:22,  1.43s/it, 1.571]"
     ]
    },
    {
     "name": "stdout",
     "output_type": "stream",
     "text": [
      "|Yes.                                     | What is it?                    | Do you tell me witer.         |\n",
      "|Look, you wanna be elite? You gotta do a | Oh yeah, you want a seriously  | What? What are you hard to go?|\n",
      "|Hell...                                  | I was bored. I'd done everythi | What?                         |\n"
     ]
    },
    {
     "name": "stderr",
     "output_type": "stream",
     "text": [
      " 58%|█████▊    | 800/1386 [17:37<11:53,  1.22s/it, 1.531]"
     ]
    },
    {
     "name": "stdout",
     "output_type": "stream",
     "text": [
      "|Am I on that case, sir...?               | No.                            | You're know about him?        |\n",
      "|It means who's side are you on?          | You didn't ask me to meet you  | Yeah. You hate guys this famil|\n",
      "|\"You don't care about anything except yo | love them so much that they ou | What's happen? Or that right? |\n"
     ]
    },
    {
     "name": "stderr",
     "output_type": "stream",
     "text": [
      " 65%|██████▍   | 900/1386 [19:49<11:33,  1.43s/it, 1.500]"
     ]
    },
    {
     "name": "stdout",
     "output_type": "stream",
     "text": [
      "|Is it real?                              | Or a fake?                     | I don't know is shit.         |\n",
      "|Poor color composition, lousy use of spa | What does?                     | Thanks.                       |\n",
      "|What band?                               | The band that found me and ask | You've started to you thank he|\n"
     ]
    },
    {
     "name": "stderr",
     "output_type": "stream",
     "text": [
      " 72%|███████▏  | 1000/1386 [22:00<08:24,  1.31s/it, 1.475]"
     ]
    },
    {
     "name": "stdout",
     "output_type": "stream",
     "text": [
      "|How's the job coming, Bob?               | Frankly, sir, it stinks. I hav | Oh, you couldn't.             |\n",
      "|Beth -                                   | You did, didn't you?           | What do that?                 |\n",
      "|How was your trip?                       | Nice... Very interesting... Gr | I'm sorry. For!               |\n"
     ]
    },
    {
     "name": "stderr",
     "output_type": "stream",
     "text": [
      " 79%|███████▉  | 1100/1386 [24:09<06:28,  1.36s/it, 1.453]"
     ]
    },
    {
     "name": "stdout",
     "output_type": "stream",
     "text": [
      "|Where were you going when you got in tha | I don't remember. Not so very  | I don't mean.                 |\n",
      "|Right?! Mama, was it right for you to si | Did you run into Johnnie in Ne | We've been some fault somewher|\n",
      "|Sir, I... come to beg you to confess all | Will he show mercy to my count | Okay.                         |\n"
     ]
    },
    {
     "name": "stderr",
     "output_type": "stream",
     "text": [
      " 87%|████████▋ | 1200/1386 [26:19<03:53,  1.26s/it, 1.438]"
     ]
    },
    {
     "name": "stdout",
     "output_type": "stream",
     "text": [
      "|Then why does he stay? My scouts say he  | He waits. For you. He says he  | Even have their time?         |\n",
      "|If you don't - can you still afford to g | ... I don't know. Probably not | It's all...                   |\n",
      "|But it did. I was there. This old man sa | Did you say, \"I do\"?           | Maybe over to you, we did it..|\n"
     ]
    },
    {
     "name": "stderr",
     "output_type": "stream",
     "text": [
      " 94%|█████████▍| 1300/1386 [28:31<01:45,  1.23s/it, 1.419]"
     ]
    },
    {
     "name": "stdout",
     "output_type": "stream",
     "text": [
      "|Okay?                                    | Unbelievably handsome. You loo | Nothing, good on. It wasn't on|\n",
      "|Hey man, why don't you fucking listen oc | And please don't call her my m | What is it like me?           |\n",
      "|Well, he passed on. He was killed in a m | He was? Gee, that's too bad. I | I don't know. That's out!     |\n"
     ]
    },
    {
     "name": "stderr",
     "output_type": "stream",
     "text": [
      "100%|██████████| 1386/1386 [30:25<00:00,  1.39s/it, 1.412]\n",
      "  0%|          | 0/1386 [00:00<?, ?it/s]"
     ]
    },
    {
     "name": "stdout",
     "output_type": "stream",
     "text": [
      "|Anyway, Major, why should he leave his c | But what... before that turns  | Yeah.                         |\n",
      "|Did you find your father?                | Didn't see 'im, Mama. The othe | I can't stand him'ore.        |\n",
      "|Really?                                  | Really.                        | What's the him?               |\n"
     ]
    },
    {
     "name": "stderr",
     "output_type": "stream",
     "text": [
      "  7%|▋         | 100/1386 [02:13<30:14,  1.41s/it, 1.399]"
     ]
    },
    {
     "name": "stdout",
     "output_type": "stream",
     "text": [
      "|How did she die? I wanna know.           | You don't wanna know.          | What?                         |\n",
      "|The look on their faces when one walks i | I wouldn't know.               | You didn't. What is that hard?|\n",
      "|Maybe he'll get tubed.                   | What?                          | So your everyone's going to ha|\n"
     ]
    },
    {
     "name": "stderr",
     "output_type": "stream",
     "text": [
      " 14%|█▍        | 200/1386 [04:27<26:02,  1.32s/it, 1.383]"
     ]
    },
    {
     "name": "stdout",
     "output_type": "stream",
     "text": [
      "|Not the focus.                           | You know what I mean.          | I mean, but I mean.           |\n",
      "|What? Are you ashamed that we did it?    | No...                          | Like you to have a few man.   |\n",
      "|What?                                    | The rings?                     | What?                         |\n"
     ]
    },
    {
     "name": "stderr",
     "output_type": "stream",
     "text": [
      " 22%|██▏       | 300/1386 [06:35<24:30,  1.35s/it, 1.373]"
     ]
    },
    {
     "name": "stdout",
     "output_type": "stream",
     "text": [
      "|Mom, tell him I'm not going. You already | You have everything?           | Yes.                          |\n",
      "|Not because of Ned.                      | Of course not- -but isn't it a | I mean I'd have your alson my |\n",
      "|C'mon, Forsythe. Are there any more on t | No. Dotty's the last.          | No, we don't...               |\n"
     ]
    },
    {
     "name": "stderr",
     "output_type": "stream",
     "text": [
      " 29%|██▉       | 400/1386 [08:51<18:48,  1.14s/it, 1.365]"
     ]
    },
    {
     "name": "stdout",
     "output_type": "stream",
     "text": [
      "|Frightened? You are talking to a man who | Ohhh!                          | I didn't hear your finger.    |\n",
      "|Actually, I'm free Sunday.               | Now.                           | So what do you really also?   |\n",
      "|Thanks. I suppose all this comes under t | We've had plenty of it the las | What?                         |\n"
     ]
    },
    {
     "name": "stderr",
     "output_type": "stream",
     "text": [
      " 36%|███▌      | 500/1386 [11:06<20:25,  1.38s/it, 1.363]"
     ]
    },
    {
     "name": "stdout",
     "output_type": "stream",
     "text": [
      "|What are all them books?                 | Different ones. One's the Bibl | What?                         |\n",
      "|Daddy. Daddy, please...                  | Jim... for godsake!            | What?                         |\n",
      "|No, I mean - about my client.            | Oh - we'll have to do somethin | Thank you...                  |\n"
     ]
    },
    {
     "name": "stderr",
     "output_type": "stream",
     "text": [
      " 43%|████▎     | 600/1386 [13:19<17:05,  1.30s/it, 1.352]"
     ]
    },
    {
     "name": "stdout",
     "output_type": "stream",
     "text": [
      "|I work in a shitty video store. I want t | Are you open?                  | What happeneed?               |\n",
      "|You're OK by me.                         | Dr Scott I'm sorry about your  | Yes, sir.                     |\n",
      "|I knew what he wanted, and I didn't want | Fuckin' walking around with a  | Where are you going?          |\n"
     ]
    },
    {
     "name": "stderr",
     "output_type": "stream",
     "text": [
      " 51%|█████     | 700/1386 [15:30<14:28,  1.27s/it, 1.352]"
     ]
    },
    {
     "name": "stdout",
     "output_type": "stream",
     "text": [
      "|What? What do you mean you don't belong  | Mrph mprhm mm rmph!            | What are you that day?        |\n",
      "|You mean I can't even get outa here?     | Not tonight you can't. Want to | Yes.                          |\n",
      "|Are you alright?                         | Just fine. I'll do the driving | Everyone seeing I don't unders|\n"
     ]
    },
    {
     "name": "stderr",
     "output_type": "stream",
     "text": [
      " 58%|█████▊    | 800/1386 [17:40<13:33,  1.39s/it, 1.343]"
     ]
    },
    {
     "name": "stdout",
     "output_type": "stream",
     "text": [
      "|Yeah. I got out.                         | What about you?                | What's your crimine?          |\n",
      "|How do you work it with the key?         | Well, usually I slip it to the | I don't know. And a funny inte|\n",
      "|You mean -                               | You found the body. She was on | Yeah, you're deiding other roo|\n"
     ]
    },
    {
     "name": "stderr",
     "output_type": "stream",
     "text": [
      " 65%|██████▍   | 900/1386 [19:55<10:49,  1.34s/it, 1.339]"
     ]
    },
    {
     "name": "stdout",
     "output_type": "stream",
     "text": [
      "|It's just a feeling. Don't you sense it, | What? What am I supposed to se | I promise.                    |\n",
      "|Chauncey! Chauncey!                      | Hello, Eve.                    | All right. But afterendered.  |\n",
      "|No. It happened when Graham went to see  | What's the bottom line?        | Why are you talking about?    |\n"
     ]
    },
    {
     "name": "stderr",
     "output_type": "stream",
     "text": [
      " 72%|███████▏  | 1000/1386 [21:50<07:20,  1.14s/it, 1.286]"
     ]
    },
    {
     "name": "stdout",
     "output_type": "stream",
     "text": [
      "|Maybe it went out. Should someone check  | Yeah, you do that, Lenny.      | What're you doing?            |\n",
      "|Listen to what?                          | I need your help and I thin yo | I don't know.                 |\n",
      "|...shivering...                          | ...And you're just looking at  | We're doing here.             |\n"
     ]
    },
    {
     "name": "stderr",
     "output_type": "stream",
     "text": [
      " 79%|███████▉  | 1100/1386 [24:03<06:52,  1.44s/it, 1.286]"
     ]
    },
    {
     "name": "stdout",
     "output_type": "stream",
     "text": [
      "|Please...                                | Don't... don't do this... plea | I'm tired to able to do it.   |\n",
      "|You'll have no need for that, Highlander | Since we hardly know each othe | Sometimes I looked like you...|\n",
      "|You can stay here if you like.           | We have to get to Sonora. Ther | Thank you.                    |\n"
     ]
    },
    {
     "name": "stderr",
     "output_type": "stream",
     "text": [
      " 87%|████████▋ | 1200/1386 [26:12<03:33,  1.15s/it, 1.282]"
     ]
    },
    {
     "name": "stdout",
     "output_type": "stream",
     "text": [
      "|Big. Frederick, show him the oils.       | They're in the basement.       | What are you talkin' arrection|\n",
      "|John. John...                            | Will you please wait a second. | I think you think you have any|\n",
      "|Yeah, it's good to get together.         | Do you mind if I raise a littl | But you had no matter.        |\n"
     ]
    },
    {
     "name": "stderr",
     "output_type": "stream",
     "text": [
      " 94%|█████████▍| 1300/1386 [28:26<02:08,  1.49s/it, 1.281]"
     ]
    },
    {
     "name": "stdout",
     "output_type": "stream",
     "text": [
      "|Has it changed since the last time you w | The trees are taller.          | Yeah.                         |\n",
      "|What is ridiculous? Wolfi has many admir | But you can't take her without | Would you do something?       |\n",
      "|What time do you get off work, my child? | I'm sorry, sir, I'm engaged to | I could be crazy.             |\n"
     ]
    },
    {
     "name": "stderr",
     "output_type": "stream",
     "text": [
      "100%|██████████| 1386/1386 [30:22<00:00,  1.42s/it, 1.281]\n",
      "  0%|          | 0/1386 [00:00<?, ?it/s]"
     ]
    },
    {
     "name": "stdout",
     "output_type": "stream",
     "text": [
      "|Such a nice ass.                         | And a lonely ass.              | What do you want to go home?  |\n",
      "|Hunh-uh. Check the bread. He spreads it  | He probably sells insurance. O | How are you smooth?           |\n",
      "|Sally Doneghy, now who is that?          | One lousy letter eighteen mont | Nothing.                      |\n"
     ]
    },
    {
     "name": "stderr",
     "output_type": "stream",
     "text": [
      "  7%|▋         | 100/1386 [02:10<30:11,  1.41s/it, 1.269]"
     ]
    },
    {
     "name": "stdout",
     "output_type": "stream",
     "text": [
      "|A little place with cabins. The somethin | And how long are you here for? | I don't think about it?       |\n",
      "|This is ogre's magic.                    | Blackheart?                    | You saw -0... Wait a minute an|\n",
      "|What do you want from me?                | Strength. Westerburg doesn't n | They're with a great party.   |\n"
     ]
    },
    {
     "name": "stderr",
     "output_type": "stream",
     "text": [
      " 14%|█▍        | 200/1386 [04:24<26:23,  1.34s/it, 1.268]"
     ]
    },
    {
     "name": "stdout",
     "output_type": "stream",
     "text": [
      "|He's free. His time's up. That's the rul | Signs?                         | Did you contract him with the |\n",
      "|But all men like me, Lois. I'm very rich | ... And very naive!            | I didn't need to see hunched y|\n",
      "|It's very difficult to put into a nutshe | Romance!                       | Thank you out.                |\n"
     ]
    },
    {
     "name": "stderr",
     "output_type": "stream",
     "text": [
      " 22%|██▏       | 300/1386 [06:31<24:15,  1.34s/it, 1.271]"
     ]
    },
    {
     "name": "stdout",
     "output_type": "stream",
     "text": [
      "|C'mon, c'mon, tell the truth...c'mon.    | They'll kill me.               | What mak?                     |\n",
      "|Do I?                                    | You took it! All of it! And wh | What do you want to le exactly|\n",
      "|Right.                                   | Do you have your masters?      | What did you lear everything? |\n"
     ]
    },
    {
     "name": "stderr",
     "output_type": "stream",
     "text": [
      " 29%|██▉       | 400/1386 [08:41<23:55,  1.46s/it, 1.269]"
     ]
    },
    {
     "name": "stdout",
     "output_type": "stream",
     "text": [
      "|Piss off, Dave!                          | Tough guy, huh? Are you going  | What if I here you want to go?|\n",
      "|Your Ranger's on the garbage pile, Happy | Shut up! You've got the man pi | I don't know.                 |\n",
      "|What's it about?                         | A priest who dies.             | Oh no! I won't have to save yo|\n"
     ]
    },
    {
     "name": "stderr",
     "output_type": "stream",
     "text": [
      " 36%|███▌      | 500/1386 [10:53<17:31,  1.19s/it, 1.264]"
     ]
    },
    {
     "name": "stdout",
     "output_type": "stream",
     "text": [
      "|So am I. Just trying to get by.          | No, you're just trying to get  | Where are you?                |\n",
      "|I think maybe you'd better deliver him.  | Oh. Oh, well, all right.       | I'm sorry.                    |\n",
      "|I have submitted my resignation to Bisho | But - why?                     | Anything else?                |\n"
     ]
    },
    {
     "name": "stderr",
     "output_type": "stream",
     "text": [
      " 43%|████▎     | 600/1386 [13:08<19:04,  1.46s/it, 1.264]"
     ]
    },
    {
     "name": "stdout",
     "output_type": "stream",
     "text": [
      "|I don't play for no team.                | Come on, jerky, you can tell m | You let me care other victory,|\n",
      "|That's good. Cools you right off. I saw  | I'm sorry. I didn't mean to.   | What have you only have someth|\n",
      "|Don't cry.                               | I can't help it. You don't kno | That's because I'm good... I'l|\n"
     ]
    },
    {
     "name": "stderr",
     "output_type": "stream",
     "text": [
      " 51%|█████     | 700/1386 [15:20<15:17,  1.34s/it, 1.261]"
     ]
    },
    {
     "name": "stdout",
     "output_type": "stream",
     "text": [
      "|What?                                    | I'm just a bit of a wreck. \"I  | You're the one what you didn't|\n",
      "|Really?                                  | And you know what else?        | Yes.                          |\n",
      "|Yeah.                                    | It's Cloudy. Open the door.    | Believe me, how do you know so|\n"
     ]
    },
    {
     "name": "stderr",
     "output_type": "stream",
     "text": [
      " 58%|█████▊    | 800/1386 [17:30<11:26,  1.17s/it, 1.267]"
     ]
    },
    {
     "name": "stdout",
     "output_type": "stream",
     "text": [
      "|Forgive me, Father, for I have sinned. T | Prepare to receive the Act of  | I said I was running in that w|\n",
      "|Where's Mary?                            | Oh, well, I can't...           | Five minutes.                 |\n",
      "|It's all real. Look. The storage tanks f | But Kirk...                    | What?                         |\n"
     ]
    },
    {
     "name": "stderr",
     "output_type": "stream",
     "text": [
      " 65%|██████▍   | 900/1386 [19:41<08:46,  1.08s/it, 1.261]"
     ]
    },
    {
     "name": "stdout",
     "output_type": "stream",
     "text": [
      "|Ah. \"Who\", may I ask, are you going \"as\" | You'll never guess.            | Yeah.                         |\n",
      "|Then I'll transpose.                     | On a variation, yes - but it m | Are you turned the wife?      |\n",
      "|You young'uns worry about weapons, I'm t | Oh? And what's that?           | I don't think of you at that! |\n"
     ]
    },
    {
     "name": "stderr",
     "output_type": "stream",
     "text": [
      " 72%|███████▏  | 1000/1386 [21:59<08:23,  1.31s/it, 1.261]"
     ]
    },
    {
     "name": "stdout",
     "output_type": "stream",
     "text": [
      "|Hit me with your best shot.              | I betrayed a man. A good man.  | Really? I told you that.      |\n",
      "|...What difference would...              | These people play very rough.  | What do you want that?        |\n",
      "|Just walked out on me - quit - threw tha | The nerve.                     | Goodnight, you don't.         |\n"
     ]
    },
    {
     "name": "stderr",
     "output_type": "stream",
     "text": [
      " 79%|███████▉  | 1100/1386 [24:11<06:39,  1.40s/it, 1.258]"
     ]
    },
    {
     "name": "stdout",
     "output_type": "stream",
     "text": [
      "|Hey.                                     | This guy's a fat-assed Rotaria | Because of shit.              |\n",
      "|Somehow this winds up being my fault? Yo | Come on, I'm your biggest supp | I'm sorry.                    |\n",
      "|Tell him \"Bride\" is in pre- production.  | Ed, the landlord doesn't care. | Where did you do that?!       |\n"
     ]
    },
    {
     "name": "stderr",
     "output_type": "stream",
     "text": [
      " 87%|████████▋ | 1200/1386 [26:24<03:57,  1.28s/it, 1.256]"
     ]
    },
    {
     "name": "stdout",
     "output_type": "stream",
     "text": [
      "|There are none here.                     | Where are they?                | It's okay.                    |\n",
      "|He's dead isn't he?                      | Marie - look at me - there's n | I didn't. That's good y thing.|\n",
      "|She doesn't have a Rolodex.              | I'll bet she has a call caddy  | Well... that's what I want me.|\n"
     ]
    },
    {
     "name": "stderr",
     "output_type": "stream",
     "text": [
      " 94%|█████████▍| 1300/1386 [28:36<01:52,  1.31s/it, 1.255]"
     ]
    },
    {
     "name": "stdout",
     "output_type": "stream",
     "text": [
      "|Hey, go easy on the salt, will ya? We're | Salt's good for you, Ted. Help | What do you think you see that|\n",
      "|Glenn, I know your life history, who you | You're gonna bust me for picki | I thought you don't.          |\n",
      "|Grace told me you have a country house i | It is. It's lovely.            | What are you remember? Bring i|\n"
     ]
    },
    {
     "name": "stderr",
     "output_type": "stream",
     "text": [
      "100%|██████████| 1386/1386 [30:28<00:00,  1.31s/it, 1.257]\n",
      "  0%|          | 0/1386 [00:00<?, ?it/s]"
     ]
    },
    {
     "name": "stdout",
     "output_type": "stream",
     "text": [
      "|Ah.                                      | I bet you'd like to touch them | I told you why what I comes hi|\n",
      "|And it's umyu call. I promised them wate | Our weekend. At that sweet lit | What is it?                   |\n",
      "|Stu... It's a upartyu.                   | Mr. Hypnos - sir - I needed to | We agreed from where they had |\n"
     ]
    },
    {
     "name": "stderr",
     "output_type": "stream",
     "text": [
      "  7%|▋         | 100/1386 [02:13<28:09,  1.31s/it, 1.245]"
     ]
    },
    {
     "name": "stdout",
     "output_type": "stream",
     "text": [
      "|Mr Rothstein. Your people never will und | No problem. Sorry.             | I have to work with you.      |\n",
      "|They're out of Glenlivet.                | What else is going on?         | I'll give you this.           |\n",
      "|But, Elaine -                            | Where is the car?              | How do you know?              |\n"
     ]
    },
    {
     "name": "stderr",
     "output_type": "stream",
     "text": [
      " 14%|█▍        | 200/1386 [04:24<25:22,  1.28s/it, 1.238]"
     ]
    },
    {
     "name": "stdout",
     "output_type": "stream",
     "text": [
      "|I got a surprise for you.                | What?                          | What is happened?             |\n",
      "|What happened to her?                    | What do you mean? She's not he | Nothing is true.              |\n",
      "|Yes.                                     | Don't accept any more.         | I don't know...               |\n"
     ]
    },
    {
     "name": "stderr",
     "output_type": "stream",
     "text": [
      " 22%|██▏       | 300/1386 [06:37<23:05,  1.28s/it, 1.243]"
     ]
    },
    {
     "name": "stdout",
     "output_type": "stream",
     "text": [
      "|Why for? Them boys are real player hater | It's a long story. Right now w | Whyre we have used to drive?  |\n",
      "|Frank's the best pilot in the program.   | I'm so excited, Simon.         | I don't know  the bastard.    |\n",
      "|Tired?                                   | Worried!                       | No. That's what it maybe...   |\n"
     ]
    },
    {
     "name": "stderr",
     "output_type": "stream",
     "text": [
      " 29%|██▉       | 400/1386 [08:46<22:48,  1.39s/it, 1.246]"
     ]
    },
    {
     "name": "stdout",
     "output_type": "stream",
     "text": [
      "|Dr. Thompson...?                         | It was good of you to meet...  | I understand.                 |\n",
      "|But Richardson?                          | Richardson is a fine student.  | There's nothing you. Thirty ye|\n",
      "|That's hardly a substitute.              | you'll need one more hit.      | I don't know.                 |\n"
     ]
    },
    {
     "name": "stderr",
     "output_type": "stream",
     "text": [
      " 36%|███▌      | 500/1386 [10:59<17:47,  1.20s/it, 1.240]"
     ]
    },
    {
     "name": "stdout",
     "output_type": "stream",
     "text": [
      "|You can't do this! Max! Max!... I can't  | That's between you and yoursel | Do you want for?              |\n",
      "|Yes...                                   | I'm taking you back.           | Do you have to do with the mon|\n",
      "|Anything I can do back here?             | No.                            | I don't know. I know.         |\n"
     ]
    },
    {
     "name": "stderr",
     "output_type": "stream",
     "text": [
      " 43%|████▎     | 600/1386 [13:11<16:26,  1.26s/it, 1.245]"
     ]
    },
    {
     "name": "stdout",
     "output_type": "stream",
     "text": [
      "|Hello. You're back again, huh?           | yeah, yes, hi, hello.          | They're going to tell him.    |\n",
      "|Whatever. Famous. To where you can do yo | Ummm... Four years. Six to get | We don't think this place to g|\n",
      "|That's it. I'm done.                     | That was fast. Well, did you a | That's the only one this is th|\n"
     ]
    },
    {
     "name": "stderr",
     "output_type": "stream",
     "text": [
      " 51%|█████     | 700/1386 [15:23<14:22,  1.26s/it, 1.243]"
     ]
    },
    {
     "name": "stdout",
     "output_type": "stream",
     "text": [
      "|Well, I had a good time up to a point.   | Wesley can be very entertainin | You're sorry, Buddy. Where wer|\n",
      "|...Well, you know, not counting the firs | Thanks for clarifying that.    | I don't want you to have to pu|\n",
      "|If I'd gone public with this yesterday A | Oh GOD Brent, is there anythin | Where'd you tell me?          |\n"
     ]
    },
    {
     "name": "stderr",
     "output_type": "stream",
     "text": [
      " 58%|█████▊    | 800/1386 [17:35<12:59,  1.33s/it, 1.241]"
     ]
    },
    {
     "name": "stdout",
     "output_type": "stream",
     "text": [
      "|They even cure nonsense, Miss Betsy. Mam | You mean Mama Rose was like Mr | Just like that.               |\n",
      "|Please.                                  | Why did you have to come to Ca | So, what are you?             |\n",
      "|So tell me. Where's Z?                   | I...I have no idea, sir.       | Just taken care of it.        |\n"
     ]
    },
    {
     "name": "stderr",
     "output_type": "stream",
     "text": [
      " 65%|██████▍   | 900/1386 [19:47<11:27,  1.41s/it, 1.245]"
     ]
    },
    {
     "name": "stdout",
     "output_type": "stream",
     "text": [
      "|It is wildness and freedom. No one can t | I want to touch it.            | Really?                       |\n",
      "|So Signor Miles drove away and you did w | I went to bed. Freddie's a big | Nothing.                      |\n",
      "|The bmoonb is almost bgone!b             | There is yet time. Don't you w | What are you doing? What are y|\n"
     ]
    },
    {
     "name": "stderr",
     "output_type": "stream",
     "text": [
      " 72%|███████▏  | 1000/1386 [21:59<08:28,  1.32s/it, 1.239]"
     ]
    },
    {
     "name": "stdout",
     "output_type": "stream",
     "text": [
      "|They do it to honor the dead, Ellen.     | Is that right, dad?            | She asked me to stay with me. |\n",
      "|You do volunteer work at the hospital?   | I come from time to time. When | Tell me about whatever.       |\n",
      "|I will decide the conclusion.            | You had the mummy cancel all t | Are you talking.              |\n"
     ]
    },
    {
     "name": "stderr",
     "output_type": "stream",
     "text": [
      " 79%|███████▉  | 1100/1386 [24:13<06:14,  1.31s/it, 1.246]"
     ]
    },
    {
     "name": "stdout",
     "output_type": "stream",
     "text": [
      "|Somebody just told me he wins the three- | So?                            | Oh, don't you ask me that?    |\n",
      "|Love it!                                 | Well there's a reason why that | Is that really better?        |\n",
      "|I just want you to tell me how you came  | I forget.                      | Don't you say something like h|\n"
     ]
    },
    {
     "name": "stderr",
     "output_type": "stream",
     "text": [
      " 87%|████████▋ | 1200/1386 [26:21<03:54,  1.26s/it, 1.241]"
     ]
    },
    {
     "name": "stdout",
     "output_type": "stream",
     "text": [
      "|The American? Yes, duck.                 | How did he look?               | But because you're going to wo|\n",
      "|What the hell is this?                   | What the hell is this?         | Nothing.                      |\n",
      "|No, I wanna kill my boss!                | Get the hell outta here. You s | I thought you were with you.  |\n"
     ]
    },
    {
     "name": "stderr",
     "output_type": "stream",
     "text": [
      " 94%|█████████▍| 1300/1386 [28:31<01:53,  1.32s/it, 1.246]"
     ]
    },
    {
     "name": "stdout",
     "output_type": "stream",
     "text": [
      "|I went to my room.                       | And what happened?             | What about sleeping baby.     |\n",
      "|Firehouse.                               | Cute.                          | You're out of the beginning.  |\n",
      "|I dunno...                               | Make sure you're here by noon  | You don't understand.         |\n"
     ]
    },
    {
     "name": "stderr",
     "output_type": "stream",
     "text": [
      "100%|██████████| 1386/1386 [30:21<00:00,  1.41s/it, 1.241]\n"
     ]
    }
   ],
   "source": [
    "progress_fmt_, interrupted = \"%(loss).3f\", False\n",
    "n_batches = (len(qa_pairs) + batch_size - 1) // batch_size\n",
    "while epoch < n_epochs:\n",
    "    try:\n",
    "        with tqdm.tqdm(total=n_batches) as progress_:\n",
    "            for i, (be, bd) in enumerate(generate_batch(batch_size, max_len=512)):\n",
    "                if (i % 100) == 0:\n",
    "                    sample_qa()\n",
    "\n",
    "                with DelayedKeyboardInterrupt():\n",
    "                    loss_val_hist.append(op_train(bd, be))\n",
    "                    # op_project_embedding()\n",
    "\n",
    "                progress_.postfix = progress_fmt_ % {\n",
    "                    \"loss\": np.mean(loss_val_hist[-100:]),\n",
    "                }\n",
    "                progress_.update(1)\n",
    "            # end for\n",
    "\n",
    "        # end with\n",
    "        epoch += 1\n",
    "    except KeyboardInterrupt:\n",
    "        interrupted = True\n",
    "\n",
    "    finally:\n",
    "        # retrieve the parameters\n",
    "        weights = {\n",
    "            \"l_embed_char\": lasagne.layers.get_all_param_values(l_embed_char),\n",
    "            \"l_decoder_reembedder\": lasagne.layers.get_all_param_values(l_decoder_reembedder)\n",
    "        }\n",
    "        filename = filename_fmt_ % (epoch, \"_interrupted\" if interrupted else \"\")\n",
    "        with open(filename, \"wb\") as fin:\n",
    "            pickle.dump((\"2.5EXP\", hyper, vocab, weights), fin)\n",
    "\n",
    "        if interrupted:\n",
    "            break"
   ]
  },
  {
   "cell_type": "markdown",
   "metadata": {
    "deletable": true,
    "editable": true
   },
   "source": [
    "<hr/>"
   ]
  },
  {
   "cell_type": "markdown",
   "metadata": {
    "deletable": true,
    "editable": true
   },
   "source": [
    "### Trunk"
   ]
  },
  {
   "cell_type": "code",
   "execution_count": 62,
   "metadata": {
    "collapsed": false,
    "deletable": true,
    "editable": true
   },
   "outputs": [
    {
     "data": {
      "text/plain": [
       "[<matplotlib.lines.Line2D at 0x7f8810da3e80>]"
      ]
     },
     "execution_count": 62,
     "metadata": {},
     "output_type": "execute_result"
    },
    {
     "data": {
      "image/png": "[encoded data removed]",
      "text/plain": [
       "<matplotlib.figure.Figure at 0x7f8810ad0048>"
      ]
     },
     "metadata": {},
     "output_type": "display_data"
    }
   ],
   "source": [
    "plt.plot(np.log(np.log(loss_val_hist)))"
   ]
  },
  {
   "cell_type": "code",
   "execution_count": 59,
   "metadata": {
    "collapsed": false,
    "deletable": true,
    "editable": true,
    "scrolled": false
   },
   "outputs": [
    {
     "data": {
      "text/plain": [
       "[[('How do you know?', 0.74552691),\n",
       "  (\"You don't know.\", 0.87511861),\n",
       "  ('Of course.', 1.0077978),\n",
       "  (\"What'd you want to know?\", 1.0264655),\n",
       "  (\"I'm sorry.\", 1.0527098),\n",
       "  ('How can you look for me?', 1.1008555),\n",
       "  (\"How the hell would you go back so are you? What's that?\", 1.1161273),\n",
       "  (\"That's nothing to help you?\", 1.1577018),\n",
       "  ('Let me know anything - all right. This is my ass.', 1.1899896),\n",
       "  ('How was that?', 1.2024095),\n",
       "  (\"I'm going to cut you alone.\", 1.217774),\n",
       "  ('Good twenty minutes.', 1.2334508),\n",
       "  ('Listen to me... have you?', 1.2622828),\n",
       "  (\"Come on, I'm going to see I was there with you again, That's the way I knew\",\n",
       "   1.2760723),\n",
       "  ('What?', 1.2992123),\n",
       "  (\"That's a beautiful sacramy. You know I look like that.\", 1.3018234),\n",
       "  (\"He says that he wants, but, you don't want to stay around here lived from t\",\n",
       "   1.3031696),\n",
       "  ('Yes! I might know where I never had to be dead.', 1.3192397),\n",
       "  ('Okay. What was it that?', 1.3378117),\n",
       "  (\"You planned on? How many people's going to give on your friends. They used \",\n",
       "   1.3493958),\n",
       "  ('What you say so.', 1.3559115),\n",
       "  ('Not remember, asshole, this is where she wants to take at me.', 1.3677675),\n",
       "  ('Thank you to people.', 1.3853029),\n",
       "  (\"Yes, I don't want to be and.\", 1.3880627),\n",
       "  (\"It's in the head.\", 1.3980818),\n",
       "  ('Well, not yet.', 1.4023243),\n",
       "  (\"Hell, you actually, isn't it?\", 1.4217266),\n",
       "  ('How can I tell you of a specific?', 1.4306444),\n",
       "  (\"Give me the name. We didn't keep us.\", 1.4459988),\n",
       "  ('He started this, Dad. But they were quite tired, but you are a high place i',\n",
       "   1.4479352),\n",
       "  ('Okay.', 1.4566942),\n",
       "  ('How do you know embalmous?', 1.4616953),\n",
       "  (\"You're really really making wells.\", 1.4652251),\n",
       "  (\"Wood. Don't make it to you. It's a big place.\", 1.4699712),\n",
       "  (\"Because I believe she's son. If you can't.\", 1.4888561),\n",
       "  (\"She wants to control souls doctors - but here's the morning and just trying\",\n",
       "   1.5037998),\n",
       "  ('So is that perfect.', 1.5415417),\n",
       "  ('Yeah, christ. They knew the head to see the way.', 1.5606431),\n",
       "  (\"I didn't say any Indian right now. No gays off you. There's no other pretty\",\n",
       "   1.5789796),\n",
       "  ('Do what?', 1.5820122),\n",
       "  (\"That's great... for it. Alice. He was singing - just make up anything. I ca\",\n",
       "   1.5990894),\n",
       "  ('That kind of storm. Who wrote this?', 1.6000199),\n",
       "  ('I want to do anybody seems on that volutener.', 1.6020066),\n",
       "  (\"Just what the fuck you'll addee to me?\", 1.6038204),\n",
       "  (\"And I'm sorry... So.\", 1.6130394),\n",
       "  (\"He's not collected for mysterity.\", 1.6133287),\n",
       "  (\"What I want my back inside direct, John, Granded, don't say that, I'd love \",\n",
       "   1.6136311),\n",
       "  (\"I don't know. So, how do we fuck you? Can't I try to undurike it-\",\n",
       "   1.6209552),\n",
       "  ('He ofsensive this happens right on you.', 1.6244659),\n",
       "  (\"No, I don't feel a lot-something there?\", 1.6393147),\n",
       "  (\"The fake has been all broken if we drowned President - that wouldn't know y\",\n",
       "   1.6399747),\n",
       "  (\"Oh, man. I'm not sunfition. You know.\", 1.6651502),\n",
       "  ('Are you found to early? Go ahew first. I never told you, and we could try n',\n",
       "   1.6734568),\n",
       "  ('I have a breek by now.', 1.6775444),\n",
       "  (\"What's for this thing, Jessy? This, are you twenty seaker didn't get out of\",\n",
       "   1.6810601),\n",
       "  (\"And that's too food.\", 1.6831074),\n",
       "  (\"He was keepin' his boss. Maybe I have taped, I'm not his arm. Worked with m\",\n",
       "   1.7050039),\n",
       "  (\"That for a mieutenance. Let's set keeping you too about your father...\",\n",
       "   1.7057502),\n",
       "  (\"No. I've always pretty sure of this profession pieces, dava constant. Are y\",\n",
       "   1.7261002),\n",
       "  ('Uncevent gonna kill me with you?', 1.7354736),\n",
       "  ('Jesus.', 1.7570521),\n",
       "  ('The radio.', 1.7638735),\n",
       "  ('Hmm, we talked to her into the quot; Cut your hands. So what Washingto Carl',\n",
       "   1.7709347),\n",
       "  (\"Me? Merlem. Just hospital. You would pick the morgue. I'm going to get drun\",\n",
       "   1.772131),\n",
       "  ('Are you going to be microwive apple Soon.', 1.7910093),\n",
       "  (\"No matter for being a wounded. It's not tine.\", 1.7968292),\n",
       "  (\"Wait a minute. Achielese went on Rosest Sister. Sheriff, she's part of the \",\n",
       "   1.7990075),\n",
       "  (\"I been trying to Force she signed it for history. Using your uncle's was be\",\n",
       "   1.8005805),\n",
       "  (\"That's not just...at threatene in the calls. I've seen all with Vaine.\",\n",
       "   1.8006783),\n",
       "  (\"This guy that 'em, keeping me into criminal. I'm tired of busy, is she? Why\",\n",
       "   1.80468),\n",
       "  ('Please go knowled here and sick now. they were right about.', 1.8079162),\n",
       "  (\"Get Dolopes. What do you see? Don't take your stone, the dave set it before\",\n",
       "   1.8119143),\n",
       "  ('On. Well, this run must have explains his son, though. And applier and the ',\n",
       "   1.813292),\n",
       "  (\"Hell... I haven't had anyone...this, Frank. Mr. Dr. McClis.\", 1.8154159),\n",
       "  (\"Even if she went sprenes to me all to the first way, and it's fine, too - y\",\n",
       "   1.8201772),\n",
       "  ('Mother wants a church. ', 1.8225327),\n",
       "  ('Then show them to see me, Zoroth useleble. He was in the morning has had wi',\n",
       "   1.8241951),\n",
       "  ('Yeah, Sir...', 1.8248369),\n",
       "  ('...but, I... yeah. I went to effice all over to myself. We- it could have b',\n",
       "   1.8491396),\n",
       "  (\"Yes, we're in. We stop the nothing in...\", 1.8654318),\n",
       "  ('Which we do?', 1.8687533),\n",
       "  ('I heard rehabinatement, and I trust it against this city. Be carefulry. The',\n",
       "   1.8706703),\n",
       "  ('It is, your top your mind.', 1.8784542),\n",
       "  (\"Jookie found it, Johnson. Then I don't.\", 1.8816379),\n",
       "  (\"I have sweater. Is that the right younger of dimply's son?\", 1.8838449),\n",
       "  ('Let me do anything about Rian. Three days. Now stayed in Sneed, Travity Ren',\n",
       "   1.8857419),\n",
       "  (\"My Epplete nurse. You don't know -\", 1.8875268),\n",
       "  (\"Mickey and two of you. That he's gotta get that detect so I'd save them me?\",\n",
       "   1.8897052),\n",
       "  ('This will be guttering me I can.', 1.8934928),\n",
       "  (\"The last off the emergency's room printed, I forgot my rationar for God and\",\n",
       "   1.8987795),\n",
       "  (\"You know, that Sprepa trust me, lady for a bein' nervous, isn't it?\",\n",
       "   1.9050206),\n",
       "  ('We can and the inpission scheme inside.', 1.9140664),\n",
       "  ('Oh... back the dog down, and from Victoria.', 1.9203026),\n",
       "  ('He says that about Princil!', 1.9331168),\n",
       "  ('How can you so swear to call you anym did you fuck Person?', 1.9368968),\n",
       "  (\"I just - must explain in later. Wife yell-that's a couple of the Angy that \",\n",
       "   1.9462346),\n",
       "  (\"It's like a lot of lady, spoked-rate being love.\", 1.951148),\n",
       "  ('His camera first work with Ripanoma.', 1.953868),\n",
       "  ('The isteds. This whole room. Three place.', 1.9691069),\n",
       "  (\"Oh, it's like cage to...\", 1.9771737),\n",
       "  (\"Oh. Mr Follow, I'm not here all ten cool. Before I bet I'd actually be talk\",\n",
       "   1.9777516),\n",
       "  (\"Skanwowapide incident. And we do that I did - he's got a very profession th\",\n",
       "   1.9856795),\n",
       "  ('Who cares?...I want to Vample in it, again.', 1.9876441),\n",
       "  (\"It's because that, but you get boogies, 'xrua. They can fire him out of the\",\n",
       "   1.9954181),\n",
       "  ('She was a gut.', 2.0051987),\n",
       "  (\"We needed made first time. You know, you, ratignan's gonna live us to moen-\",\n",
       "   2.0109375),\n",
       "  (\"Suspect with ten's in a blaming an injustice, Capper forces... I just will \",\n",
       "   2.0147767),\n",
       "  (\"He's gonna keep yesterdy, Pigs and kick him.\", 2.0176687),\n",
       "  (\"Hey, Mr. Strap. Upentine people who isn't hardly took Montages. I never pil\",\n",
       "   2.0220935),\n",
       "  ('Oh. To buy your kids.', 2.0239055),\n",
       "  ('Oh, yeah-', 2.0282886),\n",
       "  (\"Sunnedy's taking a lot of peace. Five men - room yet.\", 2.0345023),\n",
       "  ('Ive.. I think I was cocked illyer. For a while. By my puttening... you know',\n",
       "   2.0383604),\n",
       "  (\"Not jobs, no kind of painin' back... yes, well-that way.\", 2.0436234),\n",
       "  ('PUNDERE Who proposed to Principal planes same asshool, was it right now?',\n",
       "   2.0449779),\n",
       "  ('He runs a councing? Next week - Nice piece of George...', 2.0498898),\n",
       "  (\"I'm us, now we take my hands anymore, sir, Mr. Homms, Bertance.\",\n",
       "   2.056107),\n",
       "  ('Where? He was the funes of the went fteenes on the Boych, except philosomen',\n",
       "   2.0658295),\n",
       "  ('His ship is good, and Cete books about us.', 2.0686579),\n",
       "  (\"Yeah, that's the under the las compapors is Dr. Tom doing.\", 2.071053),\n",
       "  ('Yup. There is under a dream and a hottem trip -', 2.0862632),\n",
       "  (\"Tray, that's turned them. I'm unneaseuty. I look serious. Had tell me you g\",\n",
       "   2.0890801),\n",
       "  (\"I can do! I ought the damned ID I forget it's pretty dumbsy anymore right o\",\n",
       "   2.0907972),\n",
       "  (\"There's a bund under a symbet.\", 2.0914416),\n",
       "  ('Does another came who?', 2.0917044),\n",
       "  (\"Have a river, that DocD, the river have. Since Computer Refenses-they'll be\",\n",
       "   2.0926356),\n",
       "  ('Get that.', 2.093823),\n",
       "  (\"Day. He's dead. - Like one of this street facility of Kedication Aronn give\",\n",
       "   2.0952353),\n",
       "  ('Not shit.', 2.1255183),\n",
       "  (\"Nick, prosis. That massugs band, one difficulty television's number.\",\n",
       "   2.1323135),\n",
       "  ('I do. No slave! Fool around the meas! Do you rewear what?', 2.1327713),\n",
       "  ('He wouldn\\'t bleed open, more like a space dane. \"8s.\"', 2.1367121),\n",
       "  (\"The Jupie English, would you... Dusty? This is Cubasban's call. By the best\",\n",
       "   2.1487548),\n",
       "  (\"I'm illessade, man, there was no charic book soluteness of us.\",\n",
       "   2.1557767),\n",
       "  ('He does me back her and is holen again. Assholes see, Mr. Tom, by seriously',\n",
       "   2.1595037),\n",
       "  (\"I'll see you the Navy dark world. I went fixie's.\", 2.1639814),\n",
       "  (\"Motor, I'm out over just for...\", 2.1736078),\n",
       "  (\"We're won to find Camp going. Now so is to let anybody know it's a fun tar.\",\n",
       "   2.1802235),\n",
       "  (\"I went to see that inside said, and meet Don't be I'm skan high shoes - the\",\n",
       "   2.182471),\n",
       "  (\"I'm not really signed to Logan. Edytere causing it. Earning learnston. I'm \",\n",
       "   2.1870501),\n",
       "  ('HeR Diane, ask some friends?', 2.1878982),\n",
       "  ('And you know a special Red, let someone have the betorein tides.',\n",
       "   2.2000217),\n",
       "  ('Shey her picture.', 2.2168772),\n",
       "  ('At this cutch inspirations to summer. What, yet?', 2.2246315),\n",
       "  (\"He's fainard. It's a mietufide million potentered, Channel. Themselves a lo\",\n",
       "   2.2366419),\n",
       "  ('So you give, Dad?', 2.2432623),\n",
       "  ('Hey, I need ten fucking phony- igion.', 2.249279),\n",
       "  (\"Not in Five Adom. That's horsulle, because.\", 2.2651064),\n",
       "  ('Chasing Sidoty which you are in the Pepson Lash night State Meeine costudes',\n",
       "   2.2737834),\n",
       "  ('The require mad... Jane?', 2.2796564),\n",
       "  ('Freddie. Bye.', 2.2840166),\n",
       "  ('No place is by priejities.', 2.2842636),\n",
       "  (\"Dr. Qursera, I won't look for.\", 2.286438),\n",
       "  (\"Stop! Geyard? Y'ally mind back? Visitors... It's over; if you dancing us to\",\n",
       "   2.298919),\n",
       "  ('How?', 2.3067729),\n",
       "  ('It was a squar Avenue 80 clubs unrellute tonight.', 2.3081074),\n",
       "  ('A fact that has shit, brose.', 2.336597),\n",
       "  (\"We're alive again. I'll gut I tell ya sl Sets and feel good.\", 2.3496885),\n",
       "  (\"You're a beach you with New Sportvhous.\", 2.3517795),\n",
       "  ('The four Governole?', 2.3633602),\n",
       "  ('How is hhat? Stave thou art thousand.', 2.3689969),\n",
       "  (\"DEAS. It's front of the Daw.\", 2.3936555),\n",
       "  (\"Hopiem Blade, or rough on Man - in the Negroe That's nice, okay? The Cup ba\",\n",
       "   2.4191964),\n",
       "  ('An... and today.', 2.4527495),\n",
       "  ('So you are correst...Fordy?', 2.4565146),\n",
       "  ('Oh yeah. Ok, whats: \"Carvo have was pocket.', 2.4600468),\n",
       "  ('All get it.', 2.4608629),\n",
       "  ('And Dr. Dresk?', 2.4961474),\n",
       "  (\"Encourage handdo down on next week.  our in Marsh MasiDe. We'll cheating. I\",\n",
       "   2.5440326),\n",
       "  ('I\\'m \"Han, it gets either?', 2.5653732),\n",
       "  ('Is this in here the elani there, Stone viesu?', 2.6024859),\n",
       "  ('Have perseck. A fegalant couhs to deths any far for trying to speak my stai',\n",
       "   2.6029992),\n",
       "  (\"Peter, yries, when - I'll uha4 practice now. Let miew.\", 2.6335554),\n",
       "  ('Like there sex more?', 2.6393542),\n",
       "  ('What, is Mink?', 2.6713631),\n",
       "  ('She paydet stories.', 2.6865275),\n",
       "  ('Been keeping Men Ceften cre.', 2.7211678),\n",
       "  ('Kame well, Disco ambious being.', 2.7451482),\n",
       "  ('Edward.', 2.7473948),\n",
       "  ('Later!', 2.7570388),\n",
       "  ('One lose.', 2.8012383),\n",
       "  (\"My dools dread's hand.\", 2.8416622),\n",
       "  (\"Huh? You're on Zstenoing Uhoageer.\", 2.9242156),\n",
       "  (\"Good night lanitial. I'm DALL g-O!\", 2.9249418),\n",
       "  ('Not here by Gejick.', 2.9403529),\n",
       "  ('Nick!', 2.9900682),\n",
       "  (\"Sam: what did Vaus Miss TOU'MESTOR THE NIGE!\", 3.0128279),\n",
       "  ('Has ever to- Amerin?', 3.0738864),\n",
       "  ('Mine.', 3.1030655),\n",
       "  ('Sume...', 3.2882309),\n",
       "  ('No, do!', 3.3323128),\n",
       "  ('Beatic.', 3.4003918),\n",
       "  ('43,000.', 3.6869311),\n",
       "  ('Dho, Sherzion.', 3.7874267),\n",
       "  ('Shripes?', 3.8103318),\n",
       "  ('Mm.', 3.8585463),\n",
       "  ('Hideo!', 4.2382512),\n",
       "  ('I Lutchah!', 4.3450117),\n",
       "  ('Rag Mera!', 4.5539842),\n",
       "  ('Mueson!', 5.1804204)]]"
      ]
     },
     "execution_count": 59,
     "metadata": {},
     "output_type": "execute_result"
    }
   ],
   "source": [
    "generate(as_matrix([\"\\x02\" + \"Hi, there.\" + \"\\x03\"]), 75, tau=1e-5, n_samples=200, seed=42)"
   ]
  },
  {
   "cell_type": "code",
   "execution_count": 63,
   "metadata": {
    "collapsed": true,
    "deletable": true,
    "editable": true
   },
   "outputs": [],
   "source": [
    "def softmax(x_ij, axis=-1):\n",
    "    x_ij = np.exp(x_ij - x_ij.max(axis=axis, keepdims=True))\n",
    "    return x_ij / x_ij.sum(axis=axis, keepdims=True)"
   ]
  },
  {
   "cell_type": "code",
   "execution_count": 64,
   "metadata": {
    "collapsed": true,
    "deletable": true,
    "editable": true
   },
   "outputs": [],
   "source": [
    "logits = op_predict_logits(be, bd)\n",
    "\n",
    "rasta = np.random.RandomState(42)\n",
    "gumbel = -np.log(-np.log(rasta.uniform(size=logits.shape)))\n"
   ]
  },
  {
   "cell_type": "code",
   "execution_count": 65,
   "metadata": {
    "collapsed": false,
    "deletable": true,
    "editable": true
   },
   "outputs": [
    {
     "data": {
      "image/png": "[encoded data removed]",
      "text/plain": [
       "<matplotlib.figure.Figure at 0x7f8810fe9898>"
      ]
     },
     "metadata": {},
     "output_type": "display_data"
    }
   ],
   "source": [
    "p = gumbel + logits\n",
    "test = p[0, -10]\n",
    "ttau = np.logspace(-20, 20, num=101, base=2)[:, np.newaxis]\n",
    "test = softmax(test[np.newaxis] / ttau)\n",
    "\n",
    "plt.plot(np.log2(ttau), test);"
   ]
  },
  {
   "cell_type": "code",
   "execution_count": 66,
   "metadata": {
    "collapsed": false,
    "deletable": true,
    "editable": true
   },
   "outputs": [
    {
     "data": {
      "text/plain": [
       "(array([  4.30355000e+05,   2.61762000e+06,   1.09582100e+06,\n",
       "          2.05709000e+05,   3.29850000e+04,   5.28500000e+03,\n",
       "          8.02000000e+02,   1.21000000e+02,   1.80000000e+01,\n",
       "          2.00000000e+00]),\n",
       " array([ -2.69393827,  -0.84279984,   1.00833858,   2.859477  ,\n",
       "          4.71061543,   6.56175385,   8.41289227,  10.2640307 ,\n",
       "         12.11516912,  13.96630754,  15.81744597]),\n",
       " <a list of 10 Patch objects>)"
      ]
     },
     "execution_count": 66,
     "metadata": {},
     "output_type": "execute_result"
    },
    {
     "data": {
      "image/png": "[encoded data removed]",
      "text/plain": [
       "<matplotlib.figure.Figure at 0x7f8810d41048>"
      ]
     },
     "metadata": {},
     "output_type": "display_data"
    }
   ],
   "source": [
    "plt.hist(gumbel.flat)"
   ]
  },
  {
   "cell_type": "code",
   "execution_count": 67,
   "metadata": {
    "collapsed": false,
    "deletable": true,
    "editable": true
   },
   "outputs": [
    {
     "name": "stdout",
     "output_type": "stream",
     "text": [
      "decoder/gru_00.W_in_to_updategate (32, 256)\n",
      "decoder/gru_00.W_hid_to_updategate (256, 256)\n",
      "decoder/gru_00.b_updategate (256,)\n",
      "decoder/gru_00.W_in_to_resetgate (32, 256)\n",
      "decoder/gru_00.W_hid_to_resetgate (256, 256)\n",
      "decoder/gru_00.b_resetgate (256,)\n",
      "decoder/gru_00.W_in_to_hidden_update (32, 256)\n",
      "decoder/gru_00.W_hid_to_hidden_update (256, 256)\n",
      "decoder/gru_00.b_hidden_update (256,)\n",
      "decoder/gru_00.hid_init (1, 256)\n",
      "encoder/gru_00.W_in_to_updategate (32, 256)\n",
      "encoder/gru_00.W_hid_to_updategate (256, 256)\n",
      "encoder/gru_00.b_updategate (256,)\n",
      "encoder/gru_00.W_in_to_resetgate (32, 256)\n",
      "encoder/gru_00.W_hid_to_resetgate (256, 256)\n",
      "encoder/gru_00.b_resetgate (256,)\n",
      "encoder/gru_00.W_in_to_hidden_update (32, 256)\n",
      "encoder/gru_00.W_hid_to_hidden_update (256, 256)\n",
      "encoder/gru_00.b_hidden_update (256,)\n",
      "encoder/gru_00.hid_init (1, 256)\n",
      "encoder/gru_01.W_in_to_updategate (256, 256)\n",
      "encoder/gru_01.W_hid_to_updategate (256, 256)\n",
      "encoder/gru_01.b_updategate (256,)\n",
      "encoder/gru_01.W_in_to_resetgate (256, 256)\n",
      "encoder/gru_01.W_hid_to_resetgate (256, 256)\n",
      "encoder/gru_01.b_resetgate (256,)\n",
      "encoder/gru_01.W_in_to_hidden_update (256, 256)\n",
      "encoder/gru_01.W_hid_to_hidden_update (256, 256)\n",
      "encoder/gru_01.b_hidden_update (256,)\n",
      "encoder/gru_01.hid_init (1, 256)\n",
      "encoder/fc/core.W (512, 512)\n",
      "encoder/fc/core.b (512,)\n",
      "encoder/fc/bn.beta (512,)\n",
      "encoder/fc/bn.gamma (512,)\n",
      "encoder/fc/bn.mean (512,)\n",
      "encoder/fc/bn.inv_std (512,)\n",
      "decoder/proj_01/core.W (512, 256)\n",
      "decoder/proj_01/core.b (256,)\n",
      "decoder/proj_01/bn.beta (256,)\n",
      "decoder/proj_01/bn.gamma (256,)\n",
      "decoder/proj_01/bn.mean (256,)\n",
      "decoder/proj_01/bn.inv_std (256,)\n",
      "decoder/gru_01.W_in_to_updategate (256, 256)\n",
      "decoder/gru_01.W_hid_to_updategate (256, 256)\n",
      "decoder/gru_01.b_updategate (256,)\n",
      "decoder/gru_01.W_in_to_resetgate (256, 256)\n",
      "decoder/gru_01.W_hid_to_resetgate (256, 256)\n",
      "decoder/gru_01.b_resetgate (256,)\n",
      "decoder/gru_01.W_in_to_hidden_update (256, 256)\n",
      "decoder/gru_01.W_hid_to_hidden_update (256, 256)\n",
      "decoder/gru_01.b_hidden_update (256,)\n",
      "decoder/proj_03/core.W (512, 256)\n",
      "decoder/proj_03/core.b (256,)\n",
      "decoder/proj_03/bn.beta (256,)\n",
      "decoder/proj_03/bn.gamma (256,)\n",
      "decoder/proj_03/bn.mean (256,)\n",
      "decoder/proj_03/bn.inv_std (256,)\n",
      "decoder/gru_02.W_in_to_updategate (256, 256)\n",
      "decoder/gru_02.W_hid_to_updategate (256, 256)\n",
      "decoder/gru_02.b_updategate (256,)\n",
      "decoder/gru_02.W_in_to_resetgate (256, 256)\n",
      "decoder/gru_02.W_hid_to_resetgate (256, 256)\n",
      "decoder/gru_02.b_resetgate (256,)\n",
      "decoder/gru_02.W_in_to_hidden_update (256, 256)\n",
      "decoder/gru_02.W_hid_to_hidden_update (256, 256)\n",
      "decoder/gru_02.b_hidden_update (256,)\n",
      "decoder/gru_03.W_in_to_updategate (256, 256)\n",
      "decoder/gru_03.W_hid_to_updategate (256, 256)\n",
      "decoder/gru_03.b_updategate (256,)\n",
      "decoder/gru_03.W_in_to_resetgate (256, 256)\n",
      "decoder/gru_03.W_hid_to_resetgate (256, 256)\n",
      "decoder/gru_03.b_resetgate (256,)\n",
      "decoder/gru_03.W_in_to_hidden_update (256, 256)\n",
      "decoder/gru_03.W_hid_to_hidden_update (256, 256)\n",
      "decoder/gru_03.b_hidden_update (256,)\n",
      "decoder/gru_03.hid_init (1, 256)\n",
      "decoder/project.W (256, 74)\n",
      "decoder/project.b (74,)\n"
     ]
    }
   ],
   "source": [
    "for k, v, in zip(lasagne.layers.get_all_params(l_decoder_reembedder),\n",
    "                 weights[\"l_decoder_reembedder\"]):\n",
    "    print (k, v.shape)"
   ]
  },
  {
   "cell_type": "code",
   "execution_count": null,
   "metadata": {
    "collapsed": false,
    "deletable": true,
    "editable": true,
    "scrolled": false
   },
   "outputs": [],
   "source": [
    "# list(zip(trainable[1:], weights[\"l_decoder_reembedder\"]))"
   ]
  },
  {
   "cell_type": "code",
   "execution_count": 55,
   "metadata": {
    "collapsed": true,
    "deletable": true,
    "editable": true
   },
   "outputs": [],
   "source": [
    "for be, bd in generate_batch(32, max_len=512):\n",
    "    break"
   ]
  },
  {
   "cell_type": "code",
   "execution_count": 79,
   "metadata": {
    "collapsed": false,
    "deletable": true,
    "editable": true
   },
   "outputs": [
    {
     "data": {
      "text/plain": [
       "array(2.7703378200531006)"
      ]
     },
     "execution_count": 79,
     "metadata": {},
     "output_type": "execute_result"
    }
   ],
   "source": [
    "op_train(bd, be)"
   ]
  },
  {
   "cell_type": "code",
   "execution_count": 81,
   "metadata": {
    "collapsed": false,
    "deletable": true,
    "editable": true
   },
   "outputs": [],
   "source": [
    "ass = h_0.eval({v_gen_input: be})"
   ]
  },
  {
   "cell_type": "code",
   "execution_count": 82,
   "metadata": {
    "collapsed": false,
    "deletable": true,
    "editable": true
   },
   "outputs": [
    {
     "data": {
      "text/plain": [
       "[<matplotlib.lines.Line2D at 0x7f530daea1d0>]"
      ]
     },
     "execution_count": 82,
     "metadata": {},
     "output_type": "execute_result"
    },
    {
     "data": {
      "image/png": "[encoded data removed]",
      "text/plain": [
       "<matplotlib.figure.Figure at 0x7f530afe39e8>"
      ]
     },
     "metadata": {},
     "output_type": "display_data"
    }
   ],
   "source": [
    "plt.plot(ass[0])"
   ]
  },
  {
   "cell_type": "markdown",
   "metadata": {
    "deletable": true,
    "editable": true
   },
   "source": [
    "<hr/>"
   ]
  },
  {
   "cell_type": "markdown",
   "metadata": {
    "deletable": true,
    "editable": true
   },
   "source": [
    "The older generator"
   ]
  },
  {
   "cell_type": "code",
   "execution_count": 43,
   "metadata": {
    "collapsed": true,
    "deletable": true,
    "editable": true
   },
   "outputs": [],
   "source": [
    "# Generator's one step update function\n",
    "def generator_step(x_tm1, h_tm1, m_tm1, tau, eps):\n",
    "    \"\"\"One step of the generative decoder version.\"\"\"\n",
    "    # x_tm1 is `batch` int8, h_tm1 is `batch x ...`\n",
    "    # m_tm1 is `batch`, tau, eps are scalars\n",
    "\n",
    "    # embed the previous character. x_t is `batch x embed`\n",
    "    x_t = l_embed_char.get_output_for(x_tm1, deterministic=True)\n",
    "\n",
    "    # collect the inputs\n",
    "    inputs = {l_decoder_embed: x_t.dimshuffle(0, \"x\", 1),\n",
    "              l_decoder_mask: m_tm1.dimshuffle(0, \"x\")}\n",
    "\n",
    "    # Connect the prev variables to the the hidden and stack state feeds\n",
    "    j = 0\n",
    "    for layer in dec_rnn_layers:\n",
    "        inputs[layer.hid_init] = slice_(h_tm1, j, layer.num_units)\n",
    "        j += layer.num_units\n",
    "\n",
    "    # Get the outputs\n",
    "    outputs = [l_decoder_reembedder] + dec_rnn_layers_sliced\n",
    "\n",
    "    # propagate through the decoder column\n",
    "    logit_t, *h_t_list = lasagne.layers.get_output(outputs, inputs,\n",
    "                                                   deterministic=True)\n",
    "\n",
    "    logit_t = logit_t[:, 0]\n",
    "    prob_t = tt.nnet.softmax(logit_t)\n",
    "\n",
    "    # Gumbel-softmax sampling: Gumbel (e^{-e^{-x}}) distributed random noise\n",
    "    gumbel = -tt.log(-tt.log(theano_random_state.uniform(size=logit_t.shape) + eps) + eps)\n",
    "#     logit_t = theano.ifelse.ifelse(tt.gt(tau, 0), gumbel + logit_t, logit_t)\n",
    "#     inv_temp = theano.ifelse.ifelse(tt.gt(tau, 0), 1.0 / tau, tt.constant(1.0))\n",
    "    logit_t = tt.switch(tt.gt(tau, 0), gumbel + logit_t, logit_t)\n",
    "    inv_temp = tt.switch(tt.gt(tau, 0), 1.0 / tau, tt.constant(1.0))\n",
    "\n",
    "    # Pick one element\n",
    "    x_t = tt.cast(tt.argmax(tt.nnet.softmax(logit_t * inv_temp), axis=-1), x_tm1.dtype)\n",
    "\n",
    "    # Pack the hidden states\n",
    "    h_t = tt.concatenate(h_t_list, axis=-1)\n",
    "\n",
    "    # Compute the mask and inhibit the propagation on a stop symbol.\n",
    "    # Recurrent layers return the previous state if m_tm1 is Fasle\n",
    "    m_t = m_tm1 & tt.gt(x_t, vocab.index(\"\\x03\"))\n",
    "    x_t = tt.switch(m_t, x_t, vocab.index(\"\\x03\"))\n",
    "\n",
    "    # There is no need to freeze the states as they will be frozen by\n",
    "    # the RNN passthrough according to the mask `m_t`.\n",
    "\n",
    "    # Get the estimated probability of the picked symbol.\n",
    "    p_t = prob_t[tt.arange(x_t.shape[0]), x_t]\n",
    "    return x_t, h_t, m_t, p_t\n",
    "\n",
    "h_0 = tt.concatenate(dec_hid_inits, axis=-1)\n",
    "\n",
    "x_0 = tt.fill(tt.zeros((v_gen_input.shape[0],), dtype=\"int32\"),\n",
    "              vocab.index(\"\\x02\"))\n",
    "\n",
    "m_0 = tt.ones((v_gen_input.shape[0],), 'bool')\n",
    "\n",
    "result, updates = theano.scan(generator_step, sequences=None, n_steps=n_steps,\n",
    "                              outputs_info=[x_0, h_0, m_0, None],\n",
    "                              strict=False, return_list=True,\n",
    "                              non_sequences=[tau, eps], go_backwards=False,\n",
    "                              name=\"generator/scan\")\n",
    "x_t, h_t, m_t, p_t = [r.swapaxes(0, 1) for r in result]\n",
    "\n",
    "compile_mode = theano.Mode(optimizer=\"fast_run\", linker=\"cvm\")\n",
    "op_generate = theano.function([v_gen_input, n_steps, tau],\n",
    "                              [x_t, h_t, m_t, p_t],\n",
    "                              updates=updates, givens={eps: floatX(1e-20)},\n",
    "                              mode=compile_mode)\n",
    "\n",
    "def generate(questions, n_steps, n_samples=10, tau=0, seed=None):\n",
    "    results = []\n",
    "    for question in questions:\n",
    "        # Replicate the query\n",
    "        question = np.repeat(question[np.newaxis], n_samples, axis=0)\n",
    "        if seed is not None:\n",
    "            theano_random_state.seed(seed)\n",
    "        x_t, h_t, m_t, p_t = op_generate(question, n_steps, tau)\n",
    "\n",
    "        # may produce NaN, but they are shifted in the back by arsort\n",
    "        perplexity, n_chars = (- np.log2(p_t) * m_t).sum(axis=-1), m_t.sum(axis=-1)\n",
    "        perplexity /= n_chars\n",
    "\n",
    "        result = []\n",
    "        for i in perplexity.argsort():\n",
    "            reply = \"\".join(map(vocab.__getitem__, x_t[i, :n_chars[i]]))\n",
    "            result.append((reply, perplexity[i]))\n",
    "        results.append(result)\n",
    "    return results"
   ]
  }
 ],
 "metadata": {
  "kernelspec": {
   "display_name": "Python 3",
   "language": "python",
   "name": "python3"
  },
  "language_info": {
   "codemirror_mode": {
    "name": "ipython",
    "version": 3
   },
   "file_extension": ".py",
   "mimetype": "text/x-python",
   "name": "python",
   "nbconvert_exporter": "python",
   "pygments_lexer": "ipython3",
   "version": "3.6.0"
  }
 },
 "nbformat": 4,
 "nbformat_minor": 2
}
