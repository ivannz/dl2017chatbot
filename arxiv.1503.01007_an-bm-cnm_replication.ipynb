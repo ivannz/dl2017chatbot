{
 "cells": [
  {
   "cell_type": "markdown",
   "metadata": {
    "deletable": true,
    "editable": true
   },
   "source": [
    "# Replication of arxiv:1503.01007"
   ]
  },
  {
   "cell_type": "markdown",
   "metadata": {
    "deletable": true,
    "editable": true
   },
   "source": [
    "This notebook replicates this [article](http://arxiv.org/abs/1503.01007)"
   ]
  },
  {
   "cell_type": "code",
   "execution_count": 1,
   "metadata": {
    "collapsed": true,
    "deletable": true,
    "editable": true
   },
   "outputs": [],
   "source": [
    "import os\n",
    "import json\n",
    "\n",
    "import numpy as np\n",
    "\n",
    "import pandas as pd\n",
    "import tqdm"
   ]
  },
  {
   "cell_type": "markdown",
   "metadata": {
    "deletable": true,
    "editable": true
   },
   "source": [
    "We'll definitely need to plot something"
   ]
  },
  {
   "cell_type": "code",
   "execution_count": 2,
   "metadata": {
    "collapsed": true,
    "deletable": true,
    "editable": true
   },
   "outputs": [],
   "source": [
    "%matplotlib inline\n",
    "import matplotlib.pyplot as plt"
   ]
  },
  {
   "cell_type": "markdown",
   "metadata": {
    "deletable": true,
    "editable": true
   },
   "source": [
    "Uninterruptible section"
   ]
  },
  {
   "cell_type": "code",
   "execution_count": 3,
   "metadata": {
    "collapsed": true,
    "deletable": true,
    "editable": true
   },
   "outputs": [],
   "source": [
    "import signal\n",
    "\n",
    "class DelayedKeyboardInterrupt(object):\n",
    "    def __enter__(self):\n",
    "        self.signal_received = False\n",
    "        self.old_handler = signal.getsignal(signal.SIGINT)\n",
    "        signal.signal(signal.SIGINT, self.handler)\n",
    "\n",
    "    def handler(self, sig, frame):\n",
    "        self.signal_received = (sig, frame)\n",
    "\n",
    "    def __exit__(self, type, value, traceback):\n",
    "        signal.signal(signal.SIGINT, self.old_handler)\n",
    "        if self.signal_received:\n",
    "            self.old_handler(*self.signal_received)"
   ]
  },
  {
   "cell_type": "markdown",
   "metadata": {
    "deletable": true,
    "editable": true
   },
   "source": [
    "Fix the random seed"
   ]
  },
  {
   "cell_type": "code",
   "execution_count": 4,
   "metadata": {
    "collapsed": true,
    "deletable": true,
    "editable": true
   },
   "outputs": [],
   "source": [
    "random_state = np.random.RandomState(0x0BADC0DE)"
   ]
  },
  {
   "cell_type": "markdown",
   "metadata": {
    "deletable": true,
    "editable": true
   },
   "source": [
    "Import Theano and Lasagne"
   ]
  },
  {
   "cell_type": "code",
   "execution_count": 5,
   "metadata": {
    "collapsed": false,
    "deletable": true,
    "editable": true
   },
   "outputs": [
    {
     "name": "stderr",
     "output_type": "stream",
     "text": [
      "Using cuDNN version 5103 on context None\n",
      "Mapped name None to device cuda: GeForce GTX 980 Ti (0000:06:00.0)\n"
     ]
    }
   ],
   "source": [
    "# %env THEANO_FLAGS='device=cuda0,force_device=True,mode=FAST_RUN,floatX=float32'\n",
    "\n",
    "import theano\n",
    "theano.config.exception_verbosity = 'high'\n",
    "\n",
    "import theano.tensor as tt\n",
    "\n",
    "import lasagne\n",
    "from lasagne.utils import floatX"
   ]
  },
  {
   "cell_type": "markdown",
   "metadata": {
    "deletable": true,
    "editable": true
   },
   "source": [
    "Fix Lasagne's random seed."
   ]
  },
  {
   "cell_type": "code",
   "execution_count": 6,
   "metadata": {
    "collapsed": true,
    "deletable": true,
    "editable": true
   },
   "outputs": [],
   "source": [
    "lasagne.random.set_rng(np.random.RandomState(0xDEADC0DE))"
   ]
  },
  {
   "cell_type": "markdown",
   "metadata": {
    "deletable": true,
    "editable": true
   },
   "source": [
    "Build the vocabulary"
   ]
  },
  {
   "cell_type": "code",
   "execution_count": 7,
   "metadata": {
    "collapsed": false,
    "deletable": true,
    "editable": true
   },
   "outputs": [],
   "source": [
    "## It is very important that these service characters be added first\n",
    "vocab = [\">\", \"<\", \"a\", \"b\", \"c\"]\n",
    "token_to_index = {w: i for i, w in enumerate(vocab)}"
   ]
  },
  {
   "cell_type": "markdown",
   "metadata": {
    "deletable": true,
    "editable": true
   },
   "source": [
    "A function to lines into character id vectors."
   ]
  },
  {
   "cell_type": "code",
   "execution_count": 8,
   "metadata": {
    "collapsed": true,
    "deletable": true,
    "editable": true
   },
   "outputs": [],
   "source": [
    "def as_matrix(lines, max_len=None):\n",
    "    if isinstance(lines, str):\n",
    "        lines = [lines]\n",
    "\n",
    "    max_len = max_len or max(map(len, lines))\n",
    "    matrix = np.full((len(lines), max_len), -1, dtype='int32')\n",
    "\n",
    "    for i, line in enumerate(lines):\n",
    "        row_ix = [token_to_index.get(c, -1)\n",
    "                  for c in line[:max_len]]\n",
    "\n",
    "        matrix[i, :len(row_ix)] = row_ix\n",
    "\n",
    "    return matrix"
   ]
  },
  {
   "cell_type": "markdown",
   "metadata": {
    "deletable": true,
    "editable": true
   },
   "source": [
    "A function to sample a batch from History-Reply pairs"
   ]
  },
  {
   "cell_type": "code",
   "execution_count": 9,
   "metadata": {
    "collapsed": true,
    "deletable": true,
    "editable": true
   },
   "outputs": [],
   "source": [
    "def generate_batch(batch_size=32, max_seq_len=None):\n",
    "    sequences = []\n",
    "    for i in range(batch_size):\n",
    "        n, m = random_state.randint(1, 10, size=(2,))\n",
    "        sequences.append(\">\" + \"a\" * n + \"b\" * m + \"c\" * (n + m) + \"<\")\n",
    "    return as_matrix(sequences, max_seq_len)"
   ]
  },
  {
   "cell_type": "markdown",
   "metadata": {
    "deletable": true,
    "editable": true
   },
   "source": [
    "Define a simple seq2seq network (preferably in Lasagne)"
   ]
  },
  {
   "cell_type": "code",
   "execution_count": 10,
   "metadata": {
    "collapsed": false,
    "deletable": true,
    "editable": true
   },
   "outputs": [],
   "source": [
    "from lasagne.layers import InputLayer, EmbeddingLayer\n",
    "from lasagne.layers import DenseLayer\n",
    "from lasagne.layers import NonlinearityLayer\n",
    "from lasagne.layers import SliceLayer\n",
    "\n",
    "from GRUwithStack import GRUStackLayer, GRUStackReadoutLayer\n",
    "from broadcast import BroadcastLayer, UnbroadcastLayer"
   ]
  },
  {
   "cell_type": "markdown",
   "metadata": {
    "deletable": true,
    "editable": true
   },
   "source": [
    "The architecture hyper parameters"
   ]
  },
  {
   "cell_type": "code",
   "execution_count": 11,
   "metadata": {
    "collapsed": true,
    "deletable": true,
    "editable": true
   },
   "outputs": [],
   "source": [
    "n_embed_char, n_hidden_decoder = len(vocab), 32\n",
    "n_stack_depth, n_stack_width = 50, 3\n",
    "n_recurrent_layers = 1"
   ]
  },
  {
   "cell_type": "markdown",
   "metadata": {
    "deletable": true,
    "editable": true
   },
   "source": [
    "### Helpers"
   ]
  },
  {
   "cell_type": "markdown",
   "metadata": {},
   "source": [
    "A helper to create stacked RNN"
   ]
  },
  {
   "cell_type": "code",
   "execution_count": 12,
   "metadata": {
    "collapsed": true
   },
   "outputs": [],
   "source": [
    "from lasagne.layers.base import Layer\n",
    "\n",
    "def gru_column(input, stack, num_units, hidden=None, **kwargs):\n",
    "    kwargs.pop(\"only_return_final\", None)\n",
    "    if not isinstance(hidden, (list, tuple)):\n",
    "        hidden = len(stack) * [None]\n",
    "\n",
    "    name, column = kwargs.pop(\"name\", \"default\"), [input]\n",
    "    for i, (l_stack, l_hidden) in enumerate(zip(stack, hidden)):\n",
    "        kwargs_ = kwargs.copy()\n",
    "        if isinstance(l_hidden, Layer):\n",
    "            kwargs_.pop(\"learn_init\", None)\n",
    "            kwargs_[\"hid_init\"] = l_hidden\n",
    "\n",
    "        layer = GRUStackLayer(column[-1], l_stack, num_units,\n",
    "                              name=os.path.join(name, \"grustack_%02d\" % i),\n",
    "                              **kwargs_)\n",
    "        column.append(layer)\n",
    "    return column[1:]"
   ]
  },
  {
   "cell_type": "markdown",
   "metadata": {},
   "source": [
    "Create readouts of the last hidden state"
   ]
  },
  {
   "cell_type": "code",
   "execution_count": 13,
   "metadata": {
    "collapsed": true
   },
   "outputs": [],
   "source": [
    "def gru_hidden_readout(column, indices):\n",
    "    hidden = []\n",
    "    for layer in column:\n",
    "        name = os.path.join(layer.name, \"slice\")\n",
    "        slice_ = SliceLayer(layer, indices, axis=1, name=name)\n",
    "        hidden.append(slice_)\n",
    "    return hidden"
   ]
  },
  {
   "cell_type": "markdown",
   "metadata": {},
   "source": [
    "A function ot get the last state of the stack"
   ]
  },
  {
   "cell_type": "code",
   "execution_count": 14,
   "metadata": {
    "collapsed": true
   },
   "outputs": [],
   "source": [
    "def gru_stack_readout(column, indices):\n",
    "    state = []\n",
    "    for layer in column:\n",
    "        name =  os.path.join(layer.name, \"stack\")\n",
    "        stack  = GRUStackReadoutLayer(layer, name=name)\n",
    "        slice_ = SliceLayer(stack, indices, axis=1,\n",
    "                            name=os.path.join(name, \"slice\"))\n",
    "        state.append(slice_)\n",
    "    return state"
   ]
  },
  {
   "cell_type": "markdown",
   "metadata": {
    "deletable": true,
    "editable": true
   },
   "source": [
    "### Encoder-decoder"
   ]
  },
  {
   "cell_type": "markdown",
   "metadata": {
    "deletable": true,
    "editable": true
   },
   "source": [
    "Tap into the common embedding layer but with decoder's own input."
   ]
  },
  {
   "cell_type": "code",
   "execution_count": 15,
   "metadata": {
    "collapsed": true,
    "deletable": true,
    "editable": true
   },
   "outputs": [],
   "source": [
    "l_decoder_mask = InputLayer((None, None), name=\"decoder/mask\")\n",
    "l_decoder_embed = InputLayer((None, None, n_embed_char), name=\"decoder/input\")"
   ]
  },
  {
   "cell_type": "markdown",
   "metadata": {},
   "source": [
    "Construct stack inputs"
   ]
  },
  {
   "cell_type": "code",
   "execution_count": 16,
   "metadata": {
    "collapsed": true
   },
   "outputs": [],
   "source": [
    "stacks = [InputLayer((None, n_stack_depth, n_stack_width),\n",
    "                     name=\"encoder/stack%02d\" % i)\n",
    "          for i in range(n_recurrent_layers)]"
   ]
  },
  {
   "cell_type": "markdown",
   "metadata": {
    "deletable": true,
    "editable": true
   },
   "source": [
    "Construct layers of GRU-s which recieve the final state of the encoder's network."
   ]
  },
  {
   "cell_type": "code",
   "execution_count": 17,
   "metadata": {
    "collapsed": true
   },
   "outputs": [],
   "source": [
    "dec_rnn_layers = gru_column(l_decoder_embed, stacks, n_hidden_decoder,\n",
    "                            hidden=None, mask_input=l_decoder_mask,\n",
    "                            learn_init=False, backwards=False,\n",
    "                            name=\"decoder\")\n",
    "\n",
    "dec_rnn_layers_sliced = gru_hidden_readout(dec_rnn_layers, -1)\n",
    "dec_rnn_layers_stack = gru_stack_readout(dec_rnn_layers, -1)"
   ]
  },
  {
   "cell_type": "markdown",
   "metadata": {
    "deletable": true,
    "editable": true
   },
   "source": [
    "<img src=\"http://s32.postimg.org/vefrk7vqt/stack_gru.png\"/>"
   ]
  },
  {
   "cell_type": "markdown",
   "metadata": {
    "deletable": true,
    "editable": true
   },
   "source": [
    "Read the output of the top layer of the RNN and re-embed into the character space"
   ]
  },
  {
   "cell_type": "code",
   "execution_count": 18,
   "metadata": {
    "collapsed": true
   },
   "outputs": [],
   "source": [
    "l_decoder_reembedder = DenseLayer(dec_rnn_layers[-1], num_units=len(vocab),\n",
    "                                  nonlinearity=None, num_leading_axes=2,\n",
    "                                  name=\"decoder/project\")"
   ]
  },
  {
   "cell_type": "markdown",
   "metadata": {},
   "source": [
    "Construct the softmax layer"
   ]
  },
  {
   "cell_type": "code",
   "execution_count": 19,
   "metadata": {
    "collapsed": true,
    "deletable": true,
    "editable": true
   },
   "outputs": [],
   "source": [
    "l_bc = BroadcastLayer(l_decoder_reembedder, broadcasted_axes=(0, 1), name=\"decoder/bc\")\n",
    "l_softmax = NonlinearityLayer(l_bc, nonlinearity=lasagne.nonlinearities.softmax, name=\"decoder/softmax\")\n",
    "l_decoder_output = UnbroadcastLayer(l_softmax, l_bc, name=\"decoder/ub\")"
   ]
  },
  {
   "cell_type": "markdown",
   "metadata": {
    "deletable": true,
    "editable": true
   },
   "source": [
    "### Embedding subgraph (pinkish)"
   ]
  },
  {
   "cell_type": "markdown",
   "metadata": {
    "deletable": true,
    "editable": true
   },
   "source": [
    "The common embedding layer"
   ]
  },
  {
   "cell_type": "code",
   "execution_count": 20,
   "metadata": {
    "collapsed": true,
    "deletable": true,
    "editable": true
   },
   "outputs": [],
   "source": [
    "l_input_char = InputLayer((None, None), name=\"char/input\")\n",
    "l_embed_char = EmbeddingLayer(l_input_char, len(vocab), n_embed_char, name=\"char/embed\")"
   ]
  },
  {
   "cell_type": "markdown",
   "metadata": {
    "deletable": true,
    "editable": true
   },
   "source": [
    "### Loss"
   ]
  },
  {
   "cell_type": "code",
   "execution_count": 21,
   "metadata": {
    "collapsed": true
   },
   "outputs": [],
   "source": [
    "v_decoder_input = tt.imatrix(name=\"decoder/input\")\n",
    "v_decoder_embed = lasagne.layers.get_output(l_embed_char, v_decoder_input)\n",
    "\n",
    "inputs = {l_decoder_embed: v_decoder_embed,\n",
    "          l_decoder_mask: tt.ge(v_decoder_input, 0)}"
   ]
  },
  {
   "cell_type": "markdown",
   "metadata": {},
   "source": [
    "The initial stack states (zero)"
   ]
  },
  {
   "cell_type": "code",
   "execution_count": 22,
   "metadata": {
    "collapsed": false
   },
   "outputs": [],
   "source": [
    "for layer in dec_rnn_layers:\n",
    "    stack = layer.input_layers[1]\n",
    "    inputs[stack] = tt.zeros((v_decoder_embed.shape[0], n_stack_depth, n_stack_width),\n",
    "                             dtype=theano.config.floatX)"
   ]
  },
  {
   "cell_type": "markdown",
   "metadata": {
    "deletable": true,
    "editable": true
   },
   "source": [
    "Get the output of the decoder"
   ]
  },
  {
   "cell_type": "code",
   "execution_count": 23,
   "metadata": {
    "collapsed": true,
    "deletable": true,
    "editable": true
   },
   "outputs": [],
   "source": [
    "v_decoder_output, v_decoder_mask = lasagne.layers.get_output(\n",
    "    [l_decoder_output, l_decoder_mask], inputs, deterministic=False)"
   ]
  },
  {
   "cell_type": "markdown",
   "metadata": {
    "deletable": true,
    "editable": true
   },
   "source": [
    "Slice the output to match the forward character-level language model"
   ]
  },
  {
   "cell_type": "code",
   "execution_count": 24,
   "metadata": {
    "collapsed": true,
    "deletable": true,
    "editable": true
   },
   "outputs": [],
   "source": [
    "v_predicted = v_decoder_output[:, :-1].reshape(\n",
    "    (-1, v_decoder_output.shape[-1]))\n",
    "\n",
    "v_targets = v_decoder_input[:, 1:].reshape((-1,))\n",
    "\n",
    "v_mask = v_decoder_mask[:, 1:].reshape((-1,))"
   ]
  },
  {
   "cell_type": "markdown",
   "metadata": {
    "deletable": true,
    "editable": true
   },
   "source": [
    "Construct the cross-entropy loss"
   ]
  },
  {
   "cell_type": "code",
   "execution_count": 25,
   "metadata": {
    "collapsed": true,
    "deletable": true,
    "editable": true
   },
   "outputs": [],
   "source": [
    "loss_ij = lasagne.objectives.categorical_crossentropy(v_predicted, v_targets)\n",
    "loss = (loss_ij * v_mask).sum()\n",
    "loss /= v_mask.sum()"
   ]
  },
  {
   "cell_type": "markdown",
   "metadata": {
    "deletable": true,
    "editable": true
   },
   "source": [
    "Add $l^2$ regularization."
   ]
  },
  {
   "cell_type": "code",
   "execution_count": 26,
   "metadata": {
    "collapsed": false,
    "deletable": true,
    "editable": true
   },
   "outputs": [],
   "source": [
    "# from lasagne.regularization import regularize_network_params, l2\n",
    "\n",
    "# reg_l2 = regularize_network_params(l_decoder_output, l2) * 10e-5\n",
    "\n",
    "# loss += reg_l2"
   ]
  },
  {
   "cell_type": "markdown",
   "metadata": {
    "deletable": true,
    "editable": true
   },
   "source": [
    "Collect all trainable parameters "
   ]
  },
  {
   "cell_type": "code",
   "execution_count": 27,
   "metadata": {
    "collapsed": true,
    "deletable": true,
    "editable": true
   },
   "outputs": [],
   "source": [
    "trainable = []\n",
    "trainable.extend(lasagne.layers.get_all_params(l_embed_char, trainable=True))\n",
    "trainable.extend(lasagne.layers.get_all_params(l_decoder_output, trainable=True))"
   ]
  },
  {
   "cell_type": "markdown",
   "metadata": {
    "deletable": true,
    "editable": true
   },
   "source": [
    "Get the updates"
   ]
  },
  {
   "cell_type": "code",
   "execution_count": 28,
   "metadata": {
    "collapsed": true,
    "deletable": true,
    "editable": true
   },
   "outputs": [],
   "source": [
    "learning_rate = theano.shared(floatX(1e-3), name=\"eta\")\n",
    "updates = lasagne.updates.adam(loss, trainable, learning_rate)"
   ]
  },
  {
   "cell_type": "markdown",
   "metadata": {
    "deletable": true,
    "editable": true
   },
   "source": [
    "Create the ops"
   ]
  },
  {
   "cell_type": "code",
   "execution_count": 29,
   "metadata": {
    "collapsed": false,
    "deletable": true,
    "editable": true,
    "scrolled": false
   },
   "outputs": [],
   "source": [
    "op_train = theano.function([v_decoder_input], loss,\n",
    "                           updates=updates, givens={},\n",
    "                           mode=theano.Mode(optimizer=\"fast_run\"))"
   ]
  },
  {
   "cell_type": "code",
   "execution_count": 32,
   "metadata": {
    "collapsed": true
   },
   "outputs": [],
   "source": [
    "\n",
    "v_decoder_logits = lasagne.layers.get_output(l_decoder_reembedder, inputs, deterministic=True)\n",
    "\n",
    "op_predict_logits = theano.function([v_decoder_input],\n",
    "                                     v_decoder_logits, mode=theano.Mode(optimizer=\"fast_run\"))"
   ]
  },
  {
   "cell_type": "markdown",
   "metadata": {
    "deletable": true,
    "editable": true
   },
   "source": [
    "### The generator"
   ]
  },
  {
   "cell_type": "markdown",
   "metadata": {},
   "source": [
    "A handy slicer (copied and modified)"
   ]
  },
  {
   "cell_type": "code",
   "execution_count": 33,
   "metadata": {
    "collapsed": true
   },
   "outputs": [],
   "source": [
    "def slice_(x, i, n):\n",
    "    s = x[..., slice(i, i + n)]\n",
    "    return s if n > 1 else tt.addbroadcast(s, -1)"
   ]
  },
  {
   "cell_type": "markdown",
   "metadata": {
    "deletable": true,
    "editable": true
   },
   "source": [
    "Define one step of the scan function"
   ]
  },
  {
   "cell_type": "code",
   "execution_count": 34,
   "metadata": {
    "collapsed": true,
    "deletable": true,
    "editable": true
   },
   "outputs": [],
   "source": [
    "# Generator's one step update function\n",
    "def generator_step_sm(x_tm1, h_tm1, m_tm1, s_tm1, tau, eps):\n",
    "    \"\"\"One step of the generative decoder version.\"\"\"\n",
    "    # x_tm1 is `BxT` one-hot, h_tm1 is `batch x ...`\n",
    "    # m_tm1 is `batch`, tau, eps are scalars\n",
    "\n",
    "    # collect the inputs\n",
    "    inputs = {l_decoder_embed: x_tm1.dimshuffle(0, \"x\", 1),\n",
    "              l_decoder_mask: m_tm1.dimshuffle(0, \"x\")}\n",
    "\n",
    "    # Connect the prev variables to the the hidden and stack state feeds\n",
    "    j = 0\n",
    "    for layer in dec_rnn_layers:\n",
    "        inputs[layer.hid_init] = slice_(h_tm1, j, layer.num_units)\n",
    "        j += layer.num_units\n",
    "\n",
    "    j = 0\n",
    "    for layer in dec_rnn_layers:\n",
    "        layer = layer.input_layers[1]\n",
    "        dep, wid = layer.output_shape[-2:]\n",
    "        stack_slice_ = slice_(s_tm1, j, dep * wid)\n",
    "        inputs[layer] = stack_slice_.reshape((-1, dep, wid))\n",
    "        j += dep * wid\n",
    "\n",
    "    # Get the outputs\n",
    "    outputs = [l_decoder_reembedder]\n",
    "    for pair in zip(dec_rnn_layers_sliced, dec_rnn_layers_stack):\n",
    "        outputs.extend(pair)\n",
    "\n",
    "    # propagate through the decoder column\n",
    "    logit_t, *rest = lasagne.layers.get_output(outputs, inputs,\n",
    "                                               deterministic=True)\n",
    "    h_t_list, s_t_list = rest[::2], rest[1::2]\n",
    "\n",
    "    # Pack the hidden and flattened stack states\n",
    "    h_t = tt.concatenate(h_t_list, axis=-1)\n",
    "    s_t = tt.concatenate([v.flatten(ndim=2) for v in s_t_list], axis=-1)\n",
    "    \n",
    "    # Generate the next symbol: logit_t is `Bx1xV`\n",
    "    logit_t = logit_t[:, 0]\n",
    "    prob_t = tt.nnet.softmax(logit_t)\n",
    "\n",
    "    # Gumbel-softmax sampling: Gumbel (e^{-e^{-x}}) distributed random noise\n",
    "    gumbel = -tt.log(-tt.log(theano_random_state.uniform(size=logit_t.shape) + eps) + eps)\n",
    "#     logit_t = theano.ifelse.ifelse(tt.gt(tau, 0), gumbel + logit_t, logit_t)\n",
    "#     inv_temp = theano.ifelse.ifelse(tt.gt(tau, 0), 1.0 / tau, tt.constant(1.0))\n",
    "    logit_t = tt.switch(tt.gt(tau, 0), gumbel + logit_t, logit_t)\n",
    "    inv_temp = tt.switch(tt.gt(tau, 0), 1.0 / tau, tt.constant(1.0))\n",
    "\n",
    "    # Get the softmax: x_t is `BxV`\n",
    "    x_t = tt.nnet.softmax(logit_t * inv_temp)\n",
    "\n",
    "    # Get the best symbol\n",
    "    c_t = tt.cast(tt.argmax(x_t, axis=-1), \"int8\")\n",
    "\n",
    "    # Get the estimated probability of the picked symbol.\n",
    "    p_t = prob_t[tt.arange(c_t.shape[0]), c_t]\n",
    "\n",
    "    # Compute the mask and inhibit the propagation on a stop symbol.\n",
    "    # Recurrent layers return the previous state if m_tm1 is Fasle\n",
    "    m_t = m_tm1 & tt.gt(c_t, vocab.index(\"<\"))\n",
    "    c_t = tt.switch(m_t, c_t, vocab.index(\"<\"))\n",
    "\n",
    "    # There is no need to freeze the states as they will be frozen by\n",
    "    # the RNN passthrough according to the mask `m_t`.\n",
    "\n",
    "    # Embed the current character.\n",
    "    x_t = tt.dot(x_t, l_embed_char.W)\n",
    "\n",
    "    return x_t, h_t, m_t, s_t, p_t, c_t"
   ]
  },
  {
   "cell_type": "markdown",
   "metadata": {
    "deletable": true,
    "editable": true
   },
   "source": [
    "Create scalar inputs to the scan loop. Also initialize the random stream."
   ]
  },
  {
   "cell_type": "code",
   "execution_count": 35,
   "metadata": {
    "collapsed": false,
    "deletable": true,
    "editable": true
   },
   "outputs": [],
   "source": [
    "theano_random_state = tt.shared_randomstreams.RandomStreams(seed=42)\n",
    "\n",
    "eps = tt.fscalar(\"generator/epsilon\")\n",
    "n_steps = tt.iscalar(\"generator/n_steps\")\n",
    "tau = tt.fscalar(\"generator/gumbel/tau\")\n",
    "\n",
    "n_batch = tt.iscalar(\"generator/n_batch\")"
   ]
  },
  {
   "cell_type": "markdown",
   "metadata": {},
   "source": [
    "Helper functions to freeze the GRULayer's hidden input's initialization, if one is a parameter."
   ]
  },
  {
   "cell_type": "code",
   "execution_count": 36,
   "metadata": {
    "collapsed": true
   },
   "outputs": [],
   "source": [
    "def GRULayer_freeze(layer, n_batch):\n",
    "    assert isinstance(layer, GRUStackLayer)\n",
    "    if isinstance(layer.hid_init, Layer):\n",
    "        return layer\n",
    "\n",
    "    assert not (layer.hid_init_incoming_index > 0)\n",
    "    assert isinstance(layer.hid_init, theano.compile.SharedVariable)\n",
    "\n",
    "    # Broadcast the fixed /learnt hidden init over the batch dimension\n",
    "    hid_init = tt.dot(tt.ones((n_batch, 1)), layer.hid_init)\n",
    "\n",
    "    # Create a fake Input Layer, which receives it as input\n",
    "    layer._old_hid_init = layer.hid_init\n",
    "    layer.hid_init = InputLayer((None, None), input_var=hid_init,\n",
    "                                name=os.path.join(layer.name,\n",
    "                                                  \"hid_init_fix\"))\n",
    "    \n",
    "    # Cache former values\n",
    "    layer._old_input_layers = layer.input_layers\n",
    "    layer._old_input_shapes = layer.input_shapes\n",
    "    layer._old_hid_init_incoming_index = layer.hid_init_incoming_index\n",
    "    \n",
    "    # Emulate hidden layer input (is in GRULayer/MergeLayer.__init__())\n",
    "    layer.input_layers.append(layer.hid_init)\n",
    "    layer.input_shapes.append(layer.hid_init.output_shape)\n",
    "    layer.hid_init_incoming_index = len(layer.input_layers) - 1\n",
    "\n",
    "    layer._layer_frozen = True\n",
    "    return layer"
   ]
  },
  {
   "cell_type": "markdown",
   "metadata": {},
   "source": [
    "Freeze the hidden inputs of the decoder layers, which do not tap into the encoder."
   ]
  },
  {
   "cell_type": "code",
   "execution_count": 37,
   "metadata": {
    "collapsed": false
   },
   "outputs": [],
   "source": [
    "for layer in dec_rnn_layers:\n",
    "    GRULayer_freeze(layer, n_batch)"
   ]
  },
  {
   "cell_type": "markdown",
   "metadata": {
    "deletable": true,
    "editable": true
   },
   "source": [
    "Readout the last state of the stack (per dialogue in the batch) from the encoder."
   ]
  },
  {
   "cell_type": "code",
   "execution_count": 38,
   "metadata": {
    "collapsed": true,
    "deletable": true,
    "editable": true
   },
   "outputs": [],
   "source": [
    "dec_stack_inits = [tt.zeros((n_batch, n_stack_depth, n_stack_width))\n",
    "                   for l in dec_rnn_layers]\n",
    "\n",
    "dec_hid_inits = [tt.zeros((n_batch, n_hidden_decoder))\n",
    "                 for l in dec_rnn_layers]"
   ]
  },
  {
   "cell_type": "markdown",
   "metadata": {
    "deletable": true,
    "editable": true
   },
   "source": [
    "Prepare the initial values."
   ]
  },
  {
   "cell_type": "code",
   "execution_count": 39,
   "metadata": {
    "collapsed": false
   },
   "outputs": [],
   "source": [
    "h_0 = tt.concatenate(dec_hid_inits, axis=-1)\n",
    "s_0 = tt.concatenate([v.flatten(ndim=2) for v in dec_stack_inits], axis=-1)\n",
    "\n",
    "x_0 = tt.fill(tt.zeros((n_batch,), dtype=\"int32\"), vocab.index(\">\"))\n",
    "x_0 = lasagne.layers.get_output(l_embed_char, x_0)\n",
    "\n",
    "m_0 = tt.ones((n_batch,), 'bool')"
   ]
  },
  {
   "cell_type": "markdown",
   "metadata": {
    "deletable": true,
    "editable": true
   },
   "source": [
    "Add a scan op and compile"
   ]
  },
  {
   "cell_type": "code",
   "execution_count": 40,
   "metadata": {
    "collapsed": false,
    "deletable": true,
    "editable": true,
    "scrolled": true
   },
   "outputs": [],
   "source": [
    "result, updates = theano.scan(generator_step_sm, sequences=None, n_steps=n_steps,\n",
    "                              outputs_info=[x_0, h_0, m_0, s_0, None, None], return_list=True,\n",
    "                              non_sequences=[tau, eps], strict=False,\n",
    "                              go_backwards=False, name=\"generator/scan\")\n",
    "x_t, h_t, m_t, s_t, p_t, c_t = [r.swapaxes(0, 1) for r in result]\n",
    "\n",
    "compile_mode = theano.Mode(optimizer=\"fast_run\", linker=\"cvm\")\n",
    "op_generate = theano.function([n_batch, n_steps, tau], [c_t, h_t, m_t, s_t, p_t],\n",
    "                              updates=updates, givens={eps: floatX(1e-20)},\n",
    "                              mode=compile_mode)"
   ]
  },
  {
   "cell_type": "markdown",
   "metadata": {
    "deletable": true,
    "editable": true
   },
   "source": [
    "A generator procedure, which automatically select the best replies (shortest)."
   ]
  },
  {
   "cell_type": "code",
   "execution_count": 41,
   "metadata": {
    "collapsed": true,
    "deletable": true,
    "editable": true
   },
   "outputs": [],
   "source": [
    "def generate(n_batches, n_steps, tau=0):\n",
    "    x_t, h_t, m_t, s_t, p_t = op_generate(n_batches, n_steps, tau)\n",
    "\n",
    "    # may produce NaN, but they are shifted in the back by arsort\n",
    "    perplexity, n_chars = (- np.log2(p_t) * m_t).sum(axis=-1), m_t.sum(axis=-1)\n",
    "    perplexity /= n_chars\n",
    "\n",
    "    result = []\n",
    "    for i in perplexity.argsort():\n",
    "        reply = \"\".join(map(vocab.__getitem__, x_t[i, :n_chars[i]]))\n",
    "        result.append(reply)\n",
    "        # result.append((reply, perplexity[i]))  # , s_t[i, -1]))\n",
    "\n",
    "    return result"
   ]
  },
  {
   "cell_type": "markdown",
   "metadata": {},
   "source": [
    "<br/>"
   ]
  },
  {
   "cell_type": "markdown",
   "metadata": {
    "deletable": true,
    "editable": true
   },
   "source": [
    "### The main training loop"
   ]
  },
  {
   "cell_type": "code",
   "execution_count": 42,
   "metadata": {
    "collapsed": true,
    "deletable": true,
    "editable": true
   },
   "outputs": [],
   "source": [
    "def sample_qa():\n",
    "    replies = generate(10, 140, tau=2**-15)\n",
    "    tqdm.tqdm.write(\", \".join(replies))"
   ]
  },
  {
   "cell_type": "markdown",
   "metadata": {
    "deletable": true,
    "editable": true
   },
   "source": [
    "Reset the history"
   ]
  },
  {
   "cell_type": "code",
   "execution_count": 43,
   "metadata": {
    "collapsed": true,
    "deletable": true,
    "editable": true
   },
   "outputs": [],
   "source": [
    "epoch, loss_val_hist = 0, []"
   ]
  },
  {
   "cell_type": "markdown",
   "metadata": {
    "deletable": true,
    "editable": true
   },
   "source": [
    "Now let's train the shit!"
   ]
  },
  {
   "cell_type": "code",
   "execution_count": 44,
   "metadata": {
    "collapsed": false,
    "deletable": true,
    "editable": true,
    "scrolled": false
   },
   "outputs": [
    {
     "name": "stderr",
     "output_type": "stream",
     "text": [
      "  0%|          | 0/5000 [00:00<?, ?it/s]"
     ]
    },
    {
     "name": "stdout",
     "output_type": "stream",
     "text": [
      "ccbc, c, cc, cac, bcab, acbccc, a, , , \n"
     ]
    },
    {
     "name": "stderr",
     "output_type": "stream",
     "text": [
      "  1%|          | 50/5000 [00:21<34:53,  2.36it/s, 1.366]"
     ]
    },
    {
     "name": "stdout",
     "output_type": "stream",
     "text": [
      "bbc, c, c, c, b, , , , , \n"
     ]
    },
    {
     "name": "stderr",
     "output_type": "stream",
     "text": [
      "  2%|▏         | 100/5000 [00:42<34:31,  2.37it/s, 1.184]"
     ]
    },
    {
     "name": "stdout",
     "output_type": "stream",
     "text": [
      "bbbcbbcc, a, abaaa, ab, cb, , , , , \n"
     ]
    },
    {
     "name": "stderr",
     "output_type": "stream",
     "text": [
      "  3%|▎         | 150/5000 [01:03<34:14,  2.36it/s, 0.861]"
     ]
    },
    {
     "name": "stdout",
     "output_type": "stream",
     "text": [
      "acaaaaabbbcbcccccccc, aaaacbbbcbcbcccccccccccc, aa, bbabccbbccccbc, caa, b, b, cccc, , \n"
     ]
    },
    {
     "name": "stderr",
     "output_type": "stream",
     "text": [
      "  4%|▍         | 200/5000 [01:25<33:54,  2.36it/s, 0.626]"
     ]
    },
    {
     "name": "stdout",
     "output_type": "stream",
     "text": [
      "aaaaaaabbbcbbcccccccccccccccccc, aaabaabbbbcccccccccccccccccc, ababbbbcccccccccccccccccccc, baaaabbbbcccccccccccc, aabaabbbbbbcccccccccc, bbbbbcbccccc, abaabaacccbccccc, b, b, \n"
     ]
    },
    {
     "name": "stderr",
     "output_type": "stream",
     "text": [
      "  5%|▌         | 250/5000 [01:46<33:32,  2.36it/s, 0.488]"
     ]
    },
    {
     "name": "stdout",
     "output_type": "stream",
     "text": [
      "aaaaaaabbbbbbccccccc, aaaaaaaabbbbccccc, aaaaaabbbbbbbbbbccccccccccccc, aaaaabbbbbbbbbbcccccccccc, aaaaaaabbbbccbccccccccc, aaaaababbbcccccccccc, abbbbbbbbccccccc, bbbbbbbbccccc, aabbbbbcc, baabcbccccc\n"
     ]
    },
    {
     "name": "stderr",
     "output_type": "stream",
     "text": [
      "  6%|▌         | 300/5000 [02:07<33:07,  2.36it/s, 0.416]"
     ]
    },
    {
     "name": "stdout",
     "output_type": "stream",
     "text": [
      "aaaaaaaabbbbbcccccccccccc, aaaaabbbbbcccccccc, aaaaaabbbcccccccccc, aaaaaaabbccccccc, aaaaabbbccccc, aaaaabbccccccccc, acaabbbcccccccccccc, aaccbbbbcccccccccc, baacc, \n"
     ]
    },
    {
     "name": "stderr",
     "output_type": "stream",
     "text": [
      "  7%|▋         | 350/5000 [02:28<32:44,  2.37it/s, 0.366]"
     ]
    },
    {
     "name": "stdout",
     "output_type": "stream",
     "text": [
      "aaaaabbbbbbbbbccccccccccccc, aaaabbbbbbbccccccccccc, aaaaaaabbbcccccccccc, aaaaaabbbccccccccc, aaabbbbbccccccccc, aaaaabbccccc, aabbbbccccc, aaaaaaaaaaaabcccccccccc, bbbbbccccccc, ccbacbccc\n"
     ]
    },
    {
     "name": "stderr",
     "output_type": "stream",
     "text": [
      "  8%|▊         | 400/5000 [02:50<32:23,  2.37it/s, 0.322]"
     ]
    },
    {
     "name": "stdout",
     "output_type": "stream",
     "text": [
      "aa, aaaaaaabbbbbbbccccccccccccc, aaaaaaaabbbbbccccccccccccc, aaaaaabbbbbcccccccccccc, aaaabbbbbbccccccccc, aaaaaaaabbcccccccccc, aaaaaaacbbbbbbbbcccccccccccccccc, aaabbbbccccccc, aaaaaaaaaaaccccccccc, cbbcbcccc\n"
     ]
    },
    {
     "name": "stderr",
     "output_type": "stream",
     "text": [
      "  9%|▉         | 450/5000 [03:11<32:15,  2.35it/s, 0.289]"
     ]
    },
    {
     "name": "stdout",
     "output_type": "stream",
     "text": [
      "aaaabbbbbbbbcccccccccccc, aaaaaaabbbbccccccccccc, aaaaabbbbbccccccccccc, aaaaaaabbccccccccc, aaaaaaaabbbcbccccccccccccc, aaabbbbbbcccccccccc, aaababbbbcbcccccccccc, bbbccccc, aaaabaccccccc, aabcbccccc\n"
     ]
    },
    {
     "name": "stderr",
     "output_type": "stream",
     "text": [
      " 10%|█         | 500/5000 [03:32<31:45,  2.36it/s, 0.274]"
     ]
    },
    {
     "name": "stdout",
     "output_type": "stream",
     "text": [
      "aaaaaabbbbbbbbbcccccccccccccc, aaaabbbbbbbbcccccccccccc, aaaaaaabbbcccccccccc, aaaabbbbbccccccccc, aaaaaaabbbccccc, aaaaaaabccccccc, aaaaabbcccccc, aabbbbbcccccccc, abbbbbccccc, abbbbcccccc\n"
     ]
    },
    {
     "name": "stderr",
     "output_type": "stream",
     "text": [
      " 11%|█         | 550/5000 [03:54<31:21,  2.36it/s, 0.265]"
     ]
    },
    {
     "name": "stdout",
     "output_type": "stream",
     "text": [
      "aaaaaaaabbbbbbbccccccccccccccc, aaaaaaaaabbbbbcccccccccccccc, aaaaaaaaaabbbbbcccccccccccccc, aaaaaaabbbbccccccccc, aaaaaaaabbbccccccccccc, aaaaabbbbccccccccc, aaaaaaabbccccccc, aabbbbbbccccccc, aabbbbbccccccc, aabbbbcccccc\n"
     ]
    },
    {
     "name": "stderr",
     "output_type": "stream",
     "text": [
      " 12%|█▏        | 600/5000 [04:15<30:57,  2.37it/s, 0.258]"
     ]
    },
    {
     "name": "stdout",
     "output_type": "stream",
     "text": [
      "aaaaaabbbbbbbbcccccccccccccc, aaaaabbbbbbbbccccccccccccc, aaaaaabbbbcccccccccc, aaaaaaaabbbbcbcccccccccccccc, aaaaaaabcccccccc, aaaaabbccccccc, aaaaaaaaaaabbbbbccccccccccccccccc, aaaaabbbcccc, aabbcccc, bbbccc\n"
     ]
    },
    {
     "name": "stderr",
     "output_type": "stream",
     "text": [
      " 13%|█▎        | 650/5000 [04:36<30:40,  2.36it/s, 0.249]"
     ]
    },
    {
     "name": "stdout",
     "output_type": "stream",
     "text": [
      "aaaaaaaabbbbbbbbbccccccccccccccc, aaaaaaabbbbbcccccccccccc, aaaaabbbbbbbcccccccccccc, aaaaaabbbbbccccccccccc, aaabbbbbbbcccccccccc, aaaaaaaabccccccccc, aaaaaaacbbbbbccccccccccccc, abbbbbbbcccccccc, aaaaaaaacbbcccccccccc, aaaaaacabbccccccccc\n"
     ]
    },
    {
     "name": "stderr",
     "output_type": "stream",
     "text": [
      " 14%|█▍        | 700/5000 [04:57<30:21,  2.36it/s, 0.244]"
     ]
    },
    {
     "name": "stdout",
     "output_type": "stream",
     "text": [
      "aaaaabbbbbbbcccccccccccc, aaaaaaabbbbbcccccccccccc, aaaaaaaaaabbbbbccccccccccccccc, aaabbbbbbbbbcccccccccccc, aaaabbbbbccccccccc, aabbbbbbcccccccc, aabbbbbccccccc, abbbbbbbcccccccc, abbbbbbccccccc, bbbbbbcccccc\n"
     ]
    },
    {
     "name": "stderr",
     "output_type": "stream",
     "text": [
      " 15%|█▌        | 750/5000 [05:19<29:55,  2.37it/s, 0.240]"
     ]
    },
    {
     "name": "stdout",
     "output_type": "stream",
     "text": [
      "aaaabbbbbbbbcccccccccccc, aaaaaabbbbbbbbbcccccccccccccccc, aaaaabbbbbcccccccccc, aaaaabbbbccccccccc, aaaaaabbbbbcccccccccccc, abbbbbbbbccccccccc, aabbbccccc, abbbbccccc, aaabbbccccccc, aabbbcccccc\n"
     ]
    },
    {
     "name": "stderr",
     "output_type": "stream",
     "text": [
      " 16%|█▌        | 800/5000 [05:40<29:33,  2.37it/s, 0.234]"
     ]
    },
    {
     "name": "stdout",
     "output_type": "stream",
     "text": [
      "aaaaaaaaabbbbbbccccccccccccccc, aaaaabbbbbbbcccccccccccc, aaaaaaaabbbbcccccccccccc, aaaaaaabbbbccccccccccc, aaaaaaaabbbccccccccccc, aaaaaabbbbcccccccccc, aaaaaabbbbcccccccccc, aaabbbbbbbbbbcccccccccccc, aaaaaaacccccccc, \n"
     ]
    },
    {
     "name": "stderr",
     "output_type": "stream",
     "text": [
      " 17%|█▋        | 850/5000 [06:01<29:07,  2.37it/s, 0.232]"
     ]
    },
    {
     "name": "stdout",
     "output_type": "stream",
     "text": [
      "aaaaaaabbbbbbbbcccccccccccccc, aaaaaaabbbbbbccccccccccccc, aaaaaaabbbbbbccccccccccccc, aaaaabbbbbbbcccccccccccc, aaabbbbbbbbccccccccccc, aaaaaabbbbcccccccccc, aaaaaaaaaccccccccc, aaaaaabbbbcbcccccccccccc, aaaaaaaaaaaccccccccccc, aabbcc\n"
     ]
    },
    {
     "name": "stderr",
     "output_type": "stream",
     "text": [
      " 18%|█▊        | 900/5000 [06:22<28:50,  2.37it/s, 0.235]"
     ]
    },
    {
     "name": "stdout",
     "output_type": "stream",
     "text": [
      "aaaaabbbbbbbbbcccccccccccccc, aaabbbbbbbbbbccccccccccccc, aaaaaaaabbcccccccccc, aaaaaaaaabcccccccccc, aabbbbbbbbbbcccccccccccc, aaaaaaaabbbbbcbccccccccccccccc, abbbbbbbbccccccccc, aaaaaabcccccc, aaabbcccc, abbcccc\n"
     ]
    },
    {
     "name": "stderr",
     "output_type": "stream",
     "text": [
      " 19%|█▉        | 950/5000 [06:44<28:28,  2.37it/s, 0.232]"
     ]
    },
    {
     "name": "stdout",
     "output_type": "stream",
     "text": [
      "aaaaaaabbbbbbccccccccccccc, aaabbbbbbbbccccccccccc, aaabbbbbbccccccccc, aaaaaaaaabbbbbbbccccccccccccccccc, abbbbbbbbbcccccccccc, aaaaabbccccccc, aabbbccccc, aabbbccccc, aaaaaabcbccccccccc, aabbcccc\n"
     ]
    },
    {
     "name": "stderr",
     "output_type": "stream",
     "text": [
      " 20%|██        | 1000/5000 [07:05<28:11,  2.36it/s, 0.225]"
     ]
    },
    {
     "name": "stdout",
     "output_type": "stream",
     "text": [
      "aaaaaaabbbbbbbcccccccccccccc, aaaabbbbbbbbbccccccccccccc, aaaaaaaaaabbbbbccccccccccccccc, aabbbbbbbbcccccccccc, aaaaaaabbccccccccc, aaaaaaabbccccccccc, aaaaaaaaaabbcccccccccccc, aaabbbbbcccccccc, aaaabbbccccccc, aaabbbcccccc\n"
     ]
    },
    {
     "name": "stderr",
     "output_type": "stream",
     "text": [
      " 21%|██        | 1050/5000 [07:26<27:49,  2.37it/s, 0.224]"
     ]
    },
    {
     "name": "stdout",
     "output_type": "stream",
     "text": [
      "aabbbbbbbbcccccccccc, aaaaaabbbbcccccccccc, aaabbbbbbccccccccc, aaaaaaaaaabbcccccccccccc, aaaaaaabcccccccc, abbbbbbbbbccccccccc, aaabbbcccccc, aaaabbcccccc, abbbcccc, abbbccccc\n"
     ]
    },
    {
     "name": "stderr",
     "output_type": "stream",
     "text": [
      " 22%|██▏       | 1100/5000 [07:47<27:24,  2.37it/s, 0.224]"
     ]
    },
    {
     "name": "stdout",
     "output_type": "stream",
     "text": [
      "aaaaaaaabbbbbbbccccccccccccccc, aaaaabbbbbbbbccccccccccccc, aaaaaaaabbbbcccccccccccc, aaaabbbbbbbbbbcccccccccccccc, aaaaaabbbbbccccccccccc, aaabbbbbbbbbbbccccccccccccc, aaaabbbccccccc, aaabbccccc, abbbcccc, bbccc\n"
     ]
    },
    {
     "name": "stderr",
     "output_type": "stream",
     "text": [
      " 23%|██▎       | 1150/5000 [08:09<27:02,  2.37it/s, 0.234]"
     ]
    },
    {
     "name": "stdout",
     "output_type": "stream",
     "text": [
      "aaaaaaabbbbbbbccccccccccccccc, aaaaaaabbbbbbcccccccccccccc, aaaaaabbbbbbbbccccccccccccccc, aaaaaaabbbbbccccccccccccc, aaaaaaaabbbbccccccccccccc, aaaaaabbbbbcccccccccccc, aaaaabbbbbccccccccccc, aaaaaaabbcccccccccc, aabbbccccc, aaabbccccc\n"
     ]
    },
    {
     "name": "stderr",
     "output_type": "stream",
     "text": [
      " 24%|██▍       | 1200/5000 [08:30<26:43,  2.37it/s, 0.238]"
     ]
    },
    {
     "name": "stdout",
     "output_type": "stream",
     "text": [
      "aaaaaaaaabbbbbbccccccccccccccc, aaaaaaaabbbbccccccccccc, aaaaaabbbbbccccccccccc, aaaaaaaaabcccccccccc, aaaaaaaabccccccccc, aaaaaaabcccccccc, aaaaaaabcccccccc, abbbbbbbbccccccccc, aaabbbcccccc, abbbcccc\n"
     ]
    },
    {
     "name": "stderr",
     "output_type": "stream",
     "text": [
      " 25%|██▌       | 1250/5000 [08:51<26:21,  2.37it/s, 0.226]"
     ]
    },
    {
     "name": "stdout",
     "output_type": "stream",
     "text": [
      "aaaaaabbbbbbcccccccccccc, aaaabbbbbbbbcccccccccccc, aaaabbbbbbcccccccccc, aaaaaaabbbcccccccccc, abbbbbbbcccccccc, abbbbbcccccc, aabbbccccc, aaaaaaaccccccc, abbccc, aaabaccccc\n"
     ]
    },
    {
     "name": "stderr",
     "output_type": "stream",
     "text": [
      " 26%|██▌       | 1300/5000 [09:12<26:01,  2.37it/s, 0.221]"
     ]
    },
    {
     "name": "stdout",
     "output_type": "stream",
     "text": [
      "aaaaaaabbbbbbbbccccccccccccccc, aaaaaaaaabbbbbbccccccccccccccc, aaaaaabbbbbbbccccccccccccc, aaaaaaabbbbbbbbbbccccccccccccccccc, aaaaaaabbbbbcccccccccccc, aabbbbbbbbcccccccccc, aaaaabbbbbcccccccccc, abbbbbbbcccccccc, aaaaaabccccccc, aaaabccccc\n"
     ]
    },
    {
     "name": "stderr",
     "output_type": "stream",
     "text": [
      " 27%|██▋       | 1350/5000 [09:33<25:35,  2.38it/s, 0.222]"
     ]
    },
    {
     "name": "stdout",
     "output_type": "stream",
     "text": [
      "aaaaabbbbbbccccccccccc, aaaaaaaabbcccccccccc, aabbbbbbbbbccccccccccc, aabbbbbbbccccccccc, abbbbbbbcccccccc, aaaaaabccccccc, aabbbbcccccc, aabbbccccc, aabbbccccc, aaabbbccccccc\n"
     ]
    },
    {
     "name": "stderr",
     "output_type": "stream",
     "text": [
      " 28%|██▊       | 1400/5000 [09:55<25:18,  2.37it/s, 0.221]"
     ]
    },
    {
     "name": "stdout",
     "output_type": "stream",
     "text": [
      "aaaaaaaabbbbbbbbcccccccccccccccc, aaaaaaaabbbbbbcccccccccccccc, aaaaaaabbbbbcccccccccccc, aaaabbbbbbbccccccccccc, aaabbbbbbbcccccccccc, aabbbbbbbbbccccccccccc, aaaaaaabcccccccc, aaaaaaaaaccccccccc, aabbcccc, aabccc\n"
     ]
    },
    {
     "name": "stderr",
     "output_type": "stream",
     "text": [
      " 29%|██▉       | 1450/5000 [10:16<24:57,  2.37it/s, 0.218]"
     ]
    },
    {
     "name": "stdout",
     "output_type": "stream",
     "text": [
      "aaaaaabbbbbbbbbccccccccccccccc, aaaaaabbbbbbbbbccccccccccccccc, aaaaaaaabbbbbccccccccccccc, aaaaabbbbbbbbbcccccccccccccc, aaaaaaaaabbbbccccccccccccc, aaaabbbbbbbbcccccccccccc, aaaaaaaaaabbbbbccccccccccccccc, aaaaaaaabbbccccccccccc, aaabbbcccccc, abbcc\n"
     ]
    },
    {
     "name": "stderr",
     "output_type": "stream",
     "text": [
      " 30%|███       | 1500/5000 [10:37<24:49,  2.35it/s, 0.218]"
     ]
    },
    {
     "name": "stdout",
     "output_type": "stream",
     "text": [
      "aaaaaaaaabbbbbbccccccccccccccc, aaaaaabbbbbbbccccccccccccc, aaaaabbbbbbccccccccccc, aabbbbbbbccccccccc, aaabbbbbbccccccccc, aaaaaaabbccccccccc, aaaaaabbbccccccccc, aaaabbbccccccc, aaabbccccc, aaaabcccc\n"
     ]
    },
    {
     "name": "stderr",
     "output_type": "stream",
     "text": [
      " 31%|███       | 1550/5000 [10:58<24:14,  2.37it/s, 0.218]"
     ]
    },
    {
     "name": "stdout",
     "output_type": "stream",
     "text": [
      "aaaaaaaaabbbbbbbcccccccccccccccc, aaaaaaabbbbbbbcccccccccccccc, aaaaaabbbbbbbbbccccccccccccccc, aaaabbbbbbbbbbcccccccccccccc, aaaaaabbbbbccccccccccc, aaaaaaaabbcccccccccc, aabbbbbbbccccccccc, aaaaaaabcccccccc, aaaaaabbbccccccccc, aabccc\n"
     ]
    },
    {
     "name": "stderr",
     "output_type": "stream",
     "text": [
      " 32%|███▏      | 1600/5000 [11:20<24:20,  2.33it/s, 0.218]"
     ]
    },
    {
     "name": "stdout",
     "output_type": "stream",
     "text": [
      "aaaaaaaabbbbbbbccccccccccccccc, aaaaaaabbbbbbccccccccccccc, aaaaaabbbbbbbccccccccccccc, aaaabbbbbbbbcccccccccccc, aaaaaabbbbcccccccccc, aaaaabbccccccc, aaabbbbccccccc, aaabbbcccccc, aaaaaaaccccccc, abbccc\n"
     ]
    },
    {
     "name": "stderr",
     "output_type": "stream",
     "text": [
      " 33%|███▎      | 1650/5000 [11:41<23:35,  2.37it/s, 0.218]"
     ]
    },
    {
     "name": "stdout",
     "output_type": "stream",
     "text": [
      "aaaaaaaabbbbbbcccccccccccccc, aaaaaaaabbbbcccccccccccc, aaaaaaaaabbbbccccccccccccc, aaabbbbbbbbccccccccccc, aaaaaaabbbbccccccccccc, aaaaaabccccccc, aaaabbcccccc, aaabbbcccccc, aaaaaacaabbbbbbbbccccccccccccccccc, aabbcccc\n"
     ]
    },
    {
     "name": "stderr",
     "output_type": "stream",
     "text": [
      " 34%|███▍      | 1700/5000 [12:02<23:10,  2.37it/s, 0.217]"
     ]
    },
    {
     "name": "stdout",
     "output_type": "stream",
     "text": [
      "aaaaaaabbbbbbbbccccccccccccccc, aaaaaaabbbbbbccccccccccccc, aaaaabbbbbbbcccccccccccc, aaaaaaabbbbccccccccccc, aaaaaaaabccccccccc, aaaabbbbbccccccccc, aaaabbbccccccc, aabbbccccc, aabbbccccc, abbbcccc\n"
     ]
    },
    {
     "name": "stderr",
     "output_type": "stream",
     "text": [
      " 35%|███▌      | 1750/5000 [12:23<22:51,  2.37it/s, 0.216]"
     ]
    },
    {
     "name": "stdout",
     "output_type": "stream",
     "text": [
      "aaaaaaaabbbbbccccccccccccc, aaaabbbbbbbbbccccccccccccc, aaaabbbbbbbccccccccccc, aaaaaaabbbbccccccccccc, aaaaabbbbbcccccccccc, aaaaaabbbccccccccc, aaaaaabbbccccccccc, aabbbbbbcccccccc, aaabbbcccccc, aaaaabcccccc\n"
     ]
    },
    {
     "name": "stderr",
     "output_type": "stream",
     "text": [
      " 36%|███▌      | 1800/5000 [12:45<22:30,  2.37it/s, 0.216]"
     ]
    },
    {
     "name": "stdout",
     "output_type": "stream",
     "text": [
      "aaaaaaaabbbbbbbbcccccccccccccccc, aaaaaaaabbbbbbcccccccccccccc, aaaaaaaaabbbbbbccccccccccccccc, aaaaaabbbbbbbbbccccccccccccccc, aabbbbbbbbcccccccccc, aaaabbbbbbcccccccccc, aaaaabbbbbcccccccccc, aabbbbbbbccccccccc, aaaabbbbbccccccccc, aaaaabbccccccc\n"
     ]
    },
    {
     "name": "stderr",
     "output_type": "stream",
     "text": [
      " 37%|███▋      | 1850/5000 [13:06<22:14,  2.36it/s, 0.215]"
     ]
    },
    {
     "name": "stdout",
     "output_type": "stream",
     "text": [
      "a, aaaaaaaabbbbbccccccccccccc, aaaaaabbbbbbcccccccccccc, aabbbbbbbbbccccccccccc, aabbbbbbcccccccc, aabbbbbccccccc, aaaaaabccccccc, aaabbbbccccccc, aaabbbcccccc, \n"
     ]
    },
    {
     "name": "stderr",
     "output_type": "stream",
     "text": [
      " 38%|███▊      | 1900/5000 [13:27<21:46,  2.37it/s, 0.215]"
     ]
    },
    {
     "name": "stdout",
     "output_type": "stream",
     "text": [
      "aaabbbbbbbbccccccccccc, aaaabbbbbbbccccccccccc, aaaaaaabbbbccccccccccc, abbbbbbbbbcccccccccc, aaabbbbbcccccccc, aaabbbcccccc, aaabbbcccccc, aaaaabcccccc, aabbcccc, abbccc\n"
     ]
    },
    {
     "name": "stderr",
     "output_type": "stream",
     "text": [
      " 39%|███▉      | 1950/5000 [13:48<21:24,  2.37it/s, 0.216]"
     ]
    },
    {
     "name": "stdout",
     "output_type": "stream",
     "text": [
      "aaaaaaaabbbbbbbbbccccccccccccccccc, aaaaaabbbbbbbbcccccccccccccc, aaaaabbbbbbbcccccccccccc, aaaabbbbbbbccccccccccc, aaaaaaabbbbccccccccccc, aaaaaaabcccccccc, aabbbbbbcccccccc, aabbbbbbcccccccc, aaaaaabccccccc, aaabcbccccc\n"
     ]
    },
    {
     "name": "stderr",
     "output_type": "stream",
     "text": [
      " 40%|████      | 2000/5000 [14:09<21:03,  2.37it/s, 0.216]"
     ]
    },
    {
     "name": "stdout",
     "output_type": "stream",
     "text": [
      "aaaaaaaabbbbbbbccccccccccccccc, aaaaaaaabbbbbbbccccccccccccccc, aaaaaabbbbbbbbcccccccccccccc, aaaaaaaaabbbbbcccccccccccccc, aaaaaaaabbbbbbbbbbcccccccccccccccccc, aaaaaaaaabbbbccccccccccccc, aaaabbbbcccccccc, aaaaabbbcccccccc, aabbbbcccccc, \n"
     ]
    },
    {
     "name": "stderr",
     "output_type": "stream",
     "text": [
      " 41%|████      | 2050/5000 [14:31<20:45,  2.37it/s, 0.215]"
     ]
    },
    {
     "name": "stdout",
     "output_type": "stream",
     "text": [
      "aaaaaaaabbbbbbbccccccccccccccc, aaaaaaabbbbbbbcccccccccccccc, aaaaaaaabbbbbbbbbccccccccccccccccc, aaaaaabbbbbbbbcccccccccccccc, aaaabbbbbbbbcccccccccccc, aaaabbbbbbbccccccccccc, aaaaaabbcccccccc, aaabbbbbcccccccc, aaabcccc, bbccc\n"
     ]
    },
    {
     "name": "stderr",
     "output_type": "stream",
     "text": [
      " 42%|████▏     | 2100/5000 [14:52<20:27,  2.36it/s, 0.215]"
     ]
    },
    {
     "name": "stdout",
     "output_type": "stream",
     "text": [
      "aaaaaaaabbbbbbcccccccccccccc, aaaaaaabbbbbbccccccccccccc, aaabbbbbbbcccccccccc, aaabbbbbbbbbbccccccccccccc, aaaaaaabcccccccc, aaaaaaabcccccccc, aaaaaabbcccccccc, aaaabbcccccc, abbbcccc, abbccc\n"
     ]
    },
    {
     "name": "stderr",
     "output_type": "stream",
     "text": [
      " 43%|████▎     | 2150/5000 [15:13<20:02,  2.37it/s, 0.215]"
     ]
    },
    {
     "name": "stdout",
     "output_type": "stream",
     "text": [
      "aaaaaaaabbbccccccccccc, aaabbbbbbbcccccccccc, aaaabbbbbbcccccccccc, aaaaaaaaabbccccccccccc, aaaaabbbbbcccccccccc, aaaaaaaabccccccccc, aabbbbbbbbbccccccccccc, aaaabbcccccc, aabccc, abccc\n"
     ]
    },
    {
     "name": "stderr",
     "output_type": "stream",
     "text": [
      " 44%|████▍     | 2200/5000 [15:34<19:42,  2.37it/s, 0.215]"
     ]
    },
    {
     "name": "stdout",
     "output_type": "stream",
     "text": [
      "aaaaaaabbbbbbbbccccccccccccccc, aaaaabbbbbbbbbcccccccccccccc, aaaaaabbbbbbcccccccccccc, aaabbbbbbbcccccccccc, aaaabbbbbbcccccccccc, aaaaaabbbbcccccccccc, aaaaaaaaabcccccccccc, aabbbbbbcccccccc, aaabcccc, aabccc\n"
     ]
    },
    {
     "name": "stderr",
     "output_type": "stream",
     "text": [
      " 45%|████▌     | 2250/5000 [15:55<19:18,  2.37it/s, 0.215]"
     ]
    },
    {
     "name": "stdout",
     "output_type": "stream",
     "text": [
      "aaaaaaaabbbbbbbccccccccccccccc, aaaaaabbbbbbbccccccccccccc, aaaaaabbbbbbcccccccccccc, aaaaaabbbbbccccccccccc, aaaaaaaaabbbcccccccccccc, aaaaabbbbbcccccccccc, aaaaaaabbccccccccc, abbbbbbbbccccccccc, aabbbbbccccccc, aabbbccccc\n"
     ]
    },
    {
     "name": "stderr",
     "output_type": "stream",
     "text": [
      " 46%|████▌     | 2300/5000 [16:17<18:58,  2.37it/s, 0.215]"
     ]
    },
    {
     "name": "stdout",
     "output_type": "stream",
     "text": [
      "aaaaaaaabbbbbbbccccccccccccccc, aaaaaaabbbbbbbbccccccccccccccc, aaaaaaaabbbbbbbbbbcccccccccccccccccc, aaaaaaabbbbbcccccccccccc, aaaaaaabbbbccccccccccc, aaaaabbbbbcccccccccc, aaaaaabbbccccccccc, aaaaabbbcccccccc, aabbbbbccccccc, abbbbccccc\n"
     ]
    },
    {
     "name": "stderr",
     "output_type": "stream",
     "text": [
      " 47%|████▋     | 2350/5000 [16:38<18:38,  2.37it/s, 0.214]"
     ]
    },
    {
     "name": "stdout",
     "output_type": "stream",
     "text": [
      "aaaaaaaaabbbbbbbbccccccccccccccccc, aaaaaaaaabbbbbbbbbcccccccccccccccccc, aaaaaaabbbbbbccccccccccccc, aaaabbbbbbbbcccccccccccc, aaaaabbbbbbbcccccccccccc, aaaaaaaaaabbbbbbbbcccccccccccccccccc, aaaaaaabbbbbcccccccccccc, aaaaaaaabbcccccccccc, aaabbbcccccc, aaaabbbbbbcbcccccccccccc\n"
     ]
    },
    {
     "name": "stderr",
     "output_type": "stream",
     "text": [
      " 48%|████▊     | 2400/5000 [16:59<18:20,  2.36it/s, 0.213]"
     ]
    },
    {
     "name": "stdout",
     "output_type": "stream",
     "text": [
      "aaaaaaabbbbbbbbccccccccccccccc, aaaaaaabbbbbbbcccccccccccccc, aaaabbbbbbcccccccccc, aaaaaabbbbcccccccccc, aaaaabbbbccccccccc, abbbbbbbcccccccc, aabbbbbccccccc, abbbbbcccccc, abbbbccccc, abbccc\n"
     ]
    },
    {
     "name": "stderr",
     "output_type": "stream",
     "text": [
      " 49%|████▉     | 2450/5000 [17:20<17:56,  2.37it/s, 0.213]"
     ]
    },
    {
     "name": "stdout",
     "output_type": "stream",
     "text": [
      "aaaaabbbbbbbbbcccccccccccccc, aaaaaaaabbbbcccccccccccc, aaaabbbbbbbbbccccccccccccc, aaaaaaaabbbccccccccccc, aaaaaaaaabbbcccccccccccc, aaaaaaaaabbccccccccccc, aaaaaaabbccccccccc, aaaaaaabcccccccc, aaabcccc, abcc\n"
     ]
    },
    {
     "name": "stderr",
     "output_type": "stream",
     "text": [
      " 50%|█████     | 2500/5000 [17:42<17:37,  2.36it/s, 0.214]"
     ]
    },
    {
     "name": "stdout",
     "output_type": "stream",
     "text": [
      "aaaabbbbbbbbbccccccccccccc, aaaaaaabbbbbcccccccccccc, aaabbbbbbbbbcccccccccccc, aaaaaaaaabbbcccccccccccc, aaaaaabbbbbccccccccccc, aaaaaaabbccccccccc, aaaaaaabcccccccc, abbbbbbbcccccccc, aaaabbcccccc, aaaabccccc\n"
     ]
    },
    {
     "name": "stderr",
     "output_type": "stream",
     "text": [
      " 51%|█████     | 2550/5000 [18:03<17:14,  2.37it/s, 0.214]"
     ]
    },
    {
     "name": "stdout",
     "output_type": "stream",
     "text": [
      "aaaaaaaaabbbbbbbcccccccccccccccc, aaaaaaaabbbbcccccccccccc, aabbbbbbbbcccccccccc, abbbbbbbbccccccccc, aaaabbbbbccccccccc, aabbbbbbcccccccc, aabbbbcccccc, abbbbbcccccc, aabbbccccc, aaaaaaabbbbbccccccccccccc\n"
     ]
    },
    {
     "name": "stderr",
     "output_type": "stream",
     "text": [
      " 52%|█████▏    | 2600/5000 [18:24<16:52,  2.37it/s, 0.214]"
     ]
    },
    {
     "name": "stdout",
     "output_type": "stream",
     "text": [
      "aaaaaaaabbbbbbbbcccccccccccccccc, aaaaaaabbbbbbbbccccccccccccccc, aaaaaaaaabbbbbbbbbcccccccccccccccccc, aaaaaaaaabbbbbcccccccccccccc, aaaaaaabbbbbcccccccccccc, aaaaaaaabbcccccccccc, aaaabbbbbbcccccccccc, aaaaaaabbccccccccc, aaabbccccc, aaabbccccc\n"
     ]
    },
    {
     "name": "stderr",
     "output_type": "stream",
     "text": [
      " 53%|█████▎    | 2650/5000 [18:45<16:31,  2.37it/s, 0.214]"
     ]
    },
    {
     "name": "stdout",
     "output_type": "stream",
     "text": [
      "aaaaaaaaabbbbbbbbccccccccccccccccc, aaaaaaaaabbbbbbbcccccccccccccccc, aaaaaaabbbbbbbbccccccccccccccc, aaaaaaaaabbbbbcccccccccccccc, aaaaabbbbbbccccccccccc, aaaaaabbbbcccccccccc, aaabbbbbbccccccccc, abbbbbbbbbcccccccccc, aaabbccccc, abbccc\n"
     ]
    },
    {
     "name": "stderr",
     "output_type": "stream",
     "text": [
      " 54%|█████▍    | 2700/5000 [19:07<16:11,  2.37it/s, 0.214]"
     ]
    },
    {
     "name": "stdout",
     "output_type": "stream",
     "text": [
      "aaaaabbbbbbbbccccccccccccc, aaaaaaaabbbbcccccccccccc, aaaabbbbbbbbbccccccccccccc, aaaaaabbbbbbbbbbcccccccccccccccc, aaabbbbbbbcccccccccc, aaaaaaaabccccccccc, abbbbbbbbccccccccc, aaaaaabbbccccccccc, aaaaaabbcccccccc, abcc\n"
     ]
    },
    {
     "name": "stderr",
     "output_type": "stream",
     "text": [
      " 55%|█████▌    | 2750/5000 [19:28<15:51,  2.37it/s, 0.303]"
     ]
    },
    {
     "name": "stdout",
     "output_type": "stream",
     "text": [
      "aaaaaaaaaaabbbbbbbbbcccccccccccccccccccccccccccccccccccccccccccccccccccccccccccccccccccccccccccccccccccccccccccccccccccccccccccccccccccccccc, aaaaaaaaaaaabbbbbbbbcccccccccccccccccccccccccccccccccccccccccccccccccccccccccccccccccccccccccccccccccccccccccccccccccccccccccccccccccccccccc, aaaaaaaaaabbbbbbbbcccccccccccccccccccccccccccccccccccccccccccccccccccccccccccccccccccccccccccccccccccccccccccccccccccccccccccccccccccccccccc, aaaaaaaaaabbbbbbbbcccccccccccccccccccccccccccccccccccccccccccccccccccccccccccccccccccccccccccccccccccccccccccccccccccccccccccccccccccccccccc, aaaaaaabbbbbbbbbcccccccccccccccccccccccccccccccccccccccccccccccccccccccccccccccccccccccccccccccccccccccccccccccccccccccccccccccccccccccccccc, aaaaaabbbbbbbbbccccccccccccccccccccccccccccccccccccccccccccccccccccccccccccccccccccccccccccccccccccccccccccccccccccccccccccccccccccccccccccc, aaaaaaaaabbbbbbccccccccccccccccccccccccccccccccccccccccccccccccccccccccccccccccccccccccccccccccccccccccccccccccccccccccccccccccccccccccccccc, aaaaaaabbbbbbccccccccccccccccccccccccccccccccccccccccccccccccccccccccccccccccccccccccccccccccccccccccccccccccccccccccccccccccccccccccccccccc, aaaaaaaaaabccccccccccccccccccccccccccccccccccccccccccccccccccccccccccccccccccccccccccccccccccccccccccccccccccccccccccccccccccccccccccccccccc, aaaabbbbbccccccccccccccccccccccccccccccccccccccccccccccccccccccccccccccccccccccccccccccccccccccccccccccccccccccccccccccccccccccccccccccccc\n"
     ]
    },
    {
     "name": "stderr",
     "output_type": "stream",
     "text": [
      " 56%|█████▌    | 2800/5000 [19:49<15:28,  2.37it/s, 0.490]"
     ]
    },
    {
     "name": "stdout",
     "output_type": "stream",
     "text": [
      "aaaaaaaaabbbbbbbbbcccccccccccccccccc, aaaaaaaaaaaaabbbbbbccccccccccccccccccc, aaaabbbbbbccccccccccc, aaabbbbbbbbbbccccccccccccc, aaaabbbbcccccccc, abbbbbbbcccccccc, aaaaaaaaabbbccccccccccccc, abbbbbbcccccccc, aabbcccc, abbbccc\n"
     ]
    },
    {
     "name": "stderr",
     "output_type": "stream",
     "text": [
      " 57%|█████▋    | 2850/5000 [20:10<15:07,  2.37it/s, 0.412]"
     ]
    },
    {
     "name": "stdout",
     "output_type": "stream",
     "text": [
      "aaaaaabbbbbbbbccccccccccccc, aaaaaaabbbbccccccccccc, aaabbbbbbbcccccccccc, aaaaabbbbbccccccccc, aabbbbbbbccccccccc, aaaaaabbbbbbbcccccccccccccc, aaabbbbbcccccccc, aaabbbbccccccc, aaaabbcccccc, abcc\n"
     ]
    },
    {
     "name": "stderr",
     "output_type": "stream",
     "text": [
      " 58%|█████▊    | 2900/5000 [20:31<14:46,  2.37it/s, 0.230]"
     ]
    },
    {
     "name": "stdout",
     "output_type": "stream",
     "text": [
      "aaaaabbbbbbbbbcccccccccccccc, aaaaabbbbbbbbbcccccccccccccc, aaaaaaaabbbbbbccccccccccccc, aaaaaaabbbbbcccccccccccc, aaaaaabbbccccccccc, aabbbbbbbccccccccc, aaaabbcccccc, aaabbccccc, aaaabbccccccc, abbccc\n"
     ]
    },
    {
     "name": "stderr",
     "output_type": "stream",
     "text": [
      " 59%|█████▉    | 2950/5000 [20:53<14:24,  2.37it/s, 0.223]"
     ]
    },
    {
     "name": "stdout",
     "output_type": "stream",
     "text": [
      "aaaaabbbbbbbbbcccccccccccccc, aaaabbbbbbbbbccccccccccccc, aaaaaabbbbbccccccccccc, aabbbbbbbbcccccccccc, aabbbbbbbbcccccccccc, aaaaaabbcccccccc, abbbbbbccccccc, aabbbccccc, abbbbccccc, aabccc\n"
     ]
    },
    {
     "name": "stderr",
     "output_type": "stream",
     "text": [
      " 60%|██████    | 3000/5000 [21:14<14:05,  2.37it/s, 0.220]"
     ]
    },
    {
     "name": "stdout",
     "output_type": "stream",
     "text": [
      "aaaaaabbbbbbbbcccccccccccccc, aaaabbbbbbbbbccccccccccccc, aaaabbbbbbbbbccccccccccccc, aaaaaaaaabbbbbcccccccccccccc, aaaabbbbbbbccccccccccc, aaaaabbbbbcccccccccc, aaabbbbbbbcccccccccc, aaaaaaaabbcccccccccc, aaaabbcccccc, aabbbbcccccc\n"
     ]
    },
    {
     "name": "stderr",
     "output_type": "stream",
     "text": [
      " 61%|██████    | 3050/5000 [21:35<13:43,  2.37it/s, 0.217]"
     ]
    },
    {
     "name": "stdout",
     "output_type": "stream",
     "text": [
      "aaaabbbbbbbbbccccccccccccc, aaaaabbbbbbccccccccccc, aaaaaabbbbbccccccccccc, aaaaaabbbbbccccccccccc, aaaaaaaabbcccccccccc, aaaaabbbbbccccccccc, aaaaaaabbccccccccc, aaaaaabbcccccccc, aaaaabbccccccc, aabbbccccc\n"
     ]
    },
    {
     "name": "stderr",
     "output_type": "stream",
     "text": [
      " 62%|██████▏   | 3100/5000 [21:56<13:21,  2.37it/s, 0.215]"
     ]
    },
    {
     "name": "stdout",
     "output_type": "stream",
     "text": [
      "aaaaaaaaabbbbbbbbccccccccccccccccc, aaaaaaaaabbbbbbccccccccccccccc, aaaaabbbbbbbcccccccccccc, aaaaaabbbbbccccccccccc, aaaaaabbbbcccccccccc, aaabbbbbbccccccccc, abbbbbbbcccccccc, aabbbbbccccccc, aaabbccccc, aaabbccccc\n"
     ]
    },
    {
     "name": "stderr",
     "output_type": "stream",
     "text": [
      " 63%|██████▎   | 3150/5000 [22:18<13:01,  2.37it/s, 0.215]"
     ]
    },
    {
     "name": "stdout",
     "output_type": "stream",
     "text": [
      "aaaaaabbbbbbbbcccccccccccccc, aaaaaaaabbbbbccccccccccccc, aaaaaaabbbcccccccccc, aaaaaabbbbccccccccc, abbbbbbbbccccccccc, aaaaabbbbccccccccc, aaaabbbccccccc, abbbbbcccccc, aabbbccccc, bbbbbccccc\n"
     ]
    },
    {
     "name": "stderr",
     "output_type": "stream",
     "text": [
      " 64%|██████▍   | 3200/5000 [22:39<12:38,  2.37it/s, 0.215]"
     ]
    },
    {
     "name": "stdout",
     "output_type": "stream",
     "text": [
      "aaaaaaaabbbbbbbccccccccccccccc, aaaaabbbbbbbcccccccccccc, aaaaaaaaaabbbbbbcccccccccccccccc, aaaaaaaaabbccccccccccc, aaaaabbbbbcccccccccc, aaaaabbbbbcccccccccc, aaabbbbbbbbbbccccccccccccc, aaaaaaabbccccccccc, aaaaaabbcccccccc, aabccc\n"
     ]
    },
    {
     "name": "stderr",
     "output_type": "stream",
     "text": [
      " 65%|██████▌   | 3250/5000 [23:00<12:16,  2.37it/s, 0.215]"
     ]
    },
    {
     "name": "stdout",
     "output_type": "stream",
     "text": [
      "aaaaaaaabbbbbbbccccccccccccccc, aaaaaaaabbbbbbbccccccccccccccc, aaaaaabbbbbbbccccccccccccc, aaaaabbbbbbbbccccccccccccc, aaabbbbbbbbccccccccccc, aaaaabbbbccccccccc, aaaabbbccccccc, aaaabbbccccccc, abbbbbcccccc, aaaaabcccccc\n"
     ]
    },
    {
     "name": "stderr",
     "output_type": "stream",
     "text": [
      " 66%|██████▌   | 3300/5000 [23:21<11:56,  2.37it/s, 0.214]"
     ]
    },
    {
     "name": "stdout",
     "output_type": "stream",
     "text": [
      "aaaaaaaabbbbbbbbcccccccccccccccc, aaaaaaaabbbbbbbbccccccccccccccc, aaaaaaaabbbbbbbccccccccccccccc, aaaaaaaabbbbbccccccccccccc, aaaaaaaabbbbbccccccccccccc, aaaaaaaabbbccccccccccc, abbbbbbbbccccccccc, aaaaaabccccccc, abbbbbbccccccc, abbccc\n"
     ]
    },
    {
     "name": "stderr",
     "output_type": "stream",
     "text": [
      " 67%|██████▋   | 3350/5000 [23:42<11:38,  2.36it/s, 0.214]"
     ]
    },
    {
     "name": "stdout",
     "output_type": "stream",
     "text": [
      "aaaaaaaabbbbbbbbcccccccccccccccc, aaaaaabbbbbbbbbccccccccccccccc, aaaaaaaabbbbcccccccccccc, aaaabbbbbbcccccccccc, aaaaaaaaabbccccccccccc, aaaaaabbbbcccccccccc, aaaaaaabcccccccc, aabbcccc, aabbcccc, abcc\n"
     ]
    },
    {
     "name": "stderr",
     "output_type": "stream",
     "text": [
      " 68%|██████▊   | 3400/5000 [24:04<11:14,  2.37it/s, 0.213]"
     ]
    },
    {
     "name": "stdout",
     "output_type": "stream",
     "text": [
      "aaaaaaaaabbbbbbbcccccccccccccccc, aaaaaaaabbbbbbbbbccccccccccccccccc, aaaaaaaabbbbbbcccccccccccccc, aaaaaaaaabbbbbcccccccccccccc, aaaabbbbbbbbcccccccccccc, aaaabbbbbbbbbccccccccccccc, aaabbbbbcccccccc, aaaaabbccccccc, abbbbbcccccc, aabbbbcccccc\n"
     ]
    },
    {
     "name": "stderr",
     "output_type": "stream",
     "text": [
      " 69%|██████▉   | 3450/5000 [24:25<10:53,  2.37it/s, 0.213]"
     ]
    },
    {
     "name": "stdout",
     "output_type": "stream",
     "text": [
      "aaaaaabbbbbbbbcccccccccccccc, aaaaaabbbbbbbbbccccccccccccccc, abbbbbbbbbcccccccccc, aabbbbbbcccccccc, aaabbbbccccccc, abbbbbcccccc, aaabbccccc, aaabbccccc, aaaabccccc, aaabcccc\n"
     ]
    },
    {
     "name": "stderr",
     "output_type": "stream",
     "text": [
      " 70%|███████   | 3500/5000 [24:46<10:32,  2.37it/s, 0.213]"
     ]
    },
    {
     "name": "stdout",
     "output_type": "stream",
     "text": [
      "aaaabbbbbbbbcccccccccccc, aaaaaaaaabbbbccccccccccccc, aaabbbbbbbbbcccccccccccc, aaaaaaabbbcccccccccc, aabbbbbbbccccccccc, abbbbbbbbccccccccc, aaaaabbbcccccccc, aabbbbbccccccc, aaaaabcccccc, aabbccc\n"
     ]
    },
    {
     "name": "stderr",
     "output_type": "stream",
     "text": [
      " 71%|███████   | 3550/5000 [25:07<10:11,  2.37it/s, 0.213]"
     ]
    },
    {
     "name": "stdout",
     "output_type": "stream",
     "text": [
      "aaaaaaaabbbbbbbbbccccccccccccccccc, aaaaaaaabbbbbbbbbbcccccccccccccccccc, aaaabbbbbbbccccccccccc, aaaaaabbbccccccccc, aaaaaabbbccccccccc, aaaabbbccccccc, aaabbbbccccccc, abbbcccc, aaaaaaabccccccccc, aaabcccc\n"
     ]
    },
    {
     "name": "stderr",
     "output_type": "stream",
     "text": [
      " 72%|███████▏  | 3600/5000 [25:28<09:50,  2.37it/s, 0.214]"
     ]
    },
    {
     "name": "stdout",
     "output_type": "stream",
     "text": [
      "aaaaaaaabbbbbbbbbccccccccccccccccc, abbbbbbbbccccccccc, aaabbbbbbccccccccc, aaaaaabbbccccccccc, aaaaaaabcccccccc, aaabbbcccccc, abbbbbcccccc, aaaaaaaacbcccccccccc, aabbcccc, abbccc\n"
     ]
    },
    {
     "name": "stderr",
     "output_type": "stream",
     "text": [
      " 73%|███████▎  | 3650/5000 [25:50<09:28,  2.37it/s, 0.214]"
     ]
    },
    {
     "name": "stdout",
     "output_type": "stream",
     "text": [
      "aaaaaaabbbbbbbcccccccccccccc, aaaaaabbbbbbbbbccccccccccccccc, aaaaaaaaabbbbccccccccccccc, aaaaaaaaabbbbbbbbbbccccccccccccccccccc, aaaaabbbbbbccccccccccc, aaaaaaaabbcccccccccc, abbbbbbbbbcccccccccc, aaaaaabccccccc, aaaabbcccccc, aabbbccccc\n"
     ]
    },
    {
     "name": "stderr",
     "output_type": "stream",
     "text": [
      " 74%|███████▍  | 3700/5000 [26:11<09:08,  2.37it/s, 0.214]"
     ]
    },
    {
     "name": "stdout",
     "output_type": "stream",
     "text": [
      "aaaaaaaaabbbbbbbbccccccccccccccccc, aaaaaaaabbbbbbbccccccccccccccc, aaaaaaaaabbbbbbbbbcccccccccccccccccc, aaaaaabbbbbbbccccccccccccc, aaaaabbbbbbbcccccccccccc, aaaaaabbbccccccccc, aabbbbbbcccccccc, aabbbbcccccc, aaaabccccc, abbbcccc\n"
     ]
    },
    {
     "name": "stderr",
     "output_type": "stream",
     "text": [
      " 75%|███████▌  | 3750/5000 [26:32<08:47,  2.37it/s, 0.213]"
     ]
    },
    {
     "name": "stdout",
     "output_type": "stream",
     "text": [
      "aaaaaaaabbbbbbbccccccccccccccc, aaaaaaaabbbbbccccccccccccc, aaaaabbbbbbbbbcccccccccccccc, aaaaabbbbbbbcccccccccccc, aaaaaaabbbcccccccccc, aaaaaaaabccccccccc, aaaaaabccccccc, aaaaabcccccc, abbccc, aabccc\n"
     ]
    },
    {
     "name": "stderr",
     "output_type": "stream",
     "text": [
      " 76%|███████▌  | 3800/5000 [26:53<08:26,  2.37it/s, 0.212]"
     ]
    },
    {
     "name": "stdout",
     "output_type": "stream",
     "text": [
      "aaaaaaaaabbbbbcccccccccccccc, aaaaaaaaabbbbccccccccccccc, aaaaaaaaabbbbccccccccccccc, aaaaabbbbbbbcccccccccccc, aaaaaaaabbbbcccccccccccc, aaaaaaaabbbccccccccccc, aaaaaabbbbbccccccccccc, aaaaaaaaaabbbccccccccccccc, aaaaaaabcccccccc, aaabbbbccccccc\n"
     ]
    },
    {
     "name": "stderr",
     "output_type": "stream",
     "text": [
      " 77%|███████▋  | 3850/5000 [27:15<08:03,  2.38it/s, 0.213]"
     ]
    },
    {
     "name": "stdout",
     "output_type": "stream",
     "text": [
      "aaaaaaabbbbbbbbccccccccccccccc, aaaaaaaaabbbbbbccccccccccccccc, aaaaaaaabbbbbccccccccccccc, aaaaaabbbbbbcccccccccccc, aaaaaabbbbbbcccccccccccc, aaaaaaaaabbbcccccccccccc, aaaaaaabbbbccccccccccc, aaaaaaaaabbccccccccccc, aaaabbbbcccccccc, aabbcccc\n"
     ]
    },
    {
     "name": "stderr",
     "output_type": "stream",
     "text": [
      " 78%|███████▊  | 3900/5000 [27:36<07:44,  2.37it/s, 0.214]"
     ]
    },
    {
     "name": "stdout",
     "output_type": "stream",
     "text": [
      "aaaaaaaabbbbbbbbcccccccccccccccc, aaaaaaaaabbbbbcccccccccccccc, aaaaaaaaabbbbccccccccccccc, aaaabbbbbbbbcccccccccccc, abbbbbbbbbcccccccccc, aabbbbcccccc, aabbbbcccccc, aabbcccc, aaabcccc, aabccc\n"
     ]
    },
    {
     "name": "stderr",
     "output_type": "stream",
     "text": [
      " 79%|███████▉  | 3950/5000 [27:57<07:25,  2.36it/s, 0.213]"
     ]
    },
    {
     "name": "stdout",
     "output_type": "stream",
     "text": [
      "aaaaaaabbbbbbbbccccccccccccccc, aaaaabbbbbbbcccccccccccc, aaaaaabbbbbbcccccccccccc, aaaaaaabbbbbcccccccccccc, aaaaaaabbccccccccc, aaaaaaabcccccccc, abbbbbcccccc, aaaaaaaaabbcccccccccccc, aaaabccccc, aabccc\n"
     ]
    },
    {
     "name": "stderr",
     "output_type": "stream",
     "text": [
      " 80%|████████  | 4000/5000 [28:18<07:01,  2.37it/s, 0.213]"
     ]
    },
    {
     "name": "stdout",
     "output_type": "stream",
     "text": [
      "aaaaaaaabbbbbbcccccccccccccc, aaaaaaaabbbbbccccccccccccc, aaaaaaaabbbbbccccccccccccc, aaaaaaabbbbbbccccccccccccc, aaaaabbbbbbbcccccccccccc, aaaaaaaabbcccccccccc, aabbbbbbbbbccccccccccc, aaaaaaabbccccccccc, aaabbbbbbccccccccc, aaaaaabbbccccccccc\n"
     ]
    },
    {
     "name": "stderr",
     "output_type": "stream",
     "text": [
      " 81%|████████  | 4050/5000 [28:40<06:41,  2.37it/s, 0.214]"
     ]
    },
    {
     "name": "stdout",
     "output_type": "stream",
     "text": [
      "aaaaaaaabbbbbbbccccccccccccccc, aaaaaabbbbbbbccccccccccccc, aaaaabbbbbbbcccccccccccc, aaaaaaaaabbbbccccccccccccc, aaaabbbbbbbccccccccccc, aaaaabbbbbbccccccccccc, aaaabbcccccc, aaabbccccc, aaabcccc, abcc\n"
     ]
    },
    {
     "name": "stderr",
     "output_type": "stream",
     "text": [
      " 82%|████████▏ | 4100/5000 [29:01<06:20,  2.37it/s, 0.213]"
     ]
    },
    {
     "name": "stdout",
     "output_type": "stream",
     "text": [
      "aaaaaaaaabbbbbbbbccccccccccccccccc, aaaaaabbbbbbbbcccccccccccccc, aaaabbbbbbbbbccccccccccccc, aabbbbbbbbbccccccccccc, abbbbbbbcccccccc, abbbbbbbbbbccccccccccc, abbbbbcccccc, aabbbccccc, abbccc, abcc\n"
     ]
    },
    {
     "name": "stderr",
     "output_type": "stream",
     "text": [
      " 83%|████████▎ | 4150/5000 [29:22<05:59,  2.37it/s, 0.212]"
     ]
    },
    {
     "name": "stdout",
     "output_type": "stream",
     "text": [
      "aaaaaaaaabbbbbbccccccccccccccc, aaaabbbbbbbbcccccccccccc, aaaaaaaaabbbcccccccccccc, aaaaaabbbbbccccccccccc, aaabbbbbbbcccccccccc, aabbbbbbbbcccccccccc, aaabbbbccccccc, aaaaaabccccccc, aaaaabcccccc, abcc\n"
     ]
    },
    {
     "name": "stderr",
     "output_type": "stream",
     "text": [
      " 84%|████████▍ | 4200/5000 [29:43<05:37,  2.37it/s, 0.212]"
     ]
    },
    {
     "name": "stdout",
     "output_type": "stream",
     "text": [
      "aaaaaaaaabbbbbbbbbcccccccccccccccccc, aaaaaabbbbbbbccccccccccccc, aaaaabbbbbbbcccccccccccc, aaaaaaaabbbccccccccccc, aaaaaaaabbbccccccccccc, aaaaaaabbbbccccccccccc, aaaaaaaaaabbbbbccccccccccccccc, aaaaaaabcccccccc, aaaaaabbcccccccc, abbbbbbbbbbccccccccccc\n"
     ]
    },
    {
     "name": "stderr",
     "output_type": "stream",
     "text": [
      " 85%|████████▌ | 4250/5000 [30:04<05:16,  2.37it/s, 0.212]"
     ]
    },
    {
     "name": "stdout",
     "output_type": "stream",
     "text": [
      "aaaaaaabbbbbbbbccccccccccccccc, aaaaaaabbbbbbbbccccccccccccccc, aaaaaaaabbbbbbcccccccccccccc, aaaaabbbbbbbbccccccccccccc, aaaaabbbbbbccccccccccc, aaaabbbbbbcccccccccc, aaaaaaaabccccccccc, aaaaabbbcccccccc, aaaaabcccccc, abbccc\n"
     ]
    },
    {
     "name": "stderr",
     "output_type": "stream",
     "text": [
      " 86%|████████▌ | 4300/5000 [30:26<04:54,  2.37it/s, 0.212]"
     ]
    },
    {
     "name": "stdout",
     "output_type": "stream",
     "text": [
      "aaaaaaaabbbbbbbbcccccccccccccccc, aaaaabbbbbbbbccccccccccccc, aaaaaabbbbbbbccccccccccccc, aaaaaaaabbcccccccccc, aaaaaaaabbcccccccccc, aaabbbbbbccccccccc, aaabbbbbbccccccccc, aaaaabbbcccccccc, aaaabbbccccccc, aabbbbbccccccc\n"
     ]
    },
    {
     "name": "stderr",
     "output_type": "stream",
     "text": [
      " 87%|████████▋ | 4350/5000 [30:47<04:34,  2.37it/s, 0.212]"
     ]
    },
    {
     "name": "stdout",
     "output_type": "stream",
     "text": [
      "aaaaaaabbbbbbbbccccccccccccccc, aaaaaabbbbbbbccccccccccccc, aaaaaabbbbcccccccccc, aaaaaaaabccccccccc, aaaaabbbbbbbbbbccccccccccccccc, aaabbbbbbccccccccc, aaaaaaaaaabbbccccccccccccc, aaaaabbbcccccccc, abbbbbbccccccc, aaaabbcccccc\n"
     ]
    },
    {
     "name": "stderr",
     "output_type": "stream",
     "text": [
      " 88%|████████▊ | 4400/5000 [31:08<04:14,  2.36it/s, 0.212]"
     ]
    },
    {
     "name": "stdout",
     "output_type": "stream",
     "text": [
      "aaaaaaaabbbbbbbbcccccccccccccccc, aaaaaaaaabbbbbbbcccccccccccccccc, aaaaaaaabbbbcccccccccccc, aaabbbbbbbbccccccccccc, aaaaaaaabbbccccccccccc, aaaaaaabbccccccccc, aaaaaaabbccccccccc, aaaaabbbcccccccc, aaaabbbbcccccccc, aaaabbbccccccc\n"
     ]
    },
    {
     "name": "stderr",
     "output_type": "stream",
     "text": [
      " 89%|████████▉ | 4450/5000 [31:29<03:52,  2.37it/s, 0.212]"
     ]
    },
    {
     "name": "stdout",
     "output_type": "stream",
     "text": [
      "aaaabbbbbbbbcccccccccccc, aaaaaabbbbbbcccccccccccc, abbbbbbbbccccccccc, aaaaaaabbccccccccc, aaaaaaabbccccccccc, aaaabbbccccccc, aaaaaaaaaabccccccccccc, aaabbccccc, aaabbccccc, abbbcccc\n"
     ]
    },
    {
     "name": "stderr",
     "output_type": "stream",
     "text": [
      " 90%|█████████ | 4500/5000 [31:50<03:30,  2.37it/s, 0.212]"
     ]
    },
    {
     "name": "stdout",
     "output_type": "stream",
     "text": [
      "aaaaaaabbbbbbccccccccccccc, aaaaabbbbbbbbbcccccccccccccc, aaaaaaabbbbbcccccccccccc, aaaaaaaaabbccccccccccc, aaabbbbbbbcccccccccc, aaaaaaabcccccccc, aabbbbbbcccccccc, abbbbccccc, abbbcccc, abcc\n"
     ]
    },
    {
     "name": "stderr",
     "output_type": "stream",
     "text": [
      " 91%|█████████ | 4550/5000 [32:12<03:10,  2.37it/s, 0.212]"
     ]
    },
    {
     "name": "stdout",
     "output_type": "stream",
     "text": [
      "aaaaaaaaabbbbbbbcccccccccccccccc, aaaaaaabbbbbbbcccccccccccccc, aaaaaabbbbbbbbcccccccccccccc, aaaaaabbbbbbbccccccccccccc, aaaabbbbbbbbcccccccccccc, aaaaaaabbbbbcccccccccccc, aaaabbbbbbbccccccccccc, aaaabbbbbbbccccccccccc, aabbbbcccccc, aaaaabcccccc\n"
     ]
    },
    {
     "name": "stderr",
     "output_type": "stream",
     "text": [
      " 92%|█████████▏| 4600/5000 [32:33<02:49,  2.37it/s, 0.212]"
     ]
    },
    {
     "name": "stdout",
     "output_type": "stream",
     "text": [
      "aaaaaaabbbbbbbbccccccccccccccc, aaaaaabbbbbbbbbccccccccccccccc, aaaaabbbbbbbbbcccccccccccccc, aaaaaaabbbbbcccccccccccc, aaaaaaaaabbbcccccccccccc, aaaaaaaaabbccccccccccc, aabbbbbbbccccccccc, aaaaaaabbccccccccc, aaaabbbbbccccccccc, aaabbbbbcccccccc\n"
     ]
    },
    {
     "name": "stderr",
     "output_type": "stream",
     "text": [
      " 93%|█████████▎| 4650/5000 [32:54<02:27,  2.37it/s, 0.213]"
     ]
    },
    {
     "name": "stdout",
     "output_type": "stream",
     "text": [
      "aaaaaaaabbbbbbbccccccccccccccc, aaaaaaabbbbbbbcccccccccccccc, aaabbbbbbbcccccccccc, aaabbbbbbccccccccc, aaaaaabbcccccccc, aaaaaabbcccccccc, aaaabbbbcccccccc, aaaaabcccccc, aaaaabcccccc, aaabcccc\n"
     ]
    },
    {
     "name": "stderr",
     "output_type": "stream",
     "text": [
      " 94%|█████████▍| 4700/5000 [33:15<02:07,  2.36it/s, 0.213]"
     ]
    },
    {
     "name": "stdout",
     "output_type": "stream",
     "text": [
      "aaaaaaaaabbbbbbbbccccccccccccccccc, aaaaaaaaabbbbbbbcccccccccccccccc, aaaaaaaabbbbbccccccccccccc, aaaabbbbbbbbcccccccccccc, aaaabbbbbbbccccccccccc, aaaaaaaabbbccccccccccc, aaaaaabbbccccccccc, aaaaaabbbccccccccc, aaaaabbbcccccccc, aaaabbcccccc\n"
     ]
    },
    {
     "name": "stderr",
     "output_type": "stream",
     "text": [
      " 95%|█████████▌| 4750/5000 [33:37<01:45,  2.37it/s, 0.212]"
     ]
    },
    {
     "name": "stdout",
     "output_type": "stream",
     "text": [
      "aaaabbbbbbbbcccccccccccc, aaaaaaabbbbbbccccccccccccc, aaaaaaaaabbbbccccccccccccc, aaaaabbbbbbbcccccccccccc, aaabbbbbbbbbcccccccccccc, aaabbbbbbccccccccc, aaaabbbbbccccccccc, abbbbbbccccccc, aabbbbbccccccc, aaaabccccc\n"
     ]
    },
    {
     "name": "stderr",
     "output_type": "stream",
     "text": [
      " 96%|█████████▌| 4800/5000 [33:58<01:24,  2.37it/s, 0.212]"
     ]
    },
    {
     "name": "stdout",
     "output_type": "stream",
     "text": [
      "aaaaabbbbbbbbccccccccccccc, aaabbbbbbccccccccc, aaabbbbbbccccccccc, aaaabbbbbccccccccc, aaaaaabccccccc, aaaabbbccccccc, aabbbccccc, aaaabccccc, aabbcccc, aaaabbcbcccccccc\n"
     ]
    },
    {
     "name": "stderr",
     "output_type": "stream",
     "text": [
      " 97%|█████████▋| 4850/5000 [34:19<01:03,  2.37it/s, 0.212]"
     ]
    },
    {
     "name": "stdout",
     "output_type": "stream",
     "text": [
      "aaaaaaaaabbbbbbbbccccccccccccccccc, aaaaaaaabbbbbbbccccccccccccccc, aaaaaaaaabbbbbbbbbcccccccccccccccccc, aaaaabbbbbbbbccccccccccccc, aaaaaabbbbbbbccccccccccccc, aaabbbbbbbbbcccccccccccc, aaabbbbbbbcccccccccc, abbbbccccc, aaabbccccc, abbbcccc\n"
     ]
    },
    {
     "name": "stderr",
     "output_type": "stream",
     "text": [
      " 98%|█████████▊| 4900/5000 [34:40<00:42,  2.37it/s, 0.212]"
     ]
    },
    {
     "name": "stdout",
     "output_type": "stream",
     "text": [
      "aaaaaaaaabbbbbbccccccccccccccc, aaaaaaaabbbbbbbbbccccccccccccccccc, aaaaaaabbbbbbccccccccccccc, aaaaaaaaabbbbccccccccccccc, aaaaaaaaabbbcccccccccccc, aaaabbbbbbbccccccccccc, aaaaabbbbbcccccccccc, aabbbbbbbccccccccc, aabbbbbbbccccccccc, abbbbbbccccccc\n"
     ]
    },
    {
     "name": "stderr",
     "output_type": "stream",
     "text": [
      " 99%|█████████▉| 4950/5000 [35:01<00:21,  2.37it/s, 0.211]"
     ]
    },
    {
     "name": "stdout",
     "output_type": "stream",
     "text": [
      "aaaaaaaabbbbcccccccccccc, aaaaaaaaabbbcccccccccccc, aaabbbbbbbbccccccccccc, aaaaaaaabbbccccccccccc, aaaaabbbbbcccccccccc, aabbbbbbbccccccccc, aaaaaabbbccccccccc, aaaabbbbcccccccc, aaabbbbccccccc, aaabbbcccccc\n"
     ]
    },
    {
     "name": "stderr",
     "output_type": "stream",
     "text": [
      "100%|██████████| 5000/5000 [35:23<00:00,  2.37it/s, 0.211]\n"
     ]
    }
   ],
   "source": [
    "batch_size, n_epochs = 128, 5000\n",
    "progress_fmt_ = \"%(loss).3f\"\n",
    "with tqdm.tqdm(total=n_epochs-epoch) as progress_:\n",
    "    while epoch < n_epochs:\n",
    "        if (epoch % 50) == 0:\n",
    "            sample_qa()\n",
    "\n",
    "        batch = generate_batch(batch_size, max_seq_len=512)\n",
    "        with DelayedKeyboardInterrupt():\n",
    "            loss_val_hist.append(op_train(batch))\n",
    "\n",
    "        progress_.postfix = progress_fmt_ % {\n",
    "            \"loss\": np.mean(loss_val_hist[-100:]),\n",
    "        }\n",
    "        progress_.update(1)\n",
    "        epoch += 1"
   ]
  },
  {
   "cell_type": "code",
   "execution_count": 45,
   "metadata": {
    "collapsed": false,
    "deletable": true,
    "editable": true
   },
   "outputs": [
    {
     "data": {
      "text/plain": [
       "['aaabbbbbbbbccccccccccc',\n",
       " 'aaaaaaabbbbccccccccccc',\n",
       " 'aabbbbbbbbbccccccccccc',\n",
       " 'abbbbbbbbbcccccccccc',\n",
       " 'aaaaaaabcccccccc',\n",
       " 'aaaaaabbcccccccc',\n",
       " 'aaaaaabbcccccccc',\n",
       " 'abbbbbbbcccccccc',\n",
       " 'aabbbbbccccccc',\n",
       " 'aabccc']"
      ]
     },
     "execution_count": 45,
     "metadata": {},
     "output_type": "execute_result"
    }
   ],
   "source": [
    "generate(10, 150, tau=1e-3)"
   ]
  },
  {
   "cell_type": "code",
   "execution_count": null,
   "metadata": {
    "collapsed": true
   },
   "outputs": [],
   "source": []
  }
 ],
 "metadata": {
  "kernelspec": {
   "display_name": "Python 3",
   "language": "python",
   "name": "python3"
  },
  "language_info": {
   "codemirror_mode": {
    "name": "ipython",
    "version": 3
   },
   "file_extension": ".py",
   "mimetype": "text/x-python",
   "name": "python",
   "nbconvert_exporter": "python",
   "pygments_lexer": "ipython3",
   "version": "3.6.0"
  }
 },
 "nbformat": 4,
 "nbformat_minor": 2
}
