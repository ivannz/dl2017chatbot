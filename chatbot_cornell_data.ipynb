{
 "cells": [
  {
   "cell_type": "markdown",
   "metadata": {
    "deletable": true,
    "editable": true
   },
   "source": [
    "# Data processing"
   ]
  },
  {
   "cell_type": "code",
   "execution_count": 1,
   "metadata": {
    "collapsed": false,
    "deletable": true,
    "editable": true
   },
   "outputs": [],
   "source": [
    "import re\n",
    "import os\n",
    "import json\n",
    "\n",
    "import numpy as np\n",
    "\n",
    "import pandas as pd\n",
    "import tqdm"
   ]
  },
  {
   "cell_type": "code",
   "execution_count": 2,
   "metadata": {
    "collapsed": true,
    "deletable": true,
    "editable": true
   },
   "outputs": [],
   "source": [
    "DATA_PATH = \"cornell movie-dialogs corpus\"\n",
    "FIELD_SEP = \" +++$+++ \""
   ]
  },
  {
   "cell_type": "markdown",
   "metadata": {
    "deletable": true,
    "editable": true
   },
   "source": [
    "In this notebook we are going to preprocess Cornell Movie dialogues dataset."
   ]
  },
  {
   "cell_type": "code",
   "execution_count": 3,
   "metadata": {
    "collapsed": false,
    "deletable": true,
    "editable": true,
    "scrolled": false
   },
   "outputs": [
    {
     "name": "stderr",
     "output_type": "stream",
     "text": [
      "304713it [00:04, 68681.86it/s]\n"
     ]
    }
   ],
   "source": [
    "translation = {}\n",
    "translation.update({ord(k): \"\"   for k in '_'})\n",
    "translation.update({ord(k): \"fl\" for k in 'ß'})\n",
    "translation.update({ord(k): \"n\"  for k in 'ñ'})\n",
    "translation.update({ord(k): \"i\"  for k in 'ï'})\n",
    "translation.update({ord(k): \"c\"  for k in 'ç'})\n",
    "translation.update({ord(k): \"C\"  for k in 'Ç'})\n",
    "translation.update({ord(k): \"o\"  for k in 'ó'})\n",
    "translation.update({ord(k): '\"'  for k in '²³'})\n",
    "translation.update({ord(k): \" \"  for k in '\\x85\\t'})\n",
    "translation.update({ord(k): \"u\"  for k in 'ùúûüÜ'})\n",
    "translation.update({ord(k): \"a\"  for k in 'àáâä'})\n",
    "translation.update({ord(k): \"e\"  for k in 'èéêÈÉ'})\n",
    "translation.update({ord(k): \"'\"  for k in 'í¹ÒÓÔÕ'})\n",
    "\n",
    "alphanum = re.compile(r\"[^\\w\\s\\?!.,;:\\'\\\"\\-]+\")  # \\(\\)\\[\\] are meaningless\n",
    "blankpunct = re.compile(r\"\\s+([\\?!.,;:])\")\n",
    "repeated = re.compile(r\"([^\\w.])\\1+\")\n",
    "ellipsis = re.compile(r\"\\.{4,}\")\n",
    "\n",
    "replies = {}\n",
    "with open(os.path.join(DATA_PATH, \"movie_lines.txt\"), \"r\", encoding=\"latin-1\") as fin:\n",
    "    for line in tqdm.tqdm(fin):\n",
    "        split_ = line.split(FIELD_SEP, 4)\n",
    "        line_id, character_id, movie_id, character_name, text = split_\n",
    "\n",
    "        # clean up the bad encoding artifacts\n",
    "        text = text.translate(translation)\n",
    "        \n",
    "        # strip non-alphanum or punctuation, then eliminate repeated non-alphanum\n",
    "        text = blankpunct.sub(r\"\\1\", alphanum.sub(\"\", text.strip()))\n",
    "        text = ellipsis.sub(r\"...\", repeated.sub(r\"\\1\", text))\n",
    "\n",
    "        replies[line_id] = text"
   ]
  },
  {
   "cell_type": "markdown",
   "metadata": {
    "deletable": true,
    "editable": true
   },
   "source": [
    "Load the dialogues"
   ]
  },
  {
   "cell_type": "code",
   "execution_count": 4,
   "metadata": {
    "collapsed": false,
    "deletable": true,
    "editable": true
   },
   "outputs": [
    {
     "name": "stderr",
     "output_type": "stream",
     "text": [
      "83097it [00:00, 570041.30it/s]\n"
     ]
    }
   ],
   "source": [
    "dialogues = []\n",
    "with open(os.path.join(DATA_PATH, \"movie_conversations.txt\"), \"r\", encoding=\"latin-1\") as fin:\n",
    "    for line in tqdm.tqdm(fin):\n",
    "        line_ids = line.rsplit(FIELD_SEP, 1)[1]\n",
    "        dialogues.append(line_ids.strip().replace(\"'\", '\"'))\n",
    "dialogues = json.loads(\"[%s]\" % (\",\\n\".join(dialogues)))"
   ]
  },
  {
   "cell_type": "markdown",
   "metadata": {
    "deletable": true,
    "editable": true
   },
   "source": [
    "Save the cleaned up dataset: first the database of lines"
   ]
  },
  {
   "cell_type": "code",
   "execution_count": 5,
   "metadata": {
    "collapsed": false,
    "deletable": true,
    "editable": true
   },
   "outputs": [],
   "source": [
    "with open(\"processed_lines.json\", \"w\", encoding=\"utf-8\") as fout:\n",
    "    json.dump(replies, fout)"
   ]
  },
  {
   "cell_type": "markdown",
   "metadata": {
    "deletable": true,
    "editable": true
   },
   "source": [
    "And now the dialogues"
   ]
  },
  {
   "cell_type": "code",
   "execution_count": 6,
   "metadata": {
    "collapsed": true,
    "deletable": true,
    "editable": true
   },
   "outputs": [],
   "source": [
    "with open(\"processed_dialogues.json\", \"w\", encoding=\"utf-8\") as fout:\n",
    "    json.dump(dialogues, fout)"
   ]
  },
  {
   "cell_type": "markdown",
   "metadata": {
    "deletable": true,
    "editable": true
   },
   "source": [
    "Transform the dialogues into Q&A pairs."
   ]
  },
  {
   "cell_type": "code",
   "execution_count": 7,
   "metadata": {
    "collapsed": true,
    "deletable": true,
    "editable": true
   },
   "outputs": [],
   "source": [
    "# qa_pairs = []\n",
    "# for lines in dialogues:\n",
    "#     qa_pairs.extend(zip(lines[:-1], lines[1:]))"
   ]
  },
  {
   "cell_type": "markdown",
   "metadata": {
    "deletable": true,
    "editable": true
   },
   "source": [
    "Build the vocabulary"
   ]
  },
  {
   "cell_type": "code",
   "execution_count": 8,
   "metadata": {
    "collapsed": true,
    "deletable": true,
    "editable": true
   },
   "outputs": [],
   "source": [
    "from collections import Counter\n",
    "\n",
    "vocab = Counter(char for line in replies.values() for char in line)"
   ]
  },
  {
   "cell_type": "code",
   "execution_count": null,
   "metadata": {
    "collapsed": true
   },
   "outputs": [],
   "source": []
  }
 ],
 "metadata": {
  "kernelspec": {
   "display_name": "Python 3",
   "language": "python",
   "name": "python3"
  },
  "language_info": {
   "codemirror_mode": {
    "name": "ipython",
    "version": 3
   },
   "file_extension": ".py",
   "mimetype": "text/x-python",
   "name": "python",
   "nbconvert_exporter": "python",
   "pygments_lexer": "ipython3",
   "version": "3.6.0"
  }
 },
 "nbformat": 4,
 "nbformat_minor": 2
}
