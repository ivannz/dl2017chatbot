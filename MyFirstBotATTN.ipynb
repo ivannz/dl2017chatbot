{
 "cells": [
  {
   "cell_type": "markdown",
   "metadata": {
    "deletable": true,
    "editable": true
   },
   "source": [
    "# Train the chatbot"
   ]
  },
  {
   "cell_type": "markdown",
   "metadata": {
    "deletable": true,
    "editable": true
   },
   "source": [
    "This is remotely based on the amalgamation of [this](https://github.com/saltypaul/Seq2Seq-Chatbot)\n",
    "and [that](https://github.com/marekrei/sequence-labeler) repositories. The images are taken from\n",
    "the first one."
   ]
  },
  {
   "cell_type": "code",
   "execution_count": 1,
   "metadata": {
    "collapsed": true,
    "deletable": true,
    "editable": true
   },
   "outputs": [],
   "source": [
    "import os\n",
    "import time\n",
    "import json\n",
    "import pickle\n",
    "\n",
    "import numpy as np\n",
    "\n",
    "import pandas as pd\n",
    "import tqdm"
   ]
  },
  {
   "cell_type": "markdown",
   "metadata": {
    "deletable": true,
    "editable": true
   },
   "source": [
    "We'll definitely need to plot something"
   ]
  },
  {
   "cell_type": "code",
   "execution_count": 2,
   "metadata": {
    "collapsed": true,
    "deletable": true,
    "editable": true
   },
   "outputs": [],
   "source": [
    "%matplotlib inline\n",
    "import matplotlib.pyplot as plt"
   ]
  },
  {
   "cell_type": "markdown",
   "metadata": {
    "deletable": true,
    "editable": true
   },
   "source": [
    "Uninterruptible section"
   ]
  },
  {
   "cell_type": "code",
   "execution_count": 3,
   "metadata": {
    "collapsed": true,
    "deletable": true,
    "editable": true
   },
   "outputs": [],
   "source": [
    "import signal\n",
    "\n",
    "class DelayedKeyboardInterrupt(object):\n",
    "    def __enter__(self):\n",
    "        self.signal_received = False\n",
    "        self.old_handler = signal.getsignal(signal.SIGINT)\n",
    "        signal.signal(signal.SIGINT, self.handler)\n",
    "\n",
    "    def handler(self, sig, frame):\n",
    "        self.signal_received = (sig, frame)\n",
    "\n",
    "    def __exit__(self, type, value, traceback):\n",
    "        signal.signal(signal.SIGINT, self.old_handler)\n",
    "        if self.signal_received:\n",
    "            self.old_handler(*self.signal_received)"
   ]
  },
  {
   "cell_type": "markdown",
   "metadata": {
    "deletable": true,
    "editable": true
   },
   "source": [
    "Fix the random seed"
   ]
  },
  {
   "cell_type": "code",
   "execution_count": 4,
   "metadata": {
    "collapsed": true,
    "deletable": true,
    "editable": true
   },
   "outputs": [],
   "source": [
    "random_state = np.random.RandomState(0x0BADC0DE)"
   ]
  },
  {
   "cell_type": "markdown",
   "metadata": {
    "deletable": true,
    "editable": true
   },
   "source": [
    "Import Theano and Lasagne"
   ]
  },
  {
   "cell_type": "code",
   "execution_count": 5,
   "metadata": {
    "collapsed": false,
    "deletable": true,
    "editable": true
   },
   "outputs": [
    {
     "name": "stderr",
     "output_type": "stream",
     "text": [
      "Using cuDNN version 5103 on context None\n",
      "Mapped name None to device cuda: GeForce GTX 980 Ti (0000:06:00.0)\n"
     ]
    }
   ],
   "source": [
    "# %env THEANO_FLAGS='device=cuda0,force_device=True,mode=FAST_RUN,floatX=float32'\n",
    "\n",
    "import theano\n",
    "theano.config.exception_verbosity = 'high'\n",
    "\n",
    "import theano.tensor as tt\n",
    "\n",
    "import lasagne\n",
    "from lasagne.utils import floatX"
   ]
  },
  {
   "cell_type": "markdown",
   "metadata": {
    "deletable": true,
    "editable": true
   },
   "source": [
    "Fix Lasagne's random seed."
   ]
  },
  {
   "cell_type": "code",
   "execution_count": 6,
   "metadata": {
    "collapsed": true,
    "deletable": true,
    "editable": true
   },
   "outputs": [],
   "source": [
    "lasagne.random.set_rng(np.random.RandomState(0xDEADC0DE))"
   ]
  },
  {
   "cell_type": "markdown",
   "metadata": {
    "deletable": true,
    "editable": true
   },
   "source": [
    "Load the line lookup table. It was generated from the [Cornell Movie--Dialogs Corpus](https://people.mpi-sws.org/~cristian/Cornell_Movie-Dialogs_Corpus.html)"
   ]
  },
  {
   "cell_type": "code",
   "execution_count": 7,
   "metadata": {
    "collapsed": false,
    "deletable": true,
    "editable": true
   },
   "outputs": [],
   "source": [
    "with open(\"../processed_lines.json\", \"r\", encoding=\"utf-8\") as fin:\n",
    "    db_lines = {k: \"\\x02\" + v + \"\\x03\" for k, v in json.load(fin).items()}"
   ]
  },
  {
   "cell_type": "markdown",
   "metadata": {
    "deletable": true,
    "editable": true
   },
   "source": [
    "Load the diaogues into Q&A pairs"
   ]
  },
  {
   "cell_type": "code",
   "execution_count": 8,
   "metadata": {
    "collapsed": true,
    "deletable": true,
    "editable": true
   },
   "outputs": [],
   "source": [
    "with open(\"../processed_dialogues.json\", \"r\", encoding=\"utf-8\") as fin:\n",
    "    db_dialogues = json.load(fin)\n",
    "\n",
    "qa_pairs = []\n",
    "for lines in db_dialogues:\n",
    "    qa_pairs.extend(zip(lines[:-1], lines[1:]))\n",
    "del db_dialogues\n",
    "\n",
    "# for easier indexing\n",
    "qa_pairs = np.array(qa_pairs)"
   ]
  },
  {
   "cell_type": "markdown",
   "metadata": {
    "deletable": true,
    "editable": true
   },
   "source": [
    "Build the vocabulary"
   ]
  },
  {
   "cell_type": "code",
   "execution_count": 9,
   "metadata": {
    "collapsed": true,
    "deletable": true,
    "editable": true
   },
   "outputs": [],
   "source": [
    "from collections import Counter\n",
    "token_counts = Counter(c for l in db_lines.values() for c in l[1:-1])\n",
    "\n",
    "## It is very important that these service characters be added first\n",
    "vocab = [\"\\x02\", \"\\x03\"]\n",
    "vocab += [c for c, f in token_counts.items()]\n",
    "\n",
    "token_to_index = {w: i for i, w in enumerate(vocab)}"
   ]
  },
  {
   "cell_type": "markdown",
   "metadata": {
    "deletable": true,
    "editable": true
   },
   "source": [
    "A function to lines into character id vectors."
   ]
  },
  {
   "cell_type": "code",
   "execution_count": 10,
   "metadata": {
    "collapsed": true,
    "deletable": true,
    "editable": true
   },
   "outputs": [],
   "source": [
    "def as_matrix(lines, max_len=None):\n",
    "    if isinstance(lines, str):\n",
    "        lines = [lines]\n",
    "\n",
    "    length = max(map(len, lines))\n",
    "    length = min(length, max_len or length)\n",
    "\n",
    "    matrix = np.full((len(lines), length), -1, dtype='int32')\n",
    "    for i, line in enumerate(lines):\n",
    "        row_ix = [token_to_index.get(c, -1)\n",
    "                  for c in line[:length]]\n",
    "\n",
    "        matrix[i, :len(row_ix)] = row_ix\n",
    "\n",
    "    return matrix"
   ]
  },
  {
   "cell_type": "markdown",
   "metadata": {
    "deletable": true,
    "editable": true
   },
   "source": [
    "A function to convert History-Reply pairs into character id matrices"
   ]
  },
  {
   "cell_type": "code",
   "execution_count": 11,
   "metadata": {
    "collapsed": true,
    "deletable": true,
    "editable": true
   },
   "outputs": [],
   "source": [
    "def retrieve_sentences(pairs):\n",
    "    enc, dec = [], []\n",
    "    for q, a in pairs:\n",
    "        enc.append(db_lines[q])\n",
    "        dec.append(db_lines[a])\n",
    "    return enc, dec\n",
    "\n",
    "def get_matrices(pairs, max_len=None):\n",
    "    enc, dec = retrieve_sentences(pairs)\n",
    "    return as_matrix(enc, max_len), as_matrix(dec, max_len)"
   ]
  },
  {
   "cell_type": "markdown",
   "metadata": {
    "deletable": true,
    "editable": true
   },
   "source": [
    "A function to sample a batch from History-Reply pairs"
   ]
  },
  {
   "cell_type": "code",
   "execution_count": 12,
   "metadata": {
    "collapsed": true,
    "deletable": true,
    "editable": true
   },
   "outputs": [],
   "source": [
    "def generate_batch(batch_size=32, max_len=None):\n",
    "    n_batches = (len(qa_pairs) + batch_size - 1) // batch_size\n",
    "    indices_ = random_state.permutation(len(qa_pairs))\n",
    "    \n",
    "    for i in range(n_batches):\n",
    "        yield get_matrices(qa_pairs[indices_[i::n_batches]], max_len)"
   ]
  },
  {
   "cell_type": "markdown",
   "metadata": {
    "deletable": true,
    "editable": true
   },
   "source": [
    "Define a simple seq2seq network (preferably in Lasagne)"
   ]
  },
  {
   "cell_type": "code",
   "execution_count": 13,
   "metadata": {
    "collapsed": true,
    "deletable": true,
    "editable": true
   },
   "outputs": [],
   "source": [
    "from lasagne.layers import InputLayer, EmbeddingLayer\n",
    "from lasagne.layers import GRULayer, DenseLayer\n",
    "from lasagne.layers import NonlinearityLayer\n",
    "\n",
    "from broadcast import BroadcastLayer, UnbroadcastLayer\n",
    "from lasagne.layers import SliceLayer\n",
    "\n",
    "from lasagne.layers.base import Layer\n",
    "\n",
    "from GRUwithAttention import GRUAttentionLayer"
   ]
  },
  {
   "cell_type": "markdown",
   "metadata": {
    "deletable": true,
    "editable": true
   },
   "source": [
    "The architecture hyper parameters"
   ]
  },
  {
   "cell_type": "code",
   "execution_count": 14,
   "metadata": {
    "collapsed": false,
    "deletable": true,
    "editable": true
   },
   "outputs": [],
   "source": [
    "model_file = \"pickles/attention_mdl_epoch-20.pkl\"\n",
    "if os.path.exists(model_file):\n",
    "    with open(model_file, \"rb\") as fin:\n",
    "        ver, *rest = pickle.load(fin)\n",
    "        assert ver == \"GRUAttentionLayer\"\n",
    "\n",
    "    hyper, vocab, weights = rest\n",
    "\n",
    "else:\n",
    "    hyper = {\n",
    "        \"n_embed_char\": 32,\n",
    "        \"n_hidden_decoder\": 256,\n",
    "        \"n_hidden_encoder\": 256,\n",
    "        \"n_layers_decoder\": 2,\n",
    "        \"n_attention_decoder\": 256,\n",
    "    }"
   ]
  },
  {
   "cell_type": "markdown",
   "metadata": {
    "deletable": true,
    "editable": true
   },
   "source": [
    "Set shortcuts"
   ]
  },
  {
   "cell_type": "code",
   "execution_count": 15,
   "metadata": {
    "collapsed": true,
    "deletable": true,
    "editable": true
   },
   "outputs": [],
   "source": [
    "n_embed_char = hyper[\"n_embed_char\"]          # 32\n",
    "n_hidden_encoder = hyper[\"n_hidden_encoder\"]  # 256\n",
    "n_hidden_decoder = hyper[\"n_hidden_decoder\"]  # 256\n",
    "n_layers_decoder = hyper[\"n_layers_decoder\"]  # 4\n",
    "n_attention_decoder = hyper[\"n_attention_decoder\"]  # 256"
   ]
  },
  {
   "cell_type": "markdown",
   "metadata": {
    "deletable": true,
    "editable": true
   },
   "source": [
    "<img src=\"https://raw.githubusercontent.com/saltypaul/Seq2Seq-Chatbot/master/pics/Training%20Phase.jpg\" />"
   ]
  },
  {
   "cell_type": "markdown",
   "metadata": {
    "deletable": true,
    "editable": true
   },
   "source": [
    "### Embedding subgraph (pinkish)"
   ]
  },
  {
   "cell_type": "markdown",
   "metadata": {
    "deletable": true,
    "editable": true
   },
   "source": [
    "A helper function to initialize GRU layer with attention"
   ]
  },
  {
   "cell_type": "code",
   "execution_count": 16,
   "metadata": {
    "collapsed": true,
    "deletable": true,
    "editable": true
   },
   "outputs": [],
   "source": [
    "def gruattn_column(input, context, num_units, num_attn_units, **kwargs):\n",
    "    kwargs.pop(\"only_return_final\", None)\n",
    "    name = kwargs.pop(\"name\", \"default\")\n",
    "    column = [input]\n",
    "    for i, n_units in enumerate(num_units):\n",
    "        layer = GRUAttentionLayer(column[-1], context, n_units, num_attn_units,\n",
    "                                  name=os.path.join(name, \"gruattn_%02d\" % i),\n",
    "                                  **kwargs)\n",
    "        column.append(layer)\n",
    "    return column[1:]"
   ]
  },
  {
   "cell_type": "markdown",
   "metadata": {
    "deletable": true,
    "editable": true
   },
   "source": [
    "Create readouts of the last hidden state"
   ]
  },
  {
   "cell_type": "code",
   "execution_count": 17,
   "metadata": {
    "collapsed": true,
    "deletable": true,
    "editable": true
   },
   "outputs": [],
   "source": [
    "def gru_hidden_readout(column, indices):\n",
    "    hidden = []\n",
    "    for layer in column:\n",
    "        name = os.path.join(layer.name, \"slice\")\n",
    "        slice_ = SliceLayer(layer, indices, axis=1, name=name)\n",
    "        hidden.append(slice_)\n",
    "    return hidden"
   ]
  },
  {
   "cell_type": "markdown",
   "metadata": {
    "deletable": true,
    "editable": true
   },
   "source": [
    "### Encoder"
   ]
  },
  {
   "cell_type": "markdown",
   "metadata": {
    "deletable": true,
    "editable": true
   },
   "source": [
    "Tap into the common embedding layer"
   ]
  },
  {
   "cell_type": "code",
   "execution_count": 18,
   "metadata": {
    "collapsed": true,
    "deletable": true,
    "editable": true
   },
   "outputs": [],
   "source": [
    "l_encoder_mask = InputLayer((None, None), name=\"encoder/mask\")\n",
    "l_encoder_embed = InputLayer((None, None, n_embed_char), name=\"encoder/input\")"
   ]
  },
  {
   "cell_type": "markdown",
   "metadata": {
    "deletable": true,
    "editable": true
   },
   "source": [
    "### Sentence representation"
   ]
  },
  {
   "cell_type": "markdown",
   "metadata": {
    "deletable": true,
    "editable": true
   },
   "source": [
    "Construct layered GRU columns atop the embedding (we can also make parallel fwd / rev layers)"
   ]
  },
  {
   "cell_type": "code",
   "execution_count": 19,
   "metadata": {
    "collapsed": true,
    "deletable": true,
    "editable": true
   },
   "outputs": [],
   "source": [
    "from lasagne.layers import ConcatLayer\n",
    "\n",
    "bidi_gru = []\n",
    "bidi_gru.append(GRULayer(l_encoder_embed, n_hidden_encoder, learn_init=True,\n",
    "                         name=\"encoder/gru_f\", backwards=False))\n",
    "bidi_gru.append(GRULayer(l_encoder_embed, n_hidden_encoder, learn_init=True,\n",
    "                         name=\"encoder/gru_b\", backwards=True))\n",
    "\n",
    "l_encoder_context = ConcatLayer(bidi_gru, axis=-1, name=\"encoder/cat\")"
   ]
  },
  {
   "cell_type": "markdown",
   "metadata": {
    "deletable": true,
    "editable": true
   },
   "source": [
    "### Decoder"
   ]
  },
  {
   "cell_type": "markdown",
   "metadata": {
    "deletable": true,
    "editable": true
   },
   "source": [
    "Tap into the common embedding layer but with decoder's own input."
   ]
  },
  {
   "cell_type": "code",
   "execution_count": 20,
   "metadata": {
    "collapsed": true,
    "deletable": true,
    "editable": true
   },
   "outputs": [],
   "source": [
    "l_decoder_mask = InputLayer((None, None), name=\"decoder/mask\")\n",
    "l_decoder_embed = InputLayer((None, None, n_embed_char), name=\"decoder/input\")"
   ]
  },
  {
   "cell_type": "markdown",
   "metadata": {
    "deletable": true,
    "editable": true
   },
   "source": [
    "Construct layers of GRU-s which recieve the final state of the encoder's network."
   ]
  },
  {
   "cell_type": "code",
   "execution_count": 21,
   "metadata": {
    "collapsed": false,
    "deletable": true,
    "editable": true
   },
   "outputs": [],
   "source": [
    "n_units = n_layers_decoder * [n_hidden_decoder]\n",
    "dec_rnn_layers = gruattn_column(l_decoder_embed, l_encoder_context, n_units,\n",
    "                                n_attention_decoder, mask_input=l_decoder_mask,\n",
    "                                learn_init=True, backwards=False,\n",
    "                                context_mask_input=l_encoder_mask, name=\"decoder\")\n",
    "\n",
    "dec_rnn_layers_sliced = gru_hidden_readout(dec_rnn_layers, -1)"
   ]
  },
  {
   "cell_type": "markdown",
   "metadata": {
    "deletable": true,
    "editable": true
   },
   "source": [
    "Read the output of the top layer of the RNN and re-embed into the character space"
   ]
  },
  {
   "cell_type": "code",
   "execution_count": 22,
   "metadata": {
    "collapsed": true,
    "deletable": true,
    "editable": true
   },
   "outputs": [],
   "source": [
    "l_decoder_reembedder = DenseLayer(dec_rnn_layers[-1], num_units=len(vocab),\n",
    "                                  nonlinearity=None, num_leading_axes=2,\n",
    "                                  name=\"decoder/project\")"
   ]
  },
  {
   "cell_type": "markdown",
   "metadata": {
    "deletable": true,
    "editable": true
   },
   "source": [
    "Construct the softmax layer"
   ]
  },
  {
   "cell_type": "code",
   "execution_count": 23,
   "metadata": {
    "collapsed": true,
    "deletable": true,
    "editable": true
   },
   "outputs": [],
   "source": [
    "l_bc = BroadcastLayer(l_decoder_reembedder, broadcasted_axes=(0, 1), name=\"decoder/bc\")\n",
    "l_softmax = NonlinearityLayer(l_bc, nonlinearity=lasagne.nonlinearities.softmax, name=\"decoder/softmax\")\n",
    "l_decoder_output = UnbroadcastLayer(l_softmax, l_bc, name=\"decoder/ub\")"
   ]
  },
  {
   "cell_type": "markdown",
   "metadata": {
    "deletable": true,
    "editable": true
   },
   "source": [
    "### Embedding layer "
   ]
  },
  {
   "cell_type": "markdown",
   "metadata": {
    "deletable": true,
    "editable": true
   },
   "source": [
    "The common embedding layer"
   ]
  },
  {
   "cell_type": "code",
   "execution_count": 24,
   "metadata": {
    "collapsed": true,
    "deletable": true,
    "editable": true
   },
   "outputs": [],
   "source": [
    "l_input_char = InputLayer((None, None), name=\"char/input\")\n",
    "l_embed_char = EmbeddingLayer(l_input_char, len(vocab), n_embed_char, name=\"char/embed\")"
   ]
  },
  {
   "cell_type": "markdown",
   "metadata": {
    "deletable": true,
    "editable": true
   },
   "source": [
    "### Resume training"
   ]
  },
  {
   "cell_type": "code",
   "execution_count": 25,
   "metadata": {
    "collapsed": false,
    "deletable": true,
    "editable": true
   },
   "outputs": [],
   "source": [
    "if \"weights\" in locals():\n",
    "    lasagne.layers.set_all_param_values(l_embed_char,\n",
    "                                        weights[\"l_embed_char\"])\n",
    "    lasagne.layers.set_all_param_values(l_decoder_reembedder,\n",
    "                                        weights[\"l_decoder_reembedder\"])"
   ]
  },
  {
   "cell_type": "markdown",
   "metadata": {
    "deletable": true,
    "editable": true
   },
   "source": [
    "### Loss"
   ]
  },
  {
   "cell_type": "markdown",
   "metadata": {
    "deletable": true,
    "editable": true
   },
   "source": [
    "Collect the encoder input"
   ]
  },
  {
   "cell_type": "code",
   "execution_count": 26,
   "metadata": {
    "collapsed": false,
    "deletable": true,
    "editable": true
   },
   "outputs": [],
   "source": [
    "v_encoder_input = tt.imatrix(name=\"encoder/input\")\n",
    "v_encoder_embed = l_embed_char.get_output_for(v_encoder_input)\n",
    "\n",
    "inputs = {l_encoder_embed: v_encoder_embed,\n",
    "          l_encoder_mask: tt.ge(v_encoder_input, 0)}"
   ]
  },
  {
   "cell_type": "markdown",
   "metadata": {
    "deletable": true,
    "editable": true
   },
   "source": [
    "And the decoder's inputs"
   ]
  },
  {
   "cell_type": "code",
   "execution_count": 27,
   "metadata": {
    "collapsed": true,
    "deletable": true,
    "editable": true
   },
   "outputs": [],
   "source": [
    "v_decoder_input = tt.imatrix(name=\"decoder/input\")\n",
    "v_decoder_embed = lasagne.layers.get_output(l_embed_char, v_decoder_input)\n",
    "\n",
    "inputs.update({l_decoder_embed: v_decoder_embed,\n",
    "               l_decoder_mask: tt.ge(v_decoder_input, 0)})"
   ]
  },
  {
   "cell_type": "markdown",
   "metadata": {
    "deletable": true,
    "editable": true
   },
   "source": [
    "Get the output of the decoder"
   ]
  },
  {
   "cell_type": "code",
   "execution_count": 28,
   "metadata": {
    "collapsed": true,
    "deletable": true,
    "editable": true
   },
   "outputs": [],
   "source": [
    "v_decoder_output, v_decoder_mask = lasagne.layers.get_output(\n",
    "    [l_decoder_output, l_decoder_mask], inputs, deterministic=False)"
   ]
  },
  {
   "cell_type": "markdown",
   "metadata": {
    "deletable": true,
    "editable": true
   },
   "source": [
    "Slice the output to match the forward character-level language model"
   ]
  },
  {
   "cell_type": "code",
   "execution_count": 29,
   "metadata": {
    "collapsed": false,
    "deletable": true,
    "editable": true
   },
   "outputs": [],
   "source": [
    "v_predicted = v_decoder_output[:, :-1].reshape(\n",
    "    (-1, v_decoder_output.shape[-1]))\n",
    "\n",
    "v_targets = v_decoder_input[:, 1:].reshape((-1,))\n",
    "\n",
    "v_mask = v_decoder_mask[:, 1:].reshape((-1,))"
   ]
  },
  {
   "cell_type": "markdown",
   "metadata": {
    "deletable": true,
    "editable": true
   },
   "source": [
    "Construct the cross-entropy loss"
   ]
  },
  {
   "cell_type": "code",
   "execution_count": 30,
   "metadata": {
    "collapsed": true,
    "deletable": true,
    "editable": true
   },
   "outputs": [],
   "source": [
    "loss_ij = lasagne.objectives.categorical_crossentropy(v_predicted, v_targets)\n",
    "loss = (loss_ij * v_mask).sum()\n",
    "loss /= v_mask.sum()"
   ]
  },
  {
   "cell_type": "markdown",
   "metadata": {
    "deletable": true,
    "editable": true
   },
   "source": [
    "It can be benefitial to project the character embeddings onto the unit sphere.\n",
    "However we are going to project the embeddings into the unit $l^2$ ball instead."
   ]
  },
  {
   "cell_type": "code",
   "execution_count": 31,
   "metadata": {
    "collapsed": true,
    "deletable": true,
    "editable": true
   },
   "outputs": [],
   "source": [
    "W_emb = l_embed_char.get_params()[0]\n",
    "\n",
    "op_project_embedding = theano.function([], updates={\n",
    "    W_emb: W_emb / tt.maximum(W_emb.norm(2, axis=-1, keepdims=True), 1.0)\n",
    "})"
   ]
  },
  {
   "cell_type": "markdown",
   "metadata": {
    "deletable": true,
    "editable": true
   },
   "source": [
    "On the other hand we can always add $l^2$ regularization term."
   ]
  },
  {
   "cell_type": "code",
   "execution_count": 32,
   "metadata": {
    "collapsed": true,
    "deletable": true,
    "editable": true
   },
   "outputs": [],
   "source": [
    "if False:\n",
    "    C_embed = 1e-1\n",
    "    loss += C_embed * W_emb.norm(2, axis=-1).mean()"
   ]
  },
  {
   "cell_type": "markdown",
   "metadata": {
    "deletable": true,
    "editable": true
   },
   "source": [
    "Collect all trainable parameters "
   ]
  },
  {
   "cell_type": "code",
   "execution_count": 33,
   "metadata": {
    "collapsed": true,
    "deletable": true,
    "editable": true
   },
   "outputs": [],
   "source": [
    "trainable = []\n",
    "trainable.extend(lasagne.layers.get_all_params(l_embed_char, trainable=True))\n",
    "trainable.extend(lasagne.layers.get_all_params(l_decoder_output, trainable=True))"
   ]
  },
  {
   "cell_type": "markdown",
   "metadata": {
    "deletable": true,
    "editable": true
   },
   "source": [
    "Get the updates"
   ]
  },
  {
   "cell_type": "code",
   "execution_count": 34,
   "metadata": {
    "collapsed": true,
    "deletable": true,
    "editable": true
   },
   "outputs": [],
   "source": [
    "learning_rate = theano.shared(floatX(1e-3), name=\"eta\")\n",
    "\n",
    "# updates = lasagne.updates.sgd(loss, trainable, learning_rate)\n",
    "updates = lasagne.updates.adam(loss, trainable, learning_rate)"
   ]
  },
  {
   "cell_type": "markdown",
   "metadata": {
    "deletable": true,
    "editable": true
   },
   "source": [
    "Create the ops"
   ]
  },
  {
   "cell_type": "code",
   "execution_count": 35,
   "metadata": {
    "collapsed": false,
    "deletable": true,
    "editable": true
   },
   "outputs": [],
   "source": [
    "op_train = theano.function([v_decoder_input, v_encoder_input], loss,\n",
    "                           updates=updates, givens={},\n",
    "                           mode=theano.Mode(optimizer=\"fast_run\"))"
   ]
  },
  {
   "cell_type": "code",
   "execution_count": 36,
   "metadata": {
    "collapsed": true,
    "deletable": true,
    "editable": true
   },
   "outputs": [],
   "source": [
    "v_decoder_logits = lasagne.layers.get_output(l_decoder_reembedder, inputs, deterministic=True)\n",
    "\n",
    "op_predict_logits = theano.function([v_decoder_input, v_encoder_input],\n",
    "                                     v_decoder_logits, mode=theano.Mode(optimizer=\"fast_run\"))"
   ]
  },
  {
   "cell_type": "code",
   "execution_count": 37,
   "metadata": {
    "collapsed": false,
    "deletable": true,
    "editable": true,
    "scrolled": false
   },
   "outputs": [
    {
     "data": {
      "text/plain": [
       "[char/embed.W,\n",
       " encoder/gru_f.W_in_to_updategate,\n",
       " encoder/gru_f.W_hid_to_updategate,\n",
       " encoder/gru_f.b_updategate,\n",
       " encoder/gru_f.W_in_to_resetgate,\n",
       " encoder/gru_f.W_hid_to_resetgate,\n",
       " encoder/gru_f.b_resetgate,\n",
       " encoder/gru_f.W_in_to_hidden_update,\n",
       " encoder/gru_f.W_hid_to_hidden_update,\n",
       " encoder/gru_f.b_hidden_update,\n",
       " encoder/gru_f.hid_init,\n",
       " encoder/gru_b.W_in_to_updategate,\n",
       " encoder/gru_b.W_hid_to_updategate,\n",
       " encoder/gru_b.b_updategate,\n",
       " encoder/gru_b.W_in_to_resetgate,\n",
       " encoder/gru_b.W_hid_to_resetgate,\n",
       " encoder/gru_b.b_resetgate,\n",
       " encoder/gru_b.W_in_to_hidden_update,\n",
       " encoder/gru_b.W_hid_to_hidden_update,\n",
       " encoder/gru_b.b_hidden_update,\n",
       " encoder/gru_b.hid_init,\n",
       " decoder/gruattn_00.W_in,\n",
       " decoder/gruattn_00.W_ctx,\n",
       " decoder/gruattn_00.W_hid,\n",
       " decoder/gruattn_00.b,\n",
       " decoder/gruattn_00.v_attn,\n",
       " decoder/gruattn_00.b_attn,\n",
       " decoder/gruattn_00.hid_init,\n",
       " decoder/gruattn_01.W_in,\n",
       " decoder/gruattn_01.W_ctx,\n",
       " decoder/gruattn_01.W_hid,\n",
       " decoder/gruattn_01.b,\n",
       " decoder/gruattn_01.v_attn,\n",
       " decoder/gruattn_01.b_attn,\n",
       " decoder/gruattn_01.hid_init,\n",
       " decoder/project.W,\n",
       " decoder/project.b]"
      ]
     },
     "execution_count": 37,
     "metadata": {},
     "output_type": "execute_result"
    }
   ],
   "source": [
    "trainable"
   ]
  },
  {
   "cell_type": "markdown",
   "metadata": {
    "deletable": true,
    "editable": true
   },
   "source": [
    "### The generator"
   ]
  },
  {
   "cell_type": "markdown",
   "metadata": {
    "deletable": true,
    "editable": true
   },
   "source": [
    "<img src=\"https://raw.githubusercontent.com/saltypaul/Seq2Seq-Chatbot/master/pics/Eval.jpg\" />"
   ]
  },
  {
   "cell_type": "markdown",
   "metadata": {
    "deletable": true,
    "editable": true
   },
   "source": [
    "A handy slicer (copied and modified)"
   ]
  },
  {
   "cell_type": "code",
   "execution_count": 38,
   "metadata": {
    "collapsed": true,
    "deletable": true,
    "editable": true
   },
   "outputs": [],
   "source": [
    "def slice_(x, i, n):\n",
    "    s = x[..., slice(i, i + n)]\n",
    "    return s if n > 1 else tt.addbroadcast(s, -1)"
   ]
  },
  {
   "cell_type": "markdown",
   "metadata": {
    "deletable": true,
    "editable": true
   },
   "source": [
    "Define one step of the scan function"
   ]
  },
  {
   "cell_type": "code",
   "execution_count": 39,
   "metadata": {
    "collapsed": false,
    "deletable": true,
    "editable": true
   },
   "outputs": [],
   "source": [
    "# Generator's one step update function\n",
    "def generator_step_sm(x_tm1, h_tm1, m_tm1, ctx, ctx_mask, tau, eps):\n",
    "    \"\"\"One step of the generative decoder version.\"\"\"\n",
    "    # x_tm1 is `BxT` one-hot, h_tm1 is `batch x ...`\n",
    "    # m_tm1 is `batch`, tau, eps are scalars\n",
    "\n",
    "    # collect the inputs\n",
    "    inputs = {l_decoder_embed: x_tm1.dimshuffle(0, \"x\", 1),\n",
    "              l_decoder_mask: m_tm1.dimshuffle(0, \"x\"),\n",
    "              l_encoder_mask: ctx_mask,\n",
    "              l_encoder_context: ctx}\n",
    "\n",
    "    # Connect the prev variables to the the hidden and stack state feeds\n",
    "    j = 0\n",
    "    for layer in dec_rnn_layers:\n",
    "        inputs[layer.hid_init] = slice_(h_tm1, j, layer.num_units)\n",
    "        j += layer.num_units\n",
    "\n",
    "    # Get the outputs\n",
    "    outputs = [l_decoder_reembedder] + dec_rnn_layers_sliced\n",
    "\n",
    "    # propagate through the decoder column\n",
    "    logit_t, *h_t_list = lasagne.layers.get_output(outputs, inputs,\n",
    "                                                   deterministic=True)\n",
    "\n",
    "    # Pack the hidden states\n",
    "    h_t = tt.concatenate(h_t_list, axis=-1)\n",
    "    \n",
    "    # Generate the next symbol: logit_t is `Bx1xV`\n",
    "    logit_t = logit_t[:, 0]\n",
    "    prob_t = tt.nnet.softmax(logit_t)\n",
    "\n",
    "    # Gumbel-softmax sampling: Gumbel (e^{-e^{-x}}) distributed random noise\n",
    "    gumbel = -tt.log(-tt.log(theano_random_state.uniform(size=logit_t.shape) + eps) + eps)\n",
    "#     logit_t = theano.ifelse.ifelse(tt.gt(tau, 0), gumbel + logit_t, logit_t)\n",
    "#     inv_temp = theano.ifelse.ifelse(tt.gt(tau, 0), 1.0 / tau, tt.constant(1.0))\n",
    "    logit_t = tt.switch(tt.gt(tau, 0), gumbel + logit_t, logit_t)\n",
    "    inv_temp = tt.switch(tt.gt(tau, 0), 1.0 / tau, tt.constant(1.0))\n",
    "\n",
    "    # Get the softmax: x_t is `BxV`\n",
    "    x_t = tt.nnet.softmax(logit_t * inv_temp)\n",
    "\n",
    "    # Get the best symbol\n",
    "    c_t = tt.cast(tt.argmax(x_t, axis=-1), \"int8\")\n",
    "\n",
    "    # Get the estimated probability of the picked symbol.\n",
    "    p_t = prob_t[tt.arange(c_t.shape[0]), c_t]\n",
    "\n",
    "    # Compute the mask and inhibit the propagation on a stop symbol.\n",
    "    # Recurrent layers return the previous state if m_tm1 is Fasle\n",
    "    m_t = m_tm1 & tt.gt(c_t, vocab.index(\"\\x03\"))\n",
    "    c_t = tt.switch(m_t, c_t, vocab.index(\"\\x03\"))\n",
    "\n",
    "    # There is no need to freeze the states as they will be frozen by\n",
    "    # the RNN passthrough according to the mask `m_t`.\n",
    "\n",
    "    # Embed the current character.\n",
    "    x_t = tt.dot(x_t, l_embed_char.W)\n",
    "\n",
    "    return x_t, h_t, m_t, p_t, c_t"
   ]
  },
  {
   "cell_type": "markdown",
   "metadata": {
    "deletable": true,
    "editable": true
   },
   "source": [
    "Create scalar inputs to the scan loop. Also initialize the random stream."
   ]
  },
  {
   "cell_type": "code",
   "execution_count": 40,
   "metadata": {
    "collapsed": false,
    "deletable": true,
    "editable": true
   },
   "outputs": [],
   "source": [
    "theano_random_state = tt.shared_randomstreams.RandomStreams(seed=42)\n",
    "\n",
    "eps = tt.fscalar(\"generator/epsilon\")\n",
    "n_steps = tt.iscalar(\"generator/n_steps\")\n",
    "tau = tt.fscalar(\"generator/gumbel/tau\")"
   ]
  },
  {
   "cell_type": "markdown",
   "metadata": {
    "deletable": true,
    "editable": true
   },
   "source": [
    "Let's compile an autofeeding generator with softmax."
   ]
  },
  {
   "cell_type": "code",
   "execution_count": 41,
   "metadata": {
    "collapsed": false,
    "deletable": true,
    "editable": true
   },
   "outputs": [],
   "source": [
    "v_gen_input = tt.imatrix(name=\"generator/Q_input\")\n",
    "\n",
    "v_gen_embed = lasagne.layers.get_output(l_embed_char, v_gen_input)"
   ]
  },
  {
   "cell_type": "markdown",
   "metadata": {
    "deletable": true,
    "editable": true
   },
   "source": [
    "Helper functions to freeze the GRULayer's hidden input's initialization,\n",
    "if one is a parameter."
   ]
  },
  {
   "cell_type": "code",
   "execution_count": 42,
   "metadata": {
    "collapsed": true,
    "deletable": true,
    "editable": true
   },
   "outputs": [],
   "source": [
    "def GRULayer_freeze(layer, input):\n",
    "    assert isinstance(layer, (GRULayer, GRUAttentionLayer))\n",
    "    if isinstance(layer.hid_init, Layer):\n",
    "        return layer\n",
    "\n",
    "    assert not (layer.hid_init_incoming_index > 0)\n",
    "    assert isinstance(layer.hid_init, theano.compile.SharedVariable)\n",
    "\n",
    "    # Broadcast the fixed /learnt hidden init over the batch dimension\n",
    "    hid_init = tt.dot(tt.ones((input.shape[0], 1)), layer.hid_init)\n",
    "\n",
    "    # Create a fake Input Layer, which receives it as input\n",
    "    layer._old_hid_init = layer.hid_init\n",
    "    layer.hid_init = InputLayer((None, None), input_var=hid_init,\n",
    "                                name=os.path.join(layer.name,\n",
    "                                                  \"hid_init_fix\"))\n",
    "    \n",
    "    # Cache former values\n",
    "    layer._old_input_layers = layer.input_layers\n",
    "    layer._old_input_shapes = layer.input_shapes\n",
    "    layer._old_hid_init_incoming_index = layer.hid_init_incoming_index\n",
    "    \n",
    "    # Emulate hidden layer input (is in GRULayer/MergeLayer.__init__())\n",
    "    layer.input_layers.append(layer.hid_init)\n",
    "    layer.input_shapes.append(layer.hid_init.output_shape)\n",
    "    layer.hid_init_incoming_index = len(layer.input_layers) - 1\n",
    "\n",
    "    layer._layer_frozen = True\n",
    "    return layer"
   ]
  },
  {
   "cell_type": "markdown",
   "metadata": {
    "deletable": true,
    "editable": true
   },
   "source": [
    "Freeze the hidden inputs of the decoder layers, which do not tap into the encoder."
   ]
  },
  {
   "cell_type": "code",
   "execution_count": 43,
   "metadata": {
    "collapsed": false,
    "deletable": true,
    "editable": true
   },
   "outputs": [],
   "source": [
    "for layer in dec_rnn_layers:\n",
    "    GRULayer_freeze(layer, v_gen_input)"
   ]
  },
  {
   "cell_type": "markdown",
   "metadata": {
    "deletable": true,
    "editable": true
   },
   "source": [
    "Readout the last state from the encoder."
   ]
  },
  {
   "cell_type": "code",
   "execution_count": 44,
   "metadata": {
    "collapsed": false,
    "deletable": true,
    "editable": true
   },
   "outputs": [],
   "source": [
    "inputs = {l_encoder_embed: v_gen_embed,\n",
    "          l_encoder_mask: tt.ge(v_gen_input, 0)}\n",
    "outputs = [l_encoder_context] + [l.hid_init for l in dec_rnn_layers]\n",
    "\n",
    "context, *dec_hid_inits = lasagne.layers.get_output(outputs, inputs,\n",
    "                                                    deterministic=True)\n",
    "context_mask = inputs[l_encoder_mask]"
   ]
  },
  {
   "cell_type": "markdown",
   "metadata": {
    "deletable": true,
    "editable": true
   },
   "source": [
    "Prepare the initial values."
   ]
  },
  {
   "cell_type": "code",
   "execution_count": 45,
   "metadata": {
    "collapsed": true,
    "deletable": true,
    "editable": true
   },
   "outputs": [],
   "source": [
    "h_0 = tt.concatenate(dec_hid_inits, axis=-1)\n",
    "\n",
    "x_0 = tt.fill(tt.zeros((v_gen_input.shape[0],), dtype=\"int32\"),\n",
    "              vocab.index(\"\\x02\"))\n",
    "x_0 = lasagne.layers.get_output(l_embed_char, x_0)\n",
    "\n",
    "m_0 = tt.ones((v_gen_input.shape[0],), 'bool')"
   ]
  },
  {
   "cell_type": "markdown",
   "metadata": {
    "deletable": true,
    "editable": true
   },
   "source": [
    "Add a scan op and compile"
   ]
  },
  {
   "cell_type": "code",
   "execution_count": 46,
   "metadata": {
    "collapsed": false,
    "deletable": true,
    "editable": true,
    "scrolled": false
   },
   "outputs": [],
   "source": [
    "result, updates = theano.scan(generator_step_sm, sequences=None, n_steps=n_steps,\n",
    "                              outputs_info=[x_0, h_0, m_0, None, None],\n",
    "                              strict=False, return_list=True,\n",
    "                              non_sequences=[context, context_mask, tau, eps],\n",
    "                              go_backwards=False, name=\"generator/scan\")\n",
    "x_t, h_t, m_t, p_t, c_t = [r.swapaxes(0, 1) for r in result]\n",
    "\n",
    "compile_mode = theano.Mode(optimizer=\"fast_run\", linker=\"cvm\")\n",
    "op_generate = theano.function([v_gen_input, n_steps, tau],\n",
    "                              [c_t, h_t, m_t, p_t],\n",
    "                              updates=updates, givens={eps: floatX(1e-20)},\n",
    "                              mode=compile_mode)"
   ]
  },
  {
   "cell_type": "markdown",
   "metadata": {
    "deletable": true,
    "editable": true
   },
   "source": [
    "This function undoes the frrezing by the previous one"
   ]
  },
  {
   "cell_type": "code",
   "execution_count": 47,
   "metadata": {
    "collapsed": true,
    "deletable": true,
    "editable": true
   },
   "outputs": [],
   "source": [
    "def GRULayer_unfreeze(layer):\n",
    "    assert isinstance(layer, (GRULayer, GRUAttentionLayer))\n",
    "    freeze_attr = [\"_layer_frozen\",\n",
    "                   \"_old_input_layers\", \"_old_input_shapes\",\n",
    "                   \"_old_hid_init_incoming_index\", \"_old_hid_init\"]\n",
    "    if not all(hasattr(layer, a) for a  in freeze_attr):\n",
    "        return layer\n",
    "\n",
    "    assert layer._layer_frozen\n",
    "    assert isinstance(layer.hid_init, Layer)\n",
    "    assert layer.hid_init.name.endswith(\"/hid_init_fix\")\n",
    "\n",
    "    # Thawe the frozen hidden input\n",
    "    layer.hid_init = layer._old_hid_init\n",
    "    layer.input_layers = layer._old_input_layers\n",
    "    layer.input_shapes = layer._old_input_shapes\n",
    "    layer.hid_init_incoming_index = layer._old_hid_init_incoming_index\n",
    "    \n",
    "    for attr in freeze_attr:\n",
    "        delattr(layer, attr)\n",
    "\n",
    "    return layer"
   ]
  },
  {
   "cell_type": "markdown",
   "metadata": {
    "deletable": true,
    "editable": true
   },
   "source": [
    "Unfreeze the decoder's layer, so that those which do not tap in to the encoder,\n",
    "may continue to use / learn their own `hid_init` state."
   ]
  },
  {
   "cell_type": "code",
   "execution_count": 48,
   "metadata": {
    "collapsed": true,
    "deletable": true,
    "editable": true
   },
   "outputs": [],
   "source": [
    "for layer in dec_rnn_layers:\n",
    "    GRULayer_unfreeze(layer)"
   ]
  },
  {
   "cell_type": "markdown",
   "metadata": {
    "deletable": true,
    "editable": true
   },
   "source": [
    "A generator procedure, which automatically selects the best replies (lowest perplexity)."
   ]
  },
  {
   "cell_type": "code",
   "execution_count": 49,
   "metadata": {
    "collapsed": true,
    "deletable": true,
    "editable": true
   },
   "outputs": [],
   "source": [
    "def generate(questions, n_steps, n_samples=10, tau=0, seed=None):\n",
    "    results = []\n",
    "    for question in questions:\n",
    "        # Replicate the query\n",
    "        question = np.repeat(question[np.newaxis], n_samples, axis=0)\n",
    "        if seed is not None:\n",
    "            theano_random_state.seed(seed)\n",
    "\n",
    "        x_t, h_t, m_t, p_t = op_generate(question, n_steps, tau)\n",
    "\n",
    "        # may produce NaN, but they are shifted in the back by arsort\n",
    "        perplexity, n_chars = (- np.log2(p_t) * m_t).sum(axis=-1), m_t.sum(axis=-1)\n",
    "        perplexity /= n_chars\n",
    "\n",
    "        result = []\n",
    "        for i in perplexity.argsort():\n",
    "            reply = \"\".join(map(vocab.__getitem__, x_t[i, :n_chars[i]]))\n",
    "            result.append((reply, perplexity[i]))\n",
    "        results.append(result)\n",
    "    return results"
   ]
  },
  {
   "cell_type": "markdown",
   "metadata": {
    "deletable": true,
    "editable": true
   },
   "source": [
    "<br/>"
   ]
  },
  {
   "cell_type": "markdown",
   "metadata": {
    "deletable": true,
    "editable": true
   },
   "source": [
    "### Train the BOT"
   ]
  },
  {
   "cell_type": "code",
   "execution_count": 50,
   "metadata": {
    "collapsed": true,
    "deletable": true,
    "editable": true
   },
   "outputs": [],
   "source": [
    "def sample_qa():\n",
    "    sample = qa_pairs[random_state.choice(len(qa_pairs), 3)]\n",
    "    enc, dec = retrieve_sentences(sample)\n",
    "\n",
    "    replies = generate(as_matrix(enc), 140, tau=2**-10, n_samples=20)\n",
    "    for e, d, r in zip(enc, dec, replies):\n",
    "        tqdm.tqdm.write(\"|%-40.40s | %-30.30s | %-30.30s|\" % (e[1:-1], d[1:-1], r[0][0]))"
   ]
  },
  {
   "cell_type": "markdown",
   "metadata": {
    "deletable": true,
    "editable": true
   },
   "source": [
    "Set the batch size and the number of epochs."
   ]
  },
  {
   "cell_type": "code",
   "execution_count": 56,
   "metadata": {
    "collapsed": true,
    "deletable": true,
    "editable": true
   },
   "outputs": [],
   "source": [
    "batch_size, n_epochs = 160, 20\n",
    "epoch, loss_val_hist = 0, []\n",
    "\n",
    "model_path = os.path.join(\"pickles\", time.strftime(\"%Y%m%d-%H%M%S\"))\n",
    "if not os.path.exists(model_path):\n",
    "    os.makedirs(model_path)\n",
    "\n",
    "filename_fmt_ = os.path.join(model_path, \"attention_mdl_epoch-%02d%s.pkl\")"
   ]
  },
  {
   "cell_type": "markdown",
   "metadata": {
    "deletable": true,
    "editable": true
   },
   "source": [
    "Now let's train the shit!"
   ]
  },
  {
   "cell_type": "code",
   "execution_count": 85,
   "metadata": {
    "collapsed": true,
    "deletable": true,
    "editable": true
   },
   "outputs": [],
   "source": [
    "n_epochs = 20"
   ]
  },
  {
   "cell_type": "code",
   "execution_count": 86,
   "metadata": {
    "collapsed": false,
    "deletable": true,
    "editable": true,
    "scrolled": false
   },
   "outputs": [
    {
     "name": "stderr",
     "output_type": "stream",
     "text": [
      "  0%|          | 0/1386 [00:01<?, ?it/s]"
     ]
    },
    {
     "name": "stdout",
     "output_type": "stream",
     "text": [
      "|I mean, what are the three terrors of th | Westley, what about the R.O.U. | But I don't like that. I think|\n",
      "|You haven't mentioned dating anyone sinc | No, I'm not a lesbian. Geez mo | I know what I said.           |\n",
      "|You are bitter, Athos. You are torn by g | He who is not with us is again | Thank you. I love you can't pu|\n"
     ]
    },
    {
     "name": "stderr",
     "output_type": "stream",
     "text": [
      "  7%|▋         | 100/1386 [04:38<59:20,  2.77s/it, 10: 1.184] "
     ]
    },
    {
     "name": "stdout",
     "output_type": "stream",
     "text": [
      "|And I changed the schedule.              | I don't work for you, Captain  | Okay. Let's say you did that! |\n",
      "|You just called me Ivy. Who's Ivy?       | I wish I knew.                 | I don't know...               |\n",
      "|Det. Bradford, I'm sorry but we don't al | Sorry, ma'am. We're investigat | You're welcome.               |\n"
     ]
    },
    {
     "name": "stderr",
     "output_type": "stream",
     "text": [
      " 14%|█▍        | 200/1386 [09:15<54:43,  2.77s/it, 10: 1.187]  "
     ]
    },
    {
     "name": "stdout",
     "output_type": "stream",
     "text": [
      "|Will you stay here for the night? You ca | Don't worry about it. I'll sta | Or sweetheart.                |\n",
      "|Okay... dead or undead... what do you wa | A-duh... You're a werewolf. An | Don't listen to me.           |\n",
      "|It's a regular college. It's just run by | And you spend all your time ju | It's very important.          |\n"
     ]
    },
    {
     "name": "stderr",
     "output_type": "stream",
     "text": [
      " 22%|██▏       | 300/1386 [13:53<50:06,  2.77s/it, 10: 1.188]"
     ]
    },
    {
     "name": "stdout",
     "output_type": "stream",
     "text": [
      "|I'm looking for...                       | He said, and these were his wo | What's wrong?                 |\n",
      "|What is it?                              | The cop who found the knife in | I don't know that.            |\n",
      "|You're in there. Everybody dies, you go  | - But don't you remember? I'm  | Yeah.                         |\n"
     ]
    },
    {
     "name": "stderr",
     "output_type": "stream",
     "text": [
      " 29%|██▉       | 400/1386 [18:30<45:29,  2.77s/it, 10: 1.193]"
     ]
    },
    {
     "name": "stdout",
     "output_type": "stream",
     "text": [
      "|He was my blood - and I demand to know w | Why would you ask now? You nev | It was born. Do you know what |\n",
      "|Just those two loose-cannon cops running | Yeah. Pretty zany, huh? All th | I can't do somethin'.         |\n",
      "|Who?                                     | The other agent. He said he wa | The one who thinks I don't kno|\n"
     ]
    },
    {
     "name": "stderr",
     "output_type": "stream",
     "text": [
      " 36%|███▌      | 500/1386 [23:08<40:52,  2.77s/it, 10: 1.195]"
     ]
    },
    {
     "name": "stdout",
     "output_type": "stream",
     "text": [
      "|Josh!                                    | Well come on, sit down.        | Please don't do isaul five min|\n",
      "|I hear you brought a film clip with you. | Well, it pretty much speaks fo | Well, I'm sorry.              |\n",
      "|Huh. That explains all the tannins. And  | About a year.                  | I don't know. It's all right, |\n"
     ]
    },
    {
     "name": "stderr",
     "output_type": "stream",
     "text": [
      " 43%|████▎     | 600/1386 [27:45<36:16,  2.77s/it, 10: 1.196]"
     ]
    },
    {
     "name": "stdout",
     "output_type": "stream",
     "text": [
      "|Sure. Why?                               | It's Saturday morning. Let's g | I wouldn't know what everying |\n",
      "|Anything else you -                      | Not from you.                  | Yeah. Well, I don't love you a|\n",
      "|What do you want to carry that gun aroun | You want to talk about regrets | I don't know what I imagincs b|\n"
     ]
    },
    {
     "name": "stderr",
     "output_type": "stream",
     "text": [
      " 51%|█████     | 700/1386 [32:23<31:39,  2.77s/it, 10: 1.194]"
     ]
    },
    {
     "name": "stdout",
     "output_type": "stream",
     "text": [
      "|Yeah, watch the road!                    | You'll total the whole car.    | What are you going to disapure|\n",
      "|So, what good is it to us if it's been e | It's very good - because when  | It was a man who has no one to|\n",
      "|Why; naturally, I                        | Naturally. You're going to bec | Shall I have your refrensauris|\n"
     ]
    },
    {
     "name": "stderr",
     "output_type": "stream",
     "text": [
      " 58%|█████▊    | 800/1386 [37:00<27:02,  2.77s/it, 10: 1.193]"
     ]
    },
    {
     "name": "stdout",
     "output_type": "stream",
     "text": [
      "|Why wait?                                | I'm not going to wait. I'm goi | It's not better.              |\n",
      "|My gentle Captain... I'm staying.        | I - I don't understand...      | How do you know about this?   |\n",
      "|When does it break?                      | Couple of days. Anyhow, look a | It means you do something.    |\n"
     ]
    },
    {
     "name": "stderr",
     "output_type": "stream",
     "text": [
      " 65%|██████▍   | 900/1386 [41:37<22:25,  2.77s/it, 10: 1.195]"
     ]
    },
    {
     "name": "stdout",
     "output_type": "stream",
     "text": [
      "|Hey. Where's Monkeybone?                 | Back in your head, where he be | I told me that.               |\n",
      "|I'd rather you didn't.                   | Do you have a girlfriend?      | I'd like to do that.          |\n",
      "|How can you tell?                        | R.E.M.'s. Rapid eye movements. | I don't know.                 |\n"
     ]
    },
    {
     "name": "stderr",
     "output_type": "stream",
     "text": [
      " 72%|███████▏  | 1000/1386 [46:15<17:48,  2.77s/it, 10: 1.196]"
     ]
    },
    {
     "name": "stdout",
     "output_type": "stream",
     "text": [
      "|I have... eight-fifteen. That's not righ | It's three-thirty, Grady.      | I don't know, please. I'm inte|\n",
      "|He's a nigger.                           | Yeah. And uh, he's pissed off. | You're a lawyer.              |\n",
      "|...along.                                | Oh, no - please. I have to res | I wasn't there.               |\n"
     ]
    },
    {
     "name": "stderr",
     "output_type": "stream",
     "text": [
      " 79%|███████▉  | 1100/1386 [50:52<13:11,  2.77s/it, 10: 1.195]"
     ]
    },
    {
     "name": "stdout",
     "output_type": "stream",
     "text": [
      "|You'd want to make that go away. You'd w | And what if I couldn't do that | Would you read me?            |\n",
      "|Thank you, John.                         | You're welcome, Grace.         | Uh-huh. You've got to walk.   |\n",
      "|What?                                    | The doctor said you were havin | What do you know that?        |\n"
     ]
    },
    {
     "name": "stderr",
     "output_type": "stream",
     "text": [
      " 87%|████████▋ | 1200/1386 [55:30<08:34,  2.77s/it, 10: 1.197]"
     ]
    },
    {
     "name": "stdout",
     "output_type": "stream",
     "text": [
      "|What the hell happened?                  | Engine room, what happened?    | Nothing.                      |\n",
      "|...Not enough food?                      | Negatory. uToo many antsu. And | I don't like it. I'll figure t|\n",
      "|Zira doesn't want your female.           | I want her.                    | Max, I don't think he's bukiev|\n"
     ]
    },
    {
     "name": "stderr",
     "output_type": "stream",
     "text": [
      " 94%|█████████▍| 1300/1386 [1:00:06<03:56,  2.76s/it, 10: 1.193]"
     ]
    },
    {
     "name": "stdout",
     "output_type": "stream",
     "text": [
      "|Coffey, we're a little pressed for time. | Monk, Schoenick... secure the  | You won't believe that?       |\n",
      "|Where can we talk?                       | Right here.                    | Where is that?                |\n",
      "|The pepper, too?                         | No, thank you.                 | Yes.                          |\n"
     ]
    },
    {
     "name": "stderr",
     "output_type": "stream",
     "text": [
      "100%|██████████| 1386/1386 [1:04:03<00:00,  2.75s/it, 10: 1.198]\n",
      "  0%|          | 0/1386 [00:00<?, ?it/s]"
     ]
    },
    {
     "name": "stdout",
     "output_type": "stream",
     "text": [
      "|Are uyouu all right Ethan. What's wrong  | If you're gonna do this again  | I don't understand.           |\n",
      "|He has?.. What's he doing here?          | He was waiting for you, Sir. W | He's married, right?          |\n",
      "|What are you doing?                      | I missed you.                  | Come on, I'm gonna be right fo|\n"
     ]
    },
    {
     "name": "stderr",
     "output_type": "stream",
     "text": [
      "  7%|▋         | 100/1386 [04:37<59:19,  2.77s/it, 11: 1.172] "
     ]
    },
    {
     "name": "stdout",
     "output_type": "stream",
     "text": [
      "|Any cannon?                              | There are none here.           | You can do anything else to ch|\n",
      "|After all your posturing, all your speec | I'm an exceptional thief, Mrs. | What do you want?             |\n",
      "|We won't let them.                       | No? How's an old man and a cop | Why not?                      |\n"
     ]
    },
    {
     "name": "stderr",
     "output_type": "stream",
     "text": [
      " 14%|█▍        | 200/1386 [09:15<54:43,  2.77s/it, 11: 1.177]  "
     ]
    },
    {
     "name": "stdout",
     "output_type": "stream",
     "text": [
      "|So what should we do?                    | Wait... I just want to see wha | I don't know...               |\n",
      "|                                         |                                | You couldn't kill him. Where m|\n",
      "|Give what up?                            | Why do people have to love peo | Of course.                    |\n"
     ]
    },
    {
     "name": "stderr",
     "output_type": "stream",
     "text": [
      " 22%|██▏       | 300/1386 [13:52<50:05,  2.77s/it, 11: 1.180]"
     ]
    },
    {
     "name": "stdout",
     "output_type": "stream",
     "text": [
      "|Go away.                                 | Give me the bat.               | I'm going to have the other on|\n",
      "|We're on fire!                           | Don't let up, Childs!          | What are you talling 'em?     |\n",
      "|My folks are.                            | Stay here.                     | Forget your parents? Try a pae|\n"
     ]
    },
    {
     "name": "stderr",
     "output_type": "stream",
     "text": [
      " 29%|██▉       | 400/1386 [18:30<45:29,  2.77s/it, 11: 1.179]"
     ]
    },
    {
     "name": "stdout",
     "output_type": "stream",
     "text": [
      "|Congratulations on the Curtis Fox case,  | Thank you, sir.                | I don't know...               |\n",
      "|Oh yeah. Did you take care of later on?  | All set.                       | Yes.                          |\n",
      "|What are you afraid of?                  | I'm not afraid of anything.    | A tour car before you were sup|\n"
     ]
    },
    {
     "name": "stderr",
     "output_type": "stream",
     "text": [
      " 36%|███▌      | 500/1386 [23:07<40:51,  2.77s/it, 11: 1.183]"
     ]
    },
    {
     "name": "stdout",
     "output_type": "stream",
     "text": [
      "|Some say that Hessians are invincible.   | They always say that.          | Where with her?               |\n",
      "|I call this the Rogue's gallery.         | Yes. I can see: You've hung th | What do you mean?             |\n",
      "|But -                                    | I don't want to kiss you here. | Yeah, but what are you doing? |\n"
     ]
    },
    {
     "name": "stderr",
     "output_type": "stream",
     "text": [
      " 43%|████▎     | 600/1386 [27:44<36:15,  2.77s/it, 11: 1.187]"
     ]
    },
    {
     "name": "stdout",
     "output_type": "stream",
     "text": [
      "|That's him. Let him in.                  | Wait a minute-Jim-you didn't a | I heard. That's not the can be|\n",
      "|Anthing botherin' you besides losin' you | Yeah. It bothers me when cops  | Yeah.                         |\n",
      "|Uh... I'm shipping out sooner than I tho | Uh... actually, picking apples | Not at all, okay? I don't...  |\n"
     ]
    },
    {
     "name": "stderr",
     "output_type": "stream",
     "text": [
      " 51%|█████     | 700/1386 [32:22<31:38,  2.77s/it, 11: 1.184]"
     ]
    },
    {
     "name": "stdout",
     "output_type": "stream",
     "text": [
      "|He was here, earlier tonight, and he may | I keep thinking I should call  | What did he say?              |\n",
      "|Like what? Be a rock star?               | Don't mock me.                 | What about me?                |\n",
      "|Right here. Let the others go - they hav | Joey - do it.                  | I don't want to be important. |\n"
     ]
    },
    {
     "name": "stderr",
     "output_type": "stream",
     "text": [
      " 58%|█████▊    | 800/1386 [36:59<27:02,  2.77s/it, 11: 1.191]"
     ]
    },
    {
     "name": "stdout",
     "output_type": "stream",
     "text": [
      "|So, you finally got a job Morgan?        | Had one, now I'm fucked again. | I don't.                      |\n",
      "|Why didn't anybody tell me?!             | I don't set policy. You have t | Because I told SOMING! I got b|\n",
      "|Maybe not...but maybe it does. If no one | Like what?                     | Don't tell me what I mean.    |\n"
     ]
    },
    {
     "name": "stderr",
     "output_type": "stream",
     "text": [
      " 65%|██████▍   | 900/1386 [41:37<22:25,  2.77s/it, 11: 1.191]"
     ]
    },
    {
     "name": "stdout",
     "output_type": "stream",
     "text": [
      "|Okay, so maybe I'm a nun - so, you want  | What about crack? You a user?  | Of course.                    |\n",
      "|Better this month than last?             | Yes.                           | I think so.                   |\n",
      "|Where am I?                              | My abode... My domicile... My  | I don't know. You just don't e|\n"
     ]
    },
    {
     "name": "stderr",
     "output_type": "stream",
     "text": [
      " 72%|███████▏  | 1000/1386 [46:14<17:48,  2.77s/it, 11: 1.189]"
     ]
    },
    {
     "name": "stdout",
     "output_type": "stream",
     "text": [
      "|Yeah.                                    | We also provide 24-hour after- | I mean, you really asked the p|\n",
      "|Why in God's name wasn't this thing remo | It was on my Dad's list of \"th | What am I gonna do?           |\n",
      "|I'm getting rid of the fucking animals.  | What?                          | I'm not important to be.      |\n"
     ]
    },
    {
     "name": "stderr",
     "output_type": "stream",
     "text": [
      " 79%|███████▉  | 1100/1386 [50:51<13:11,  2.77s/it, 11: 1.185]"
     ]
    },
    {
     "name": "stdout",
     "output_type": "stream",
     "text": [
      "|And the funny thing is. Mr. Malkovich, m | I've never been looked at like | They don't need to trust me.  |\n",
      "|What do you mean, \"what?\"                | What are you snickering about? | Do I look like you're going?  |\n",
      "|I used to fight with my family all the t | Now you and David...           | How about you?                |\n"
     ]
    },
    {
     "name": "stderr",
     "output_type": "stream",
     "text": [
      "          ███▋ | 1200/1386 [55:28<08:34,  2.77s/it, 11: 1.191]"
     ]
    },
    {
     "name": "stdout",
     "output_type": "stream",
     "text": [
      "|It's gonna be hard for me to get away wi | Even more reason to see him. H | It's not just fine.           |\n",
      "|Yes, Mr. Poe? So?                        | It was a war party. It means t | I'm caught. I'm going to final|\n",
      "|Found? I'm not some charity case.        | I know...                      | Thank you.                    |\n"
     ]
    },
    {
     "name": "stderr",
     "output_type": "stream",
     "text": [
      " 94%|█████████▍| 1300/1386 [1:00:05<03:56,  2.75s/it, 11: 1.191]"
     ]
    },
    {
     "name": "stdout",
     "output_type": "stream",
     "text": [
      "|Good things...                           | What are you sure about?       | We'll never take a first name.|\n",
      "|Absolutely not. No more than seven perce | In other words, seven times ou | Are you?                      |\n",
      "|You going to warn him?                   | I can't promise you anything.  | Yeah.                         |\n"
     ]
    },
    {
     "name": "stderr",
     "output_type": "stream",
     "text": [
      "100%|██████████| 1386/1386 [1:04:02<00:00,  2.75s/it, 11: 1.189]\n",
      "  0%|          | 0/1386 [00:00<?, ?it/s]"
     ]
    },
    {
     "name": "stdout",
     "output_type": "stream",
     "text": [
      "|- and take this with you.                | Where did this come from?      | Well, when was that?          |\n",
      "|These formations. They're dried -        | Birdshit?                      | Then what does they?          |\n",
      "|'Code Blue,' what does that mean...?     | It's a common medical expressi | I don't know how that would be|\n"
     ]
    },
    {
     "name": "stderr",
     "output_type": "stream",
     "text": [
      "  7%|▋         | 100/1386 [04:37<59:19,  2.77s/it, 12: 1.165] "
     ]
    },
    {
     "name": "stdout",
     "output_type": "stream",
     "text": [
      "|Oh, hi, Duane, how's it goin'?           | This is my room.               | I don't know anythin.         |\n",
      "|Seventy-five hundred.                    | Not interested.                | I'll tell you what?           |\n",
      "|You know so much about me - figure it ou | So that's it - You think I was | What do you mean?             |\n"
     ]
    },
    {
     "name": "stderr",
     "output_type": "stream",
     "text": [
      " 14%|█▍        | 200/1386 [09:15<54:42,  2.77s/it, 12: 1.172]  "
     ]
    },
    {
     "name": "stdout",
     "output_type": "stream",
     "text": [
      "|Okay. come on in. Looks like you had a b | Yeah.                          | I'll help you.                |\n",
      "|What is he planning on telling them?     | Well, you know, he's going to  | I don't know.                 |\n",
      "|Everything happens once if you live long | It doesn't make sense to x-ray | That's what I do.             |\n"
     ]
    },
    {
     "name": "stderr",
     "output_type": "stream",
     "text": [
      "               | 300/1386 [13:52<50:07,  2.77s/it, 12: 1.170]"
     ]
    },
    {
     "name": "stdout",
     "output_type": "stream",
     "text": [
      "|But those notations stop...Four-and-one- | We, we were rather busy...     | I haven't done that...        |\n",
      "|What do you want?                        | We are to meet Mr. Rutagunda.  | I want to know what you gone. |\n",
      "|Maybe not. But think about the sex. As f | ..and as lonely as I am...     | What are you talking?         |\n"
     ]
    },
    {
     "name": "stderr",
     "output_type": "stream",
     "text": [
      " 29%|██▉       | 400/1386 [18:30<45:30,  2.77s/it, 12: 1.179]"
     ]
    },
    {
     "name": "stdout",
     "output_type": "stream",
     "text": [
      "|Just do it.                              | What are you going to do?      | I see what happens. I want to |\n",
      "|And the third one?                       | You're the only one left alive | Bullshit.                     |\n",
      "|Really?                                  | Yeah. I'd invite you inside, e | I want you to kiss you.       |\n"
     ]
    },
    {
     "name": "stderr",
     "output_type": "stream",
     "text": [
      " 36%|███▌      | 500/1386 [23:07<40:54,  2.77s/it, 12: 1.175]"
     ]
    },
    {
     "name": "stdout",
     "output_type": "stream",
     "text": [
      "|There was a Count. Count Dusan. He would | You're very macabre.           | I don't have any kid...       |\n",
      "|No, Johnnie. No goddamned phones. Not no | Pop?                           | Really, that's it like that.  |\n",
      "|- Mr. Taransky, Mr. Taransky... thank Go | - Please, get away from me.    | - no, thank you.              |\n"
     ]
    },
    {
     "name": "stderr",
     "output_type": "stream",
     "text": [
      " 43%|████▎     | 600/1386 [27:45<36:15,  2.77s/it, 12: 1.176]"
     ]
    },
    {
     "name": "stdout",
     "output_type": "stream",
     "text": [
      "|I mean, do you need to have surgery on i | Are you taking them still?     | That's right. I know that this|\n",
      "|Aye sir -                                | Establish a parking orbit arou | That's right.                 |\n",
      "|Precisely.                               | What did Albania ever do to us | Well, that's why knows you. Ar|\n"
     ]
    },
    {
     "name": "stderr",
     "output_type": "stream",
     "text": [
      " 51%|█████     | 700/1386 [32:23<31:39,  2.77s/it, 12: 1.180]"
     ]
    },
    {
     "name": "stdout",
     "output_type": "stream",
     "text": [
      "|I suppose you're going to print them?    | No - give you another guess.   | Yes.                          |\n",
      "|Feeling lucky?                           | Not particularly, no.          | Yes.                          |\n",
      "|Naturally, Dave, I'm not pleased that th | I'm sorry about the misunderst | Why are you going to do for a |\n"
     ]
    },
    {
     "name": "stderr",
     "output_type": "stream",
     "text": [
      " 58%|█████▊    | 800/1386 [37:00<27:02,  2.77s/it, 12: 1.177]"
     ]
    },
    {
     "name": "stdout",
     "output_type": "stream",
     "text": [
      "|It must be a deep secret, cause I don't  | Your handwriting - nothing mor | Then you want to kill my wife.|\n",
      "|Armed robber.                            | Oh, great.                     | That's a point.               |\n",
      "|Nobody ever said it.                     | Really?                        | No, I saw him before.         |\n"
     ]
    },
    {
     "name": "stderr",
     "output_type": "stream",
     "text": [
      " 65%|██████▍   | 900/1386 [41:38<22:25,  2.77s/it, 12: 1.179]"
     ]
    },
    {
     "name": "stdout",
     "output_type": "stream",
     "text": [
      "|It's all the goddamned money, Ed Tom. Th | Yes.                           | Me neither.                   |\n",
      "|No.                                      | Why not?                       | I wouldn't find somebody else |\n",
      "|If you're home it means either Jack and  | - we got a back channel commun | Jesus, you better get in my hu|\n"
     ]
    },
    {
     "name": "stderr",
     "output_type": "stream",
     "text": [
      " 72%|███████▏  | 1000/1386 [46:16<17:48,  2.77s/it, 12: 1.185]"
     ]
    },
    {
     "name": "stdout",
     "output_type": "stream",
     "text": [
      "|Why? What's wrong?                       | Dave, I find your story simply | Nothing.                      |\n",
      "|And you, and you friend Doyle - Did you  | Not a word. He was going to ch | I didn't want them until I cou|\n",
      "|Did you tell Sandy?                      | Tell Sandy? What?              | Yes, sir.                     |\n"
     ]
    },
    {
     "name": "stderr",
     "output_type": "stream",
     "text": [
      " 79%|███████▉  | 1100/1386 [50:53<13:11,  2.77s/it, 12: 1.180]"
     ]
    },
    {
     "name": "stdout",
     "output_type": "stream",
     "text": [
      "|You did? That's funny. So did we.        | Yes?                           | Sounds like that.             |\n",
      "|Nobody's that unhappy.                   | Maybe I want to die. Don't you | How's that?                   |\n",
      "|He finished it. He wrote the worst notic | I guess Mr. Kane didn't think  | That's ten minutes.           |\n"
     ]
    },
    {
     "name": "stderr",
     "output_type": "stream",
     "text": [
      " 87%|████████▋ | 1200/1386 [55:31<08:34,  2.77s/it, 12: 1.184]"
     ]
    },
    {
     "name": "stdout",
     "output_type": "stream",
     "text": [
      "|He doesn't like to say much does he?     | Right first time.              | I believe I never know.       |\n",
      "|Every time the media get a look at him,  | I thought you liked being on T | But it's okay.                |\n",
      "|Who do you think is behind it?           | Well, you have CIA people all  | I don't know...               |\n"
     ]
    },
    {
     "name": "stderr",
     "output_type": "stream",
     "text": [
      " 94%|█████████▍| 1300/1386 [1:00:08<03:56,  2.76s/it, 12: 1.181]"
     ]
    },
    {
     "name": "stdout",
     "output_type": "stream",
     "text": [
      "|Hmm. To protect you both from the Empero | Leia! Leia's my sister.        | What do you want?             |\n",
      "|I don't trust anybody. You see how bad t | It's just insurance.           | You know where it is.         |\n",
      "|You'll catch a chill by that dumb waiter | 168 CONTINUED:                 | Can we probably know him?     |\n"
     ]
    },
    {
     "name": "stderr",
     "output_type": "stream",
     "text": [
      "100%|██████████| 1386/1386 [1:04:05<00:00,  2.75s/it, 12: 1.186]\n",
      "  0%|          | 0/1386 [00:00<?, ?it/s]"
     ]
    },
    {
     "name": "stdout",
     "output_type": "stream",
     "text": [
      "|But how - how long-?                     | How long will I live? That no  | Well here you could live-     |\n",
      "|It's on the table.                       | No, it's not.                  | What would I appreciate it?   |\n",
      "|We've got it up here! It's trapped! Get  | Where are you?                 | Whatever you want.            |\n"
     ]
    },
    {
     "name": "stderr",
     "output_type": "stream",
     "text": [
      "  7%|▋         | 100/1386 [04:37<59:19,  2.77s/it, 13: 1.159] "
     ]
    },
    {
     "name": "stdout",
     "output_type": "stream",
     "text": [
      "|WAIT A MINUTE!                           | Maybe in a day or so when I'm  | I haven't met I love you.     |\n",
      "|Reilly, Vice. I-                         | Quiet!                         | I don't know what they feel...|\n",
      "|Oh yeah.                                 | I'm serious. Aside from the ch | What do you do.               |\n"
     ]
    },
    {
     "name": "stderr",
     "output_type": "stream",
     "text": [
      " 14%|█▍        | 200/1386 [09:15<54:42,  2.77s/it, 13: 1.163]  "
     ]
    },
    {
     "name": "stdout",
     "output_type": "stream",
     "text": [
      "|No.                                      | Well, I'm not sure that was. C | Who knows?                    |\n",
      "|I don't see what difference it makes, I  | At some level, I don't underst | Is that what you eat in three?|\n",
      "|I thought you say Tuesday.               | Better late than never.        | I know I'm fine.              |\n"
     ]
    },
    {
     "name": "stderr",
     "output_type": "stream",
     "text": [
      " 22%|██▏       | 300/1386 [13:53<50:06,  2.77s/it, 13: 1.168]"
     ]
    },
    {
     "name": "stdout",
     "output_type": "stream",
     "text": [
      "|Good! How is the patient?                | He's doing very well. In fact  | About that. Bullshit than the |\n",
      "|But I got a feeling you're gonna coopera | C-connection?                  | All right.                    |\n",
      "|No. I haven't.                           | What's wrong, Scully?          | But there was able to tell you|\n"
     ]
    },
    {
     "name": "stderr",
     "output_type": "stream",
     "text": [
      " 29%|██▉       | 400/1386 [18:30<45:29,  2.77s/it, 13: 1.170]"
     ]
    },
    {
     "name": "stdout",
     "output_type": "stream",
     "text": [
      "|Maybe... I don't know, if you want to ta | Naw, it's... This guy wants hi | - Dear Diveren. Yesterday nons|\n",
      "|Toby! Toby Tyler, leave him alone!       | You stay away, Jenny. I aim to | You know easy, baby, won't you|\n",
      "|You're a comedian?                       | Yeah. And an actor.            | No... I remember.             |\n"
     ]
    },
    {
     "name": "stderr",
     "output_type": "stream",
     "text": [
      " 36%|███▌      | 500/1386 [23:07<40:51,  2.77s/it, 13: 1.172]"
     ]
    },
    {
     "name": "stdout",
     "output_type": "stream",
     "text": [
      "|AND YOU CAME UP WITH THAT?               | The Stay-Puft Marshmallow Man! | You wouldn't go to writers?   |\n",
      "|All that marvelous rejection - you knew  | That's right.                  | You better get outta this. -  |\n",
      "|There's a possibility I won't be around  | I've considered that.          | What do you think?            |\n"
     ]
    },
    {
     "name": "stderr",
     "output_type": "stream",
     "text": [
      " 43%|████▎     | 600/1386 [27:45<36:16,  2.77s/it, 13: 1.171]"
     ]
    },
    {
     "name": "stdout",
     "output_type": "stream",
     "text": [
      "|What is it?                              | The wound is bleeding!         | It wasn't borrowing me.       |\n",
      "|How about me? Do you think if I concentr | You sir? Uh-uh. You could neve | What do you mean?             |\n",
      "|- Then you don't wish to call any witnes | I would like to put Shu's alle | Good luck! There's something w|\n"
     ]
    },
    {
     "name": "stderr",
     "output_type": "stream",
     "text": [
      " 51%|█████     | 700/1386 [32:22<31:38,  2.77s/it, 13: 1.170]"
     ]
    },
    {
     "name": "stdout",
     "output_type": "stream",
     "text": [
      "|A pet idea-you know-pension bill- save t | Well-I have got one idea-      | Yes.                          |\n",
      "|That's word for word.                    | Is it? I've forgotten.         | I've come here with coming.   |\n",
      "|Go get me a beer.                        | I thought you were gonna get o | Are you alright?              |\n"
     ]
    },
    {
     "name": "stderr",
     "output_type": "stream",
     "text": [
      " 58%|█████▊    | 800/1386 [37:00<27:02,  2.77s/it, 13: 1.169]"
     ]
    },
    {
     "name": "stdout",
     "output_type": "stream",
     "text": [
      "|Ow?...                                   | It'l be alright.               | Yes, sir.                     |\n",
      "|This spring.                             | Good. It would help if there w | That's this one. I've never pu|\n",
      "|It never was supposed to he! Why isn't i | It's just not.                 | I don't understand.           |\n"
     ]
    },
    {
     "name": "stderr",
     "output_type": "stream",
     "text": [
      " 65%|██████▍   | 900/1386 [41:37<22:25,  2.77s/it, 13: 1.173]"
     ]
    },
    {
     "name": "stdout",
     "output_type": "stream",
     "text": [
      "|You should have someone look after you.  | I'm all right. I just need to  | Weat is your name?            |\n",
      "|What?                                    | Listen, he's my brother and I  | What do you say about this?   |\n",
      "|Nothing particular the matter with him,  | Just old age. It's the only di | Of course. But you got, that's|\n"
     ]
    },
    {
     "name": "stderr",
     "output_type": "stream",
     "text": [
      " 72%|███████▏  | 1000/1386 [46:14<17:48,  2.77s/it, 13: 1.175]"
     ]
    },
    {
     "name": "stdout",
     "output_type": "stream",
     "text": [
      "|Well, time will tell, won't it?          | Yes, darlin', time will tell.  | Yes.                          |\n",
      "|But putting that aside for now, would yo | I really didn't get a good loo | Yes.                          |\n",
      "|Yeah.                                    | You are his friend.            | Yeah.                         |\n"
     ]
    },
    {
     "name": "stderr",
     "output_type": "stream",
     "text": [
      " 79%|███████▉  | 1100/1386 [50:52<13:11,  2.77s/it, 13: 1.176]"
     ]
    },
    {
     "name": "stdout",
     "output_type": "stream",
     "text": [
      "|You think? Split?                        | Utterly. Let's bail this town. | I don't know.                 |\n",
      "|Not for strangers; for my country.       | Anyone not in your family, is  | I think you wanted him anythin|\n",
      "|Your doctor? Did your doctor say anythin | No -                           | I don't know if I want to star|\n"
     ]
    },
    {
     "name": "stderr",
     "output_type": "stream",
     "text": [
      " 87%|████████▋ | 1200/1386 [55:30<08:34,  2.77s/it, 13: 1.179]"
     ]
    },
    {
     "name": "stdout",
     "output_type": "stream",
     "text": [
      "|I'm serious.                             | Shut up. Look!                 | Really?                       |\n",
      "|I can't eat, just get me some coffee.    | He was jumpy. He hadn't touche | You know I wanted to see you w|\n",
      "|One hunnert's the best we can do here.   | Oh, for Christ's sake, where's | I'ma, I could talk to you.    |\n"
     ]
    },
    {
     "name": "stderr",
     "output_type": "stream",
     "text": [
      " 94%|█████████▍| 1300/1386 [1:00:06<03:56,  2.75s/it, 13: 1.176]"
     ]
    },
    {
     "name": "stdout",
     "output_type": "stream",
     "text": [
      "|I want to stop aging.                    | And I want Doucet.             | When are you talking me to see|\n",
      "|So why won't you make love with me? Why  | Ann. Are you asking me hypothe | Because the child. You will wo|\n",
      "|Behind my house, up on the ridge.        | If we go and look and there's  | What does that mean?          |\n"
     ]
    },
    {
     "name": "stderr",
     "output_type": "stream",
     "text": [
      "100%|██████████| 1386/1386 [1:04:03<00:00,  2.75s/it, 13: 1.178]\n",
      "  0%|          | 0/1386 [00:00<?, ?it/s]"
     ]
    },
    {
     "name": "stdout",
     "output_type": "stream",
     "text": [
      "|Is it Cartman's mom?                     | Very funny!                    | Yes.                          |\n",
      "|Mr. Travers is not the athletic type, he | The only faster way up is the  | Uhh... what are you talking ab|\n",
      "|Where?                                   | Government. Recently retired.  | Where do you think we think?  |\n"
     ]
    },
    {
     "name": "stderr",
     "output_type": "stream",
     "text": [
      "  7%|▋         | 100/1386 [04:37<59:19,  2.77s/it, 14: 1.154] "
     ]
    },
    {
     "name": "stdout",
     "output_type": "stream",
     "text": [
      "|What's it about?                         | It's really not about anything | It's a couple of days...      |\n",
      "|Dad-?                                    | \"Hey, Delmore, where's your Da | Shut up.                      |\n",
      "|About 60 feet, Admiral.                  | That should be enough. Can you | What do you mean about that?  |\n"
     ]
    },
    {
     "name": "stderr",
     "output_type": "stream",
     "text": [
      " 14%|█▍        | 200/1386 [09:15<54:42,  2.77s/it, 14: 1.157]  "
     ]
    },
    {
     "name": "stdout",
     "output_type": "stream",
     "text": [
      "|No, no, no... I love my husband.         | Oh, sure. I can just feature y | Thank you.                    |\n",
      "|By 7:46, when the tide turns around, we' | Shut up.                       | What about your parents?      |\n",
      "|Do me a favor - His lungs, punch 'em out | Paul.                          | He's all right.               |\n"
     ]
    },
    {
     "name": "stderr",
     "output_type": "stream",
     "text": [
      " 22%|██▏       | 300/1386 [13:52<50:05,  2.77s/it, 14: 1.162]"
     ]
    },
    {
     "name": "stdout",
     "output_type": "stream",
     "text": [
      "|We're not going to make it.              | Not even close. Hell, we can't | What?                         |\n",
      "|Floor probably leaks. This area is full  | A short somewhere.             | Why not?                      |\n",
      "|He left us. We were no longer of use. SA | Marooned on Ceti Alpha V. He's | I want to take cranching all t|\n"
     ]
    },
    {
     "name": "stderr",
     "output_type": "stream",
     "text": [
      " 29%|██▉       | 400/1386 [18:30<45:28,  2.77s/it, 14: 1.162]"
     ]
    },
    {
     "name": "stdout",
     "output_type": "stream",
     "text": [
      "|For money.                               | For money for what?            | How many money?               |\n",
      "|Blake?                                   | The poet...something he said.. | No, thank you, sir.           |\n",
      "|Okay, shitbag. Im only going to ask you  | Who? I dont know who the fuck  | You're starting down-it couldn|\n"
     ]
    },
    {
     "name": "stderr",
     "output_type": "stream",
     "text": [
      " 36%|███▌      | 500/1386 [23:07<40:52,  2.77s/it, 14: 1.160]"
     ]
    },
    {
     "name": "stdout",
     "output_type": "stream",
     "text": [
      "|This isn't the time or the place to get  | I don't know what you're refer | It's too much as a true.      |\n",
      "|So, you finally got a job Morgan?        | Had one, now I'm fucked again. | Yeah.                         |\n",
      "|This is single-wall construction! It's j | It'll hold!                    | Baby! You don't blame yourself|\n"
     ]
    },
    {
     "name": "stderr",
     "output_type": "stream",
     "text": [
      " 43%|████▎     | 600/1386 [27:45<36:15,  2.77s/it, 14: 1.167]"
     ]
    },
    {
     "name": "stdout",
     "output_type": "stream",
     "text": [
      "|Joanne?                                  | You know her?                  | Yeah.                         |\n",
      "|There's one - there's the other, and we' | So is the town, I notice!      | They wanted to show you someth|\n",
      "|What's that?                             | I want you to hit me as hard a | That's time.                  |\n"
     ]
    },
    {
     "name": "stderr",
     "output_type": "stream",
     "text": [
      " 51%|█████     | 700/1386 [32:22<31:38,  2.77s/it, 14: 1.166]"
     ]
    },
    {
     "name": "stdout",
     "output_type": "stream",
     "text": [
      "|What?                                    | I wouldn't take no cheap shots | He is starting to get investig|\n",
      "|I won't.                                 | Hildy, how'd you like a couple | What is it?                   |\n",
      "|I can't believe you just rolled a joint  | Hey, man, what happened with t | I thought he didn't want to ho|\n"
     ]
    },
    {
     "name": "stderr",
     "output_type": "stream",
     "text": [
      " 58%|█████▊    | 800/1386 [36:59<27:02,  2.77s/it, 14: 1.167]"
     ]
    },
    {
     "name": "stdout",
     "output_type": "stream",
     "text": [
      "|Me neither. Nothing too exciting. So tel | I need to see you, Jake.       | Nothing, don't you perfectly e|\n",
      "|Shit! Why are we getting up?             | Unlike you, I have a class in  | Because you're going to meet y|\n",
      "|I don't?                                 | Correct me if I'm wrong, but I | I need you to fall down.      |\n"
     ]
    },
    {
     "name": "stderr",
     "output_type": "stream",
     "text": [
      " 65%|██████▍   | 900/1386 [41:37<22:25,  2.77s/it, 14: 1.168]"
     ]
    },
    {
     "name": "stdout",
     "output_type": "stream",
     "text": [
      "|...Anything else?                        | Yeah, don't come by here any m | Yeah.                         |\n",
      "|What know you of fields of war?          | Ofttimes, the wee folk come ou | Well, what're you doing? I car|\n",
      "|We need more bread and some baked lasa-  | I know. You're an actress with | What?                         |\n"
     ]
    },
    {
     "name": "stderr",
     "output_type": "stream",
     "text": [
      " 72%|███████▏  | 1000/1386 [46:14<17:48,  2.77s/it, 14: 1.169]"
     ]
    },
    {
     "name": "stdout",
     "output_type": "stream",
     "text": [
      "|Where would we find it?                  | I'm not sure. We should split  | I don't know. I soon do back o|\n",
      "|Wyatt, meet Fred White, he's town marsha | Lotta law around here. Just me | What do you mean?             |\n",
      "|What are you, hiding from the Police? Sh | Great.                         | I'm not sure.                 |\n"
     ]
    },
    {
     "name": "stderr",
     "output_type": "stream",
     "text": [
      " 79%|███████▉  | 1100/1386 [50:52<13:11,  2.77s/it, 14: 1.165]"
     ]
    },
    {
     "name": "stdout",
     "output_type": "stream",
     "text": [
      "|Thanks a lot, Craig.                     | I know we cousins and all, but | Don't be plenty of this.      |\n",
      "|Good. I want to talk to you.             | That's jolly.                  | I don't think so.             |\n",
      "|Yeah, except fall down. That's right.    | All right, you don't wanna fal | What was that?                |\n"
     ]
    },
    {
     "name": "stderr",
     "output_type": "stream",
     "text": [
      " 87%|████████▋ | 1200/1386 [55:29<08:34,  2.77s/it, 14: 1.172]"
     ]
    },
    {
     "name": "stdout",
     "output_type": "stream",
     "text": [
      "|How are you doing, Warren?               | Good, Ted. Piggy back ride?    | Okay.                         |\n",
      "|Why did you do that?!                    | I didn't do anything, Francis! | Investing I understand.       |\n",
      "|Sure do... that's why we didn't bet with | Oh, that's mah darlin' Luke. G | You said that mysterious best.|\n"
     ]
    },
    {
     "name": "stderr",
     "output_type": "stream",
     "text": [
      " 94%|█████████▍| 1300/1386 [1:00:06<03:56,  2.75s/it, 14: 1.170]"
     ]
    },
    {
     "name": "stdout",
     "output_type": "stream",
     "text": [
      "|Jeanne - be careful - you're not helping | And you be careful, you who cl | I'm not married.              |\n",
      "|What does Sidney say?                    | I'm with you, Brother Minister | Something say you don't waste |\n",
      "|You're fucked.                           | You know who I am? Toby N. Tyl | Yeah.                         |\n"
     ]
    },
    {
     "name": "stderr",
     "output_type": "stream",
     "text": [
      "100%|██████████| 1386/1386 [1:04:02<00:00,  2.75s/it, 14: 1.169]\n",
      "  0%|          | 0/1386 [00:00<?, ?it/s]"
     ]
    },
    {
     "name": "stdout",
     "output_type": "stream",
     "text": [
      "|This is the group I was telling you abou | Which one is your brother?     | What does it work?            |\n",
      "|Of course not. He wouldn't be.           | Who?                           | You don't know.               |\n",
      "|Are you trying to tell me after all this | Shh! Is that so hard to believ | That's right.                 |\n"
     ]
    },
    {
     "name": "stderr",
     "output_type": "stream",
     "text": [
      "  7%|▋         | 100/1386 [04:37<59:19,  2.77s/it, 15: 1.146] "
     ]
    },
    {
     "name": "stdout",
     "output_type": "stream",
     "text": [
      "|You're a piece of shit                   | I've known Susan for more than | You and me. You're going to th|\n",
      "|I was thinking I hope he doesn't get inj | Sometimes I can't tell at all, | How do you know that?         |\n",
      "|Would they hurt her?                     | I don't know.                  | No.                           |\n"
     ]
    },
    {
     "name": "stderr",
     "output_type": "stream",
     "text": [
      " 14%|█▍        | 200/1386 [09:15<54:42,  2.77s/it, 15: 1.150]  "
     ]
    },
    {
     "name": "stdout",
     "output_type": "stream",
     "text": [
      "|That's what he says. I got a man from he | Good. You've got nothing to wo | Then you knderstand?          |\n",
      "|You know the law - no liquor before noon | Don't you mean \"don't need no  | That's a New York. How about y|\n",
      "|Hope you don't mind keeping him company. | No problem.                    | No, I don't.                  |\n"
     ]
    },
    {
     "name": "stderr",
     "output_type": "stream",
     "text": [
      " 22%|██▏       | 300/1386 [13:52<50:06,  2.77s/it, 15: 1.151]"
     ]
    },
    {
     "name": "stdout",
     "output_type": "stream",
     "text": [
      "|...who...?                               | Well, I guess I'll...get down  | I'm gonna make my hands or you|\n",
      "|How the... did he get in there?          | Slipped in. Probably liked the | Yeah, the world wasn't suppose|\n",
      "|Tommy tells me that Capone's coming in f | He's trying to make it.        | What happened to me?          |\n"
     ]
    },
    {
     "name": "stderr",
     "output_type": "stream",
     "text": [
      " 29%|██▉       | 400/1386 [18:30<45:28,  2.77s/it, 15: 1.155]"
     ]
    },
    {
     "name": "stdout",
     "output_type": "stream",
     "text": [
      "|... I just don't know right now! Do what | It isn't right to make him suf | I don't know.                 |\n",
      "|I didn't know that you spoke French.     | I don't. But the language he's | What's that's like to do what?|\n",
      "|About me? How sweet.                     | Come on. Let me buy you someth | Sounds like leaving the guy.  |\n"
     ]
    },
    {
     "name": "stderr",
     "output_type": "stream",
     "text": [
      " 36%|███▌      | 500/1386 [23:07<40:52,  2.77s/it, 15: 1.154]"
     ]
    },
    {
     "name": "stdout",
     "output_type": "stream",
     "text": [
      "|It's...whatever...that's not cool.       | David, Don't. Just. Seriously. | What you won't...?            |\n",
      "|Ummm...                                  | If things remain as they are.. | What happened?                |\n",
      "|What are you going to do? - Charlie?     | Damn it, Neil, the name is Nuw | It's all over you. I was a lot|\n"
     ]
    },
    {
     "name": "stderr",
     "output_type": "stream",
     "text": [
      " 43%|████▎     | 600/1386 [27:44<36:15,  2.77s/it, 15: 1.156]"
     ]
    },
    {
     "name": "stdout",
     "output_type": "stream",
     "text": [
      "|-no way-                                 | -read 'em both and you'll see- | -I think that I can say to thi|\n",
      "|I don't think so.                        | Baby, did you hear her? \"You s | I don't know!                 |\n",
      "|Easy, Dude.                              | We're screwed now! We don't ge | Okay, think about ien.        |\n"
     ]
    },
    {
     "name": "stderr",
     "output_type": "stream",
     "text": [
      " 51%|█████     | 700/1386 [32:22<31:38,  2.77s/it, 15: 1.164]"
     ]
    },
    {
     "name": "stdout",
     "output_type": "stream",
     "text": [
      "|Okay, better question the next witness.  | Five minutes.                  | What's the matter?            |\n",
      "|Are you depressed about your daddy, hone | No.                            | No.                           |\n",
      "|Accident.                                | You should be more careful.    | We'll have to straighten calls|\n"
     ]
    },
    {
     "name": "stderr",
     "output_type": "stream",
     "text": [
      " 58%|█████▊    | 800/1386 [36:59<27:02,  2.77s/it, 15: 1.163]"
     ]
    },
    {
     "name": "stdout",
     "output_type": "stream",
     "text": [
      "|You don't know the half of it. I'm Walte | Not the Walter Wilder?         | Thanks.                       |\n",
      "|There are monsters...in the gelatin...   | Oh, man -                      | I don't know what's going on..|\n",
      "|I'm thinking about it.                   | Michael...                     | You will be upset. Sometimes I|\n"
     ]
    },
    {
     "name": "stderr",
     "output_type": "stream",
     "text": [
      " 65%|██████▍   | 900/1386 [41:36<22:25,  2.77s/it, 15: 1.166]"
     ]
    },
    {
     "name": "stdout",
     "output_type": "stream",
     "text": [
      "|He walks in the rain, without his hat, a | Sometimes he whistles.         | I don't believe you...        |\n",
      "|Before we do this.                       | We're doing something -?       | What do you want?             |\n",
      "|You fight it cut.                        | And up a dime.                 | This is about that.           |\n"
     ]
    },
    {
     "name": "stderr",
     "output_type": "stream",
     "text": [
      " 72%|███████▏  | 1000/1386 [46:14<17:48,  2.77s/it, 15: 1.165]"
     ]
    },
    {
     "name": "stdout",
     "output_type": "stream",
     "text": [
      "|When?                                    | Soon. One week.                | Did you hear the problems?    |\n",
      "|Someone who smokes French cigarettes.    | In this crowd? It's gonna be M | Of course you want.           |\n",
      "|Uh-huh.                                  | Cold lamb sandwiches - not as  | When doesn't it?              |\n"
     ]
    },
    {
     "name": "stderr",
     "output_type": "stream",
     "text": [
      " 79%|███████▉  | 1100/1386 [50:52<13:11,  2.77s/it, 15: 1.163]"
     ]
    },
    {
     "name": "stdout",
     "output_type": "stream",
     "text": [
      "|Don't get all worked up, Justin. I expec | We never should have done this | Do you think you can fire out?|\n",
      "|Oh, yes. It would probably kill him.     | He's a Windows guy then, huh?  | Who do you think?             |\n",
      "|It's not that easy. Worked construction  | You and Kathryn gonna stay her | You can't hear about it.      |\n"
     ]
    },
    {
     "name": "stderr",
     "output_type": "stream",
     "text": [
      " 87%|████████▋ | 1200/1386 [55:29<08:34,  2.77s/it, 15: 1.163]"
     ]
    },
    {
     "name": "stdout",
     "output_type": "stream",
     "text": [
      "|We're sorry to disturb you, we'd like to | Are you vice?                  | Stop it.                      |\n",
      "|It's a military hotel.                   | I'm so glad to have met you, s | That didn't want you to give m|\n",
      "|She is very hot.                         | And very nice. And very marrie | It's a little ideas, shit abou|\n"
     ]
    },
    {
     "name": "stderr",
     "output_type": "stream",
     "text": [
      " 94%|█████████▍| 1300/1386 [1:00:06<03:56,  2.75s/it, 15: 1.167]"
     ]
    },
    {
     "name": "stdout",
     "output_type": "stream",
     "text": [
      "|You drive away business roarin' in like  | Yeah, does kinda break the ele | Don't worry about me.         |\n",
      "|And if you don't give me a plane that ca | Fook ya!                       | Just stay with me.            |\n",
      "|I was watchin' you... seein' if you was  | Silky an' Faith, they rode off | I'm not sure.                 |\n"
     ]
    },
    {
     "name": "stderr",
     "output_type": "stream",
     "text": [
      "100%|██████████| 1386/1386 [1:04:02<00:00,  2.76s/it, 15: 1.165]\n",
      "  0%|          | 0/1386 [00:00<?, ?it/s]"
     ]
    },
    {
     "name": "stdout",
     "output_type": "stream",
     "text": [
      "|I've got a feelin' today.                | Reckon what kind of a feelin'? | What do you want to know?     |\n",
      "|They're not my parents, Helen. My parent | I understand.                  | It's the way I went today to f|\n",
      "|I'll be right back with Mrs. Wheeler.    | When?                          | Well, it's too late.          |\n"
     ]
    },
    {
     "name": "stderr",
     "output_type": "stream",
     "text": [
      "  7%|▋         | 100/1386 [04:38<59:19,  2.77s/it, 16: 1.138] "
     ]
    },
    {
     "name": "stdout",
     "output_type": "stream",
     "text": [
      "|The other plate is currently in New York | You trust me?                  | Yeah...because if he still wou|\n",
      "|Nothing. I just picked up the phone to s | Ok. Goodbye. Now get back to s | I didn't mean that.           |\n",
      "|The Captain would make a much more valua | We'll consider it a prisoner e | You remember.                 |\n"
     ]
    },
    {
     "name": "stderr",
     "output_type": "stream",
     "text": [
      " 14%|█▍        | 200/1386 [09:15<54:43,  2.77s/it, 16: 1.141]  "
     ]
    },
    {
     "name": "stdout",
     "output_type": "stream",
     "text": [
      "|Are you ucrazyu?                         | The man would need protection, | What did you think you're talk|\n",
      "|More than you know. Is there anything el | No, that should be more than - | I understood something.       |\n",
      "|Your mom's not around, is she?           | She and dad are out back light | That's not that it was...     |\n"
     ]
    },
    {
     "name": "stderr",
     "output_type": "stream",
     "text": [
      " 22%|██▏       | 300/1386 [13:52<50:05,  2.77s/it, 16: 1.148]"
     ]
    },
    {
     "name": "stdout",
     "output_type": "stream",
     "text": [
      "|Well, I wouldn't go so far as to call hi | What did he do to Arlene?      | What about?                   |\n",
      "|Do you always punch people first thing i | Sorry - it's a reflex. Living  | Yeah.                         |\n",
      "|Uncle Terrence.                          | Yes. I was able to decode the  | What's going to you?          |\n"
     ]
    },
    {
     "name": "stderr",
     "output_type": "stream",
     "text": [
      " 29%|██▉       | 400/1386 [18:30<45:29,  2.77s/it, 16: 1.152]"
     ]
    },
    {
     "name": "stdout",
     "output_type": "stream",
     "text": [
      "|I don't see any connection to Vietnam, W | Well, there isn't a literal co | Of course.                    |\n",
      "|You have to bring this up now? What? Did | I wasn't accusing you, Ben. It | I don't understand.           |\n",
      "|Flynn had access to you, too. I'm not in | Oh, I wish you'd forget about  | Is that something else?       |\n"
     ]
    },
    {
     "name": "stderr",
     "output_type": "stream",
     "text": [
      " 36%|███▌      | 500/1386 [23:07<40:52,  2.77s/it, 16: 1.152]"
     ]
    },
    {
     "name": "stdout",
     "output_type": "stream",
     "text": [
      "|Go left. Go left again till you hit the  | I think so. One right, two lef | But what about yourself?      |\n",
      "|Leave her out of this!                   | And then out of nowhere, some  | You really like this!         |\n",
      "|Don't overestimate yourself.             | Look, trust me. I know what I' | Yes, I wouldn't want to know w|\n"
     ]
    },
    {
     "name": "stderr",
     "output_type": "stream",
     "text": [
      " 43%|████▎     | 600/1386 [27:45<36:15,  2.77s/it, 16: 1.154]"
     ]
    },
    {
     "name": "stdout",
     "output_type": "stream",
     "text": [
      "|I didn't get more than a few miles befor | But what became of your lamb?  | It's also what you're trying t|\n",
      "|Coming to see me. Are you trying to.. hu | Nooo. I just thought... l mean | Of course. What else can I tel|\n",
      "|So, you have a wife and kid waiting for  | Good question.                 | Nothin' about me...           |\n"
     ]
    },
    {
     "name": "stderr",
     "output_type": "stream",
     "text": [
      " 51%|█████     | 700/1386 [32:22<31:38,  2.77s/it, 16: 1.157]"
     ]
    },
    {
     "name": "stdout",
     "output_type": "stream",
     "text": [
      "|You don't have a clue what you're into,  | Deep shit?                     | Yes I do.                     |\n",
      "|Deep down. Way down.                     | It's a mistake to think that.  | Wouldn't you say that?        |\n",
      "|I guess I owe you one.                   | You don't owe me anything. We' | Yeah, I'm sorry, I...         |\n"
     ]
    },
    {
     "name": "stderr",
     "output_type": "stream",
     "text": [
      " 58%|█████▊    | 800/1386 [37:00<27:02,  2.77s/it, 16: 1.158]"
     ]
    },
    {
     "name": "stdout",
     "output_type": "stream",
     "text": [
      "|That's a good one.                       | I'm serious, dude. You always  | I'm sorry.                    |\n",
      "|Yeah, well he just turned up in New Jers | I left my forgery kit back at  | All right...                  |\n",
      "|Not before I settle with you.            | Christ, I don't believe this.  | I got like this.              |\n"
     ]
    },
    {
     "name": "stderr",
     "output_type": "stream",
     "text": [
      " 65%|██████▍   | 900/1386 [41:37<22:25,  2.77s/it, 16: 1.157]"
     ]
    },
    {
     "name": "stdout",
     "output_type": "stream",
     "text": [
      "|Now I'm nice? Don't you know any other a | Well, anyway... Sorry.         | Okay.                         |\n",
      "|Get rid of them.                         | The Admiral?                   | Yes. They wanted.             |\n",
      "|I only wanted to know what she's like in | Hawkeye's asking the Major's o | All right. 'Cause we talked to|\n"
     ]
    },
    {
     "name": "stderr",
     "output_type": "stream",
     "text": [
      " 72%|███████▏  | 1000/1386 [46:15<17:48,  2.77s/it, 16: 1.159]"
     ]
    },
    {
     "name": "stdout",
     "output_type": "stream",
     "text": [
      "|No, sir.                                 | Let me see your weapon.        | Do you know that you've got th|\n",
      "|She really didn't do it for me, baby. Ho | I don't know. The whole Judy G | I'd like to hear that.        |\n",
      "|I think my Sarah fancies you, Conner.    | She's a treasure she is.       | I don't want to do what I'm ap|\n"
     ]
    },
    {
     "name": "stderr",
     "output_type": "stream",
     "text": [
      " 79%|███████▉  | 1100/1386 [50:52<13:11,  2.77s/it, 16: 1.156]"
     ]
    },
    {
     "name": "stdout",
     "output_type": "stream",
     "text": [
      "|Are those Mark's?                        | No, Mark wears boxers. They mu | No.                           |\n",
      "|I'll drop mama a postcard from somewhere | What do you mean by necessary? | Thank you.                    |\n",
      "|I am trying to tell you I have no person | You don't respect me terribly  | Does that mean you're super?  |\n"
     ]
    },
    {
     "name": "stderr",
     "output_type": "stream",
     "text": [
      " 87%|████████▋ | 1200/1386 [55:30<08:34,  2.77s/it, 16: 1.158]"
     ]
    },
    {
     "name": "stdout",
     "output_type": "stream",
     "text": [
      "|I was supposed to be home for her birthd | Your agent said she would tell | Don't worry about.            |\n",
      "|Please listen to me -                    | First things first. You can ha | I don't want to go here.      |\n",
      "|It's still not going to work! They'll de | Who said I'll re-enter in the  | I don't know-                 |\n"
     ]
    },
    {
     "name": "stderr",
     "output_type": "stream",
     "text": [
      " 94%|█████████▍| 1300/1386 [1:00:06<03:56,  2.75s/it, 16: 1.160]"
     ]
    },
    {
     "name": "stdout",
     "output_type": "stream",
     "text": [
      "|One minute. This is the beginning. We're | ... i... ann...iinn.. ff...nny | Are you sure?                 |\n",
      "|No, thank you, Doctor.                   | Well, then, what can I do for  | So you understand?            |\n",
      "|Except I'm no good at what I'm being a s | How are you at back rubs?      | What can I do something?      |\n"
     ]
    },
    {
     "name": "stderr",
     "output_type": "stream",
     "text": [
      "100%|██████████| 1386/1386 [1:04:03<00:00,  2.75s/it, 16: 1.159]\n",
      "  0%|          | 0/1386 [00:00<?, ?it/s]"
     ]
    },
    {
     "name": "stdout",
     "output_type": "stream",
     "text": [
      "|What does arresting us get them?         | You wanna tell him?            | What do you want?             |\n",
      "|Had you talked to him much lately?       | Just once. 'Guess I was worrie | No, I'm not just not altoo not|\n",
      "|Julius Caesar: \"Brutus and Cassius, they | This is Louisiana, chief. How  | How do you say a little?      |\n"
     ]
    },
    {
     "name": "stderr",
     "output_type": "stream",
     "text": [
      "  7%|▋         | 100/1386 [04:38<59:19,  2.77s/it, 17: 1.135] "
     ]
    },
    {
     "name": "stdout",
     "output_type": "stream",
     "text": [
      "|Fine. I won't say anything. You can marr | Thank you, Jonah. But the poin | Are you doing yourself?       |\n",
      "|I'll be done in a minute. You misspoke b | There is no BaerGrant Publishi | That's right.                 |\n",
      "|Oh, me too. Middle-class.                | Maybe upper-middle-class.      | No, sir. I don't know.        |\n"
     ]
    },
    {
     "name": "stderr",
     "output_type": "stream",
     "text": [
      " 14%|█▍        | 200/1386 [09:15<54:42,  2.77s/it, 17: 1.138]  "
     ]
    },
    {
     "name": "stdout",
     "output_type": "stream",
     "text": [
      "|As long as you don't mind the smell of f | It's a fetish of mine.         | Get me out and not discuss tha|\n",
      "|Remembers what?                          | The blood transfusion.         | Who are you taking my water?  |\n",
      "|You know what I'm talking about.         | No, baby. Now look, that girl  | What about the car?           |\n"
     ]
    },
    {
     "name": "stderr",
     "output_type": "stream",
     "text": [
      " 22%|██▏       | 300/1386 [13:54<50:05,  2.77s/it, 17: 1.144]"
     ]
    },
    {
     "name": "stdout",
     "output_type": "stream",
     "text": [
      "|What Happened?                           | I don't know!                  | He looks like your friend.    |\n",
      "|Nothin' really. Just kinda goin' back an | Guess where I am?              | I don't know what you don't kn|\n",
      "|So there were others?                    | Other clinics? Oh sure. Clinic | The first problems.           |\n"
     ]
    },
    {
     "name": "stderr",
     "output_type": "stream",
     "text": [
      " 29%|██▉       | 400/1386 [18:31<45:29,  2.77s/it, 17: 1.139]"
     ]
    },
    {
     "name": "stdout",
     "output_type": "stream",
     "text": [
      "|You have to! Quickly!                    | ...imagine a better grape for  | What is it?                   |\n",
      "|That breaks my confidentiality stipulati | I didn't use Low's name.       | You're playing the people of w|\n",
      "|May we look at them now?                 | Of course. You want them... it | Of course not.                |\n"
     ]
    },
    {
     "name": "stderr",
     "output_type": "stream",
     "text": [
      " 36%|███▌      | 500/1386 [23:09<40:51,  2.77s/it, 17: 1.147]"
     ]
    },
    {
     "name": "stdout",
     "output_type": "stream",
     "text": [
      "|Okay then, Mr. Lightbeer! Prove it.      | All right, then, I will. Stand | Thank you very much.          |\n",
      "|Normally dressed, you are a sore thumb,  | But look at rites Look at this | Are you sure?                 |\n",
      "|Why would he do that?                    | To show me he doesn't have to  | He will, now was the most he d|\n"
     ]
    },
    {
     "name": "stderr",
     "output_type": "stream",
     "text": [
      " 43%|████▎     | 600/1386 [27:47<36:15,  2.77s/it, 17: 1.150]"
     ]
    },
    {
     "name": "stdout",
     "output_type": "stream",
     "text": [
      "|You've been asking loud questions in all | So tell me what you know.      | It's what I mean.             |\n",
      "|This is a bad time, Henry. I'm busy just | Things have gone worse with th | I don't know.                 |\n",
      "|Why yes. It's my eightieth birthday.     | But you're not going anywhere, | Better than that?             |\n"
     ]
    },
    {
     "name": "stderr",
     "output_type": "stream",
     "text": [
      " 51%|█████     | 700/1386 [32:24<31:38,  2.77s/it, 17: 1.150]"
     ]
    },
    {
     "name": "stdout",
     "output_type": "stream",
     "text": [
      "|Some aimless infatuation in which, for t | Which is what?                 | Okay. What happened?          |\n",
      "|That could be anybody's.                 | They also found my two beam sc | What do you think?            |\n",
      "|If you love her, you must do what she as | And break her heart and mine?  | Not one of those.             |\n"
     ]
    },
    {
     "name": "stderr",
     "output_type": "stream",
     "text": [
      " 58%|█████▊    | 800/1386 [37:01<27:02,  2.77s/it, 17: 1.151]"
     ]
    },
    {
     "name": "stdout",
     "output_type": "stream",
     "text": [
      "|Good luck to you, Rose.                  | And to you, Mr. Andrews.       | Thank you.                    |\n",
      "|I'm twenty-seven.                        | I know.                        | You know what you're going to |\n",
      "|She's going to show me her stamp collect | So's mine.                     | You're gonna do what?         |\n"
     ]
    },
    {
     "name": "stderr",
     "output_type": "stream",
     "text": [
      " 65%|██████▍   | 900/1386 [41:39<22:25,  2.77s/it, 17: 1.153]"
     ]
    },
    {
     "name": "stdout",
     "output_type": "stream",
     "text": [
      "|You're going back?                       | Mm.                            | I'm not.                      |\n",
      "|He feels awful loss-which was precisely  | He had hoped that someone woul | I think so.                   |\n",
      "|Of course not. As a matter of fact, it w | What for?                      | Come on, Bobby, I want you to |\n"
     ]
    },
    {
     "name": "stderr",
     "output_type": "stream",
     "text": [
      " 72%|███████▏  | 1000/1386 [46:16<17:48,  2.77s/it, 17: 1.154]"
     ]
    },
    {
     "name": "stdout",
     "output_type": "stream",
     "text": [
      "|Hey, Lins... I'm glad your here.         | Yeah? Well I'm not.            | I didn't work on the way.     |\n",
      "|And he used to fuck a Playboy centerfold | Twice a night, sometimes.      | You know what they'p you.     |\n",
      "|But you could. You did.                  | I took one lamb. And I ran awa | What do you know about me?    |\n"
     ]
    },
    {
     "name": "stderr",
     "output_type": "stream",
     "text": [
      " 79%|███████▉  | 1100/1386 [50:54<13:11,  2.77s/it, 17: 1.153]"
     ]
    },
    {
     "name": "stdout",
     "output_type": "stream",
     "text": [
      "|Yeah. I saw one of 'em outside.          | Yonelle. Looks like someone ra | You know where them?          |\n",
      "|You pathetic scum.                       | Well, if there weren't POWs be | What's that?                  |\n",
      "|You did it for me.                       | Yes. I care about you. I did i | She wasn't interested in your |\n"
     ]
    },
    {
     "name": "stderr",
     "output_type": "stream",
     "text": [
      " 87%|████████▋ | 1200/1386 [55:31<08:34,  2.77s/it, 17: 1.153]"
     ]
    },
    {
     "name": "stdout",
     "output_type": "stream",
     "text": [
      "|Can you fix him for me?                  | Yeah.                          | Yeah.                         |\n",
      "|Were you there to catch me?              | No.                            | My name is what I told you to.|\n",
      "|... she's very upset...                  | What about, tonight?           | I don't think she was sly...No|\n"
     ]
    },
    {
     "name": "stderr",
     "output_type": "stream",
     "text": [
      " 94%|█████████▍| 1300/1386 [1:00:09<03:56,  2.76s/it, 17: 1.156]"
     ]
    },
    {
     "name": "stdout",
     "output_type": "stream",
     "text": [
      "|Jeanne, listen to me very carefully. We  | Not unless you hear my confess | What's the matter?            |\n",
      "|A Jewish prayer.                         | Can anybody imagine why I woul | A little over years around.   |\n",
      "|Then you were married?                   | I think so. Although I believe | No.                           |\n"
     ]
    },
    {
     "name": "stderr",
     "output_type": "stream",
     "text": [
      "100%|██████████| 1386/1386 [1:04:05<00:00,  2.76s/it, 17: 1.155]\n",
      "  0%|          | 0/1386 [00:00<?, ?it/s]"
     ]
    },
    {
     "name": "stdout",
     "output_type": "stream",
     "text": [
      "|All right, Mr. Appleton. That was what y | Well, I know that I lost my jo | I told you that.              |\n",
      "|We'd have to-                            | Get it.                        | I was wrong.                  |\n",
      "|When'd you get back?                     | Ah. Couple days ago.           | Just like this...             |\n"
     ]
    },
    {
     "name": "stderr",
     "output_type": "stream",
     "text": [
      "  7%|▋         | 100/1386 [04:38<59:19,  2.77s/it, 18: 1.130] "
     ]
    },
    {
     "name": "stdout",
     "output_type": "stream",
     "text": [
      "|Try not to be late because kids dont lik | Got it. Good tip.              | I don't know.                 |\n",
      "|You did?                                 | You didn't hear me. You were s | Yeah.                         |\n",
      "|Abu Kaleem Malik.                        | Hardcore, highly fanatical, ul | That's it.                    |\n"
     ]
    },
    {
     "name": "stderr",
     "output_type": "stream",
     "text": [
      " 14%|█▍        | 200/1386 [09:16<54:42,  2.77s/it, 18: 1.134]  "
     ]
    },
    {
     "name": "stdout",
     "output_type": "stream",
     "text": [
      "|It wouldn't be fair to the man in the st | ...but big.                    | That's why I've thought up abo|\n",
      "|Oh my God. Where?                        | He's sitting in the fourth boo | I don't call me.              |\n",
      "|P.M.                                     | You see that's what bothers me | You know, wheres looking all d|\n"
     ]
    },
    {
     "name": "stderr",
     "output_type": "stream",
     "text": [
      " 22%|██▏       | 300/1386 [13:53<50:05,  2.77s/it, 18: 1.140]"
     ]
    },
    {
     "name": "stdout",
     "output_type": "stream",
     "text": [
      "|I think it's worse now.                  | That always used to work.      | What happened...?             |\n",
      "|The Big Picture.                         | That's just what I'm sick of.  | Why did you get mampered with |\n",
      "|After a rough fight, ya' nothin' but a l | Why do you do it if it hurts s | What do you mean?             |\n"
     ]
    },
    {
     "name": "stderr",
     "output_type": "stream",
     "text": [
      " 29%|██▉       | 400/1386 [18:31<45:29,  2.77s/it, 18: 1.141]"
     ]
    },
    {
     "name": "stdout",
     "output_type": "stream",
     "text": [
      "|If it was any other brain but yours, I m | I can't relax.                 | Are you telling you?          |\n",
      "|I thought I'd wait for you.              | Well, I'm home now, so you can | Thank you.                    |\n",
      "|I don't make small talk -                | - Obviously.                   | Take care of it!              |\n"
     ]
    },
    {
     "name": "stderr",
     "output_type": "stream",
     "text": [
      " 36%|███▌      | 500/1386 [23:08<40:52,  2.77s/it, 18: 1.140]"
     ]
    },
    {
     "name": "stdout",
     "output_type": "stream",
     "text": [
      "|I thought he was with you.               | Crazy motherfucker.            | Who do you want to make it the|\n",
      "|Not a note.                              | Impossible.                    | How we gotta understand yourse|\n",
      "|Oh, wait a minute, Miss Packard.         | We're neighbors now. You can c | How are you going to disappoin|\n"
     ]
    },
    {
     "name": "stderr",
     "output_type": "stream",
     "text": [
      " 43%|████▎     | 600/1386 [27:46<36:15,  2.77s/it, 18: 1.146]"
     ]
    },
    {
     "name": "stdout",
     "output_type": "stream",
     "text": [
      "|You said... one shot.                    | Did I? My mistake.             | So I don't give a shit out of |\n",
      "|You going on a trip Mr. Parker?          | Yes.                           | Yes, sir.                     |\n",
      "|How'd you know my name was Jack?         | I call all you white guys \"Jac | I don't know. I hated to do th|\n"
     ]
    },
    {
     "name": "stderr",
     "output_type": "stream",
     "text": [
      " 51%|█████     | 700/1386 [32:23<31:38,  2.77s/it, 18: 1.143]"
     ]
    },
    {
     "name": "stdout",
     "output_type": "stream",
     "text": [
      "|I don't understand what the hell's going | Ain't that hard, son. This you | Because she'd been working on |\n",
      "|We're outnumbered twenty to one.         | It's suicide.                  | What? What are you doing? It's|\n",
      "|I know you do.                           | And maybe it will be a better  | What are you going to heav?   |\n"
     ]
    },
    {
     "name": "stderr",
     "output_type": "stream",
     "text": [
      " 58%|█████▊    | 800/1386 [37:02<27:49,  2.85s/it, 18: 1.146]"
     ]
    },
    {
     "name": "stdout",
     "output_type": "stream",
     "text": [
      "|Hi, Buffy.                               | Hi, guys.                      | How's your opinion?           |\n",
      "|Honey, they're young. They're probably n | I'm telling you. There was som | I don't know what yourself.   |\n",
      "|Sleep tight. Don't let the bedbugs bite. | See you in the morning light.. | And now I'm asking you out... |\n"
     ]
    },
    {
     "name": "stderr",
     "output_type": "stream",
     "text": [
      " 65%|██████▍   | 900/1386 [41:39<22:24,  2.77s/it, 18: 1.146]"
     ]
    },
    {
     "name": "stdout",
     "output_type": "stream",
     "text": [
      "|I think she really likes you... Where's  | Ugh...                         | You know.                     |\n",
      "|She was in here when it went down.       | Can she I.D. them?             | Why not?                      |\n",
      "|I don't know. I really like you and I th | Come on.                       | Thank you.                    |\n"
     ]
    },
    {
     "name": "stderr",
     "output_type": "stream",
     "text": [
      " 72%|███████▏  | 1000/1386 [46:17<17:48,  2.77s/it, 18: 1.142]"
     ]
    },
    {
     "name": "stdout",
     "output_type": "stream",
     "text": [
      "|That Conway seemed to belong here. In fa | That I be brought here? Who ha | How do you know he's?         |\n",
      "|Why did you have to come to Casablanca?  | I wouldn't have come if I had  | Because I don't think so.     |\n",
      "|Well, I mean, business is okay, and lacr | Oh thank God, I thought I was  | You don't want to hear.       |\n"
     ]
    },
    {
     "name": "stderr",
     "output_type": "stream",
     "text": [
      " 79%|███████▉  | 1100/1386 [50:54<13:11,  2.77s/it, 18: 1.151]"
     ]
    },
    {
     "name": "stdout",
     "output_type": "stream",
     "text": [
      "|You hear that, Susie... Continue please. | I'm afraid I can't cope with t | Yes... Good night...          |\n",
      "|Then you gotta have The Talk.            | But I sure don't like that she | I want to talk to me.         |\n",
      "|Ya caught me in a bad mood.              | Ya always in a bad mood -      | What happened is that?        |\n"
     ]
    },
    {
     "name": "stderr",
     "output_type": "stream",
     "text": [
      " 87%|████████▋ | 1200/1386 [55:32<08:34,  2.77s/it, 18: 1.150]"
     ]
    },
    {
     "name": "stdout",
     "output_type": "stream",
     "text": [
      "|What happens now?                        | We conclude our transaction.   | I don't know.                 |\n",
      "|What?                                    | I told you... I can't. I just  | I don't know what to do with i|\n",
      "|She doesn't look like a girl who would l | That's what I thought, at firs | Hell years of trying to buy it|\n"
     ]
    },
    {
     "name": "stderr",
     "output_type": "stream",
     "text": [
      " 94%|█████████▍| 1300/1386 [1:00:08<03:56,  2.75s/it, 18: 1.148]"
     ]
    },
    {
     "name": "stdout",
     "output_type": "stream",
     "text": [
      "|Of course not. But she's have to know ev | She doesn't ihavei to know. Sh | Do you know her up there?     |\n",
      "|All right, then.                         | The bitch.                     | Don't do anything. I'll tell y|\n",
      "|But Marylin, without this, you're comple | I want to be exposed.          | You're                        |\n"
     ]
    },
    {
     "name": "stderr",
     "output_type": "stream",
     "text": [
      "100%|██████████| 1386/1386 [1:04:05<00:00,  2.76s/it, 18: 1.152]\n",
      "  0%|          | 0/1386 [00:00<?, ?it/s]"
     ]
    },
    {
     "name": "stdout",
     "output_type": "stream",
     "text": [
      "|I had the craziest dream last night? Wal | Look, I came down here to face | I'm not going to.             |\n",
      "|Where'd you learn to do that?            | From my father. He was the tri | I need to talk to you a lotta.|\n",
      "|There are opportunities in life for gain | You said it was a strange worl | Thank you.                    |\n"
     ]
    },
    {
     "name": "stderr",
     "output_type": "stream",
     "text": [
      "  7%|▋         | 100/1386 [04:40<59:21,  2.77s/it, 19: 1.123] "
     ]
    },
    {
     "name": "stdout",
     "output_type": "stream",
     "text": [
      "|No.                                      | He works in a military hospita | Well, it looks like hello. I'l|\n",
      "|What can he do, he's clean...            | Gimme the black guy...         | What's whore, Bill, actually, |\n",
      "|Charles, will you call a cab for these g | Oh yeah, yeah. You're tired. A | Why not?                      |\n"
     ]
    },
    {
     "name": "stderr",
     "output_type": "stream",
     "text": [
      " 14%|█▍        | 200/1386 [09:18<54:42,  2.77s/it, 19: 1.128]  "
     ]
    },
    {
     "name": "stdout",
     "output_type": "stream",
     "text": [
      "|Huh?                                     | Grab Mary and come inside.     | I don't know.                 |\n",
      "|...wow...                                | So what do you think?          | What?                         |\n",
      "|Does that girlfriend of yours know that  | I didn't see nothin'...        | I don't say anything.         |\n"
     ]
    },
    {
     "name": "stderr",
     "output_type": "stream",
     "text": [
      " 22%|██▏       | 300/1386 [13:56<50:06,  2.77s/it, 19: 1.131]"
     ]
    },
    {
     "name": "stdout",
     "output_type": "stream",
     "text": [
      "|I was. an experiment. Just to see if I c | An experiment? Hey, I've seen  | Are you sure?                 |\n",
      "|What did he mean?                        | I dunno.                       | He called.                    |\n",
      "|Assail your ears for one night.          | It's her favorite band.        | I'm sorry, you've been done in|\n"
     ]
    },
    {
     "name": "stderr",
     "output_type": "stream",
     "text": [
      " 29%|██▉       | 400/1386 [18:33<45:29,  2.77s/it, 19: 1.142]"
     ]
    },
    {
     "name": "stdout",
     "output_type": "stream",
     "text": [
      "|What?                                    | I happen to know more about Mr | Don't you call it any water. Y|\n",
      "|I kissed him, Kit. On the mouth.         | Honey, you're not supposed to  | Do you like it?               |\n",
      "|CHING CHONG, What happened to your beaut | Actually, my name is Cindy, th | Don't you think anything about|\n"
     ]
    },
    {
     "name": "stderr",
     "output_type": "stream",
     "text": [
      " 36%|███▌      | 500/1386 [23:10<40:52,  2.77s/it, 19: 1.135]"
     ]
    },
    {
     "name": "stdout",
     "output_type": "stream",
     "text": [
      "|Ready are you? What know you of ready? I | Why not me?                    | What are you talking about? I |\n",
      "|Want a pair of boots?                    | Do I!? Momma!                  | I'll think about it.          |\n",
      "|Do you have an appointment?              | Yes                            | Yes, I do.                    |\n"
     ]
    },
    {
     "name": "stderr",
     "output_type": "stream",
     "text": [
      " 43%|████▎     | 600/1386 [27:48<36:15,  2.77s/it, 19: 1.138]"
     ]
    },
    {
     "name": "stdout",
     "output_type": "stream",
     "text": [
      "|I know, just let me sleep                | What if you have a concussion? | Don't you really talk about yo|\n",
      "|He... he's planning to kill us, isn't he | He's just full of plans that a | Don't worry.                  |\n",
      "|One way.                                 | 30.55. Twenty more will get yo | You've been thinking about thi|\n"
     ]
    },
    {
     "name": "stderr",
     "output_type": "stream",
     "text": [
      " 51%|█████     | 700/1386 [32:25<31:38,  2.77s/it, 19: 1.138]"
     ]
    },
    {
     "name": "stdout",
     "output_type": "stream",
     "text": [
      "|I thought you said 'Be sorry for nothing | Well, now I am sorry. For intr | I don't believe me.           |\n",
      "|Count d'Algout, there have been several  | Go to bed.                     | There are they died because th|\n",
      "|No. I'm not going to take \"no\" for an an | Then what are you going to do? | I don't know what happened.   |\n"
     ]
    },
    {
     "name": "stderr",
     "output_type": "stream",
     "text": [
      " 58%|█████▊    | 800/1386 [37:03<27:02,  2.77s/it, 19: 1.140]"
     ]
    },
    {
     "name": "stdout",
     "output_type": "stream",
     "text": [
      "|I'm in pain.                             | You want to see pain? Swing by | And what about you?           |\n",
      "|I'm a good worker, Betsy mam, a real goo | If you talk to Tom, he'll assi | Very good.                    |\n",
      "|...I just saw my doctor, he told me ever | Your doctor? Did your doctor s | Hold on.                      |\n"
     ]
    },
    {
     "name": "stderr",
     "output_type": "stream",
     "text": [
      " 65%|██████▍   | 900/1386 [41:40<22:25,  2.77s/it, 19: 1.144]"
     ]
    },
    {
     "name": "stdout",
     "output_type": "stream",
     "text": [
      "|A bomb. At the Viaduct. She closes the d | Does he have to go?            | Then what happened?           |\n",
      "|Not half as bad as I feel.               | Then why in hell're you doin'  | Thank you.                    |\n",
      "|He is exhausted.                         | Why don't you stay here tonigh | He doesn't need anything you w|\n"
     ]
    },
    {
     "name": "stderr",
     "output_type": "stream",
     "text": [
      " 72%|███████▏  | 1000/1386 [46:18<17:48,  2.77s/it, 19: 1.141]"
     ]
    },
    {
     "name": "stdout",
     "output_type": "stream",
     "text": [
      "|I don't know about that. Oh, no, I just, | Yeah.                          | Who the fuck do I know if thin|\n",
      "|No, more commercial stuff.               | Like what?                     | If you don't.                 |\n",
      "|What happened?                           | Three times. Powerful number.  | I don't know.                 |\n"
     ]
    },
    {
     "name": "stderr",
     "output_type": "stream",
     "text": [
      " 79%|███████▉  | 1100/1386 [50:55<13:11,  2.77s/it, 19: 1.149]"
     ]
    },
    {
     "name": "stdout",
     "output_type": "stream",
     "text": [
      "|Phillip?                                 | COOPER, MEET THE LONG LOST PHI | Yes.                          |\n",
      "|That's right.                            | I take it the odds are against | That's what they do?          |\n",
      "|It should be an interesting journey, the | That I promise you.            | Don't worry about that.       |\n"
     ]
    },
    {
     "name": "stderr",
     "output_type": "stream",
     "text": [
      " 87%|████████▋ | 1200/1386 [55:33<08:34,  2.77s/it, 19: 1.145]"
     ]
    },
    {
     "name": "stdout",
     "output_type": "stream",
     "text": [
      "|With nothing linking it to the corporate | So why would PGE offer it?     | What do you need?             |\n",
      "|I know malaria. Malaria isn't caused by  | You've been bitten by bats?    | You know why?                 |\n",
      "|Where is she?                            | Good to see you too, Elaine.   | Is there n?                   |\n"
     ]
    },
    {
     "name": "stderr",
     "output_type": "stream",
     "text": [
      " 94%|█████████▍| 1300/1386 [1:00:09<03:56,  2.76s/it, 19: 1.149]"
     ]
    },
    {
     "name": "stdout",
     "output_type": "stream",
     "text": [
      "|Why?                                     | Well, I feel I owe you somethi | What do you mean, do you think|\n",
      "|Couple of cheeseburgers and two cherry c | Gee whiz \"Bud\", what could we  | Oh, it's not... I'm not.      |\n",
      "|Yeah.                                    | You'll have to send us a postc | And what are you real?        |\n"
     ]
    },
    {
     "name": "stderr",
     "output_type": "stream",
     "text": [
      "100%|██████████| 1386/1386 [1:04:06<00:00,  2.75s/it, 19: 1.145]\n"
     ]
    }
   ],
   "source": [
    "progress_fmt_, interrupted = \"%(epoch)02d: %(loss).3f\", False\n",
    "n_batches = (len(qa_pairs) + batch_size - 1) // batch_size\n",
    "while epoch < n_epochs:\n",
    "    try:\n",
    "        with tqdm.tqdm(total=n_batches) as progress_:\n",
    "            for i, (be, bd) in enumerate(generate_batch(batch_size, max_len=128)):\n",
    "                if (i % 100) == 0:\n",
    "                    sample_qa()\n",
    "\n",
    "                with DelayedKeyboardInterrupt():\n",
    "                    loss_val_hist.append(op_train(bd, be))\n",
    "                    # op_project_embedding()\n",
    "\n",
    "                progress_.postfix = progress_fmt_ % {\n",
    "                    \"loss\": np.mean(loss_val_hist[-100:]),\n",
    "                    \"epoch\": epoch,\n",
    "                }\n",
    "                progress_.update(1)\n",
    "            # end for\n",
    "\n",
    "        # end with\n",
    "        epoch += 1\n",
    "    except KeyboardInterrupt:\n",
    "        interrupted = True\n",
    "\n",
    "    finally:\n",
    "        # retrieve the parameters\n",
    "        weights = {\n",
    "            \"l_embed_char\": lasagne.layers.get_all_param_values(l_embed_char),\n",
    "            \"l_decoder_reembedder\": lasagne.layers.get_all_param_values(l_decoder_reembedder)\n",
    "        }\n",
    "        filename = filename_fmt_ % (epoch, \"_interrupted\" if interrupted else \"\")\n",
    "        with open(filename, \"wb\") as fin:\n",
    "            pickle.dump((\"GRUAttentionLayer\", hyper, vocab, weights), fin)\n",
    "\n",
    "        if interrupted:\n",
    "            break"
   ]
  },
  {
   "cell_type": "markdown",
   "metadata": {
    "deletable": true,
    "editable": true
   },
   "source": [
    "<hr/>"
   ]
  },
  {
   "cell_type": "markdown",
   "metadata": {
    "deletable": true,
    "editable": true
   },
   "source": [
    "### Trunk"
   ]
  },
  {
   "cell_type": "code",
   "execution_count": 87,
   "metadata": {
    "collapsed": false,
    "deletable": true,
    "editable": true
   },
   "outputs": [
    {
     "data": {
      "text/plain": [
       "[<matplotlib.lines.Line2D at 0x7f8e340c6160>]"
      ]
     },
     "execution_count": 87,
     "metadata": {},
     "output_type": "execute_result"
    },
    {
     "data": {
      "image/png": "[encoded data removed]",
      "text/plain": [
       "<matplotlib.figure.Figure at 0x7f8e34daea90>"
      ]
     },
     "metadata": {},
     "output_type": "display_data"
    }
   ],
   "source": [
    "plt.plot(np.log(np.log(loss_val_hist)))"
   ]
  },
  {
   "cell_type": "code",
   "execution_count": 88,
   "metadata": {
    "collapsed": false,
    "deletable": true,
    "editable": true,
    "scrolled": false
   },
   "outputs": [
    {
     "data": {
      "text/plain": [
       "[[(\"I don't know how.\", 0.92403632),\n",
       "  ('Thank you very much.', 0.93505985),\n",
       "  (\"I'm sorry.\", 0.96287441),\n",
       "  (\"Hi. I'm listen to her.\", 0.9938246),\n",
       "  (\"How's that?\", 1.0093236),\n",
       "  (\"I'll see you...\", 1.0616776),\n",
       "  ('How are you!', 1.0839005),\n",
       "  ('Hi.', 1.0929443),\n",
       "  ('Hi.', 1.0929443),\n",
       "  ('Hi.', 1.0929443),\n",
       "  ('Hi.', 1.0929443),\n",
       "  ('Hi.', 1.0929443),\n",
       "  ('Hi.', 1.0929443),\n",
       "  ('Hi.', 1.0929443),\n",
       "  ('Hi.', 1.0929443),\n",
       "  ('Hi.', 1.0929443),\n",
       "  ('Hi.', 1.0929443),\n",
       "  ('This is gonna be here!', 1.1158074),\n",
       "  (\"Hi. Why do I happen, 'cause you don't want to stay around?\", 1.1220632),\n",
       "  (\"Oh, yeah, sir, I don't understand.\", 1.1529226),\n",
       "  ('Hi...', 1.1666373),\n",
       "  (\"Hi. And you're going to be Holida...\", 1.2077732),\n",
       "  (\"It wasn't me.\", 1.2164366),\n",
       "  (\"What's how much to do, Genera?\", 1.2226774),\n",
       "  (\"Mr. Thursday, I'm sorry.\", 1.2374734),\n",
       "  ('Good and you gotta be together.', 1.2390307),\n",
       "  (\"I'm here.\", 1.2621359),\n",
       "  (\"So you guys, I'm sorry...\", 1.263865),\n",
       "  ('Yeah, shit!', 1.2856348),\n",
       "  (\"I won't have anything I need to about me. You have me to go...\",\n",
       "   1.2892567),\n",
       "  ('Is this - yes? Well, I guess that sorry...I wanted you to know him in',\n",
       "   1.3189919),\n",
       "  ('Yeah, honey, your head today, what did you lost trying to do is pick up, tr',\n",
       "   1.3340347),\n",
       "  (\"Good mornin'.\", 1.3575281),\n",
       "  (\"Come on, I'm going to. Can I hear you with you agree, Tharking?\",\n",
       "   1.3652294),\n",
       "  ('So what are you dominaaral?', 1.3672178),\n",
       "  ('Jesus...', 1.3715035),\n",
       "  (\"It seems to me. I'm in a winner.\", 1.3979011),\n",
       "  (\"Yeah, that you're oldrel. Hold him. I'm a secret.\", 1.4134098),\n",
       "  ('...', 1.4159545),\n",
       "  ('...', 1.4159545),\n",
       "  ('...', 1.4159545),\n",
       "  ('Hi..', 1.4267164),\n",
       "  ('Hey, but I have tried to gather.', 1.4345253),\n",
       "  (\"I haven't your son.\", 1.4483277),\n",
       "  ('I see. We never missed.', 1.4583236),\n",
       "  ('Neather is impossible during. I appreciate.', 1.4588628),\n",
       "  ('I airlavy, if you would like it so a little girl?', 1.4657251),\n",
       "  (\"It's real warting to me.\", 1.4760488),\n",
       "  ('Get Dolores. What do you say to her?', 1.4837968),\n",
       "  ('Hey, I guess thank you clats.', 1.4880999),\n",
       "  ('I have a new busines, dogs, but...', 1.4987628),\n",
       "  (\"Yeah, you didn't have and not go anything deal, Rik.\", 1.5095096),\n",
       "  (\"What'd I ever wish?\", 1.510937),\n",
       "  (\"But it's at some though about you...\", 1.5129102),\n",
       "  (\"Hi...And, let me tell you, I won't?\", 1.519992),\n",
       "  (\"Quite, are you really company in that gardener care, that you won't miss a \",\n",
       "   1.5300385),\n",
       "  (\"You don't need it, Louis, don't suppose.\", 1.5459982),\n",
       "  (\"Hey! No! And this time... But Mother, are you dreamin' about said? Where fo\",\n",
       "   1.5477991),\n",
       "  ('Good night!', 1.5741401),\n",
       "  (\"Fred, if you're going to nobother is going, Vyach are you, I ordered you ha\",\n",
       "   1.5761037),\n",
       "  ('Always business, Captain. Seven people! I put is a hundred answer!',\n",
       "   1.5873846),\n",
       "  (\"Oh, just say that a hand in the wife compeum! I thought I didn't first stan\",\n",
       "   1.5906461),\n",
       "  ('What?', 1.5913455),\n",
       "  ('What?', 1.5913455),\n",
       "  ('Have alone, I want to...', 1.5960501),\n",
       "  ('That was stricked down forward!', 1.5979013),\n",
       "  (\"... there'd think of a few of courses?\", 1.6020221),\n",
       "  (\"Have it stick to do - just but you're half it, but the wad things, so we're\",\n",
       "   1.6097074),\n",
       "  (\"Ni, I'm leaving Batman right, aren't all in the section of reasonable. Mr. \",\n",
       "   1.6188314),\n",
       "  (\"Yup. That's the lasing company. You're murder getting charityle, because th\",\n",
       "   1.6267035),\n",
       "  (\"... Well, you geys' on you...\", 1.6270341),\n",
       "  (\"?..eh,, no, we take it easy as you don't understand! I'll and I need your m\",\n",
       "   1.628847),\n",
       "  ('So you got it just this in Royce, that is in there in the way. Have you cou',\n",
       "   1.6297015),\n",
       "  ('Hi. Our asshole.', 1.6329424),\n",
       "  ('Aller anymore?', 1.6348505),\n",
       "  ('...we shoot anyone, And get us with you.', 1.6496626),\n",
       "  ('I show yourself, doing it.', 1.6539146),\n",
       "  ('here. You have a down on me!', 1.6724817),\n",
       "  (\"I'm getting in the Nava... to loake in India... certainly would be here, re\",\n",
       "   1.6746275),\n",
       "  (\"Here. I'm telling you. Hit my money. So it can know the one that sourchive,\",\n",
       "   1.6747011),\n",
       "  ('But you must!', 1.6765243),\n",
       "  (\"Elizoboos, I though your mother's along.\", 1.6774639),\n",
       "  ('What you write him and get that myself?', 1.6859354),\n",
       "  (\"You're about it? How are you? Dorch.\", 1.6886686),\n",
       "  ('I been having anywhere every amounitolk anyway.', 1.6975945),\n",
       "  (\"Aa... and you would take care of Shan, if you don't forget free.\",\n",
       "   1.6993613),\n",
       "  (\"I'm illegua and do with my friends. And you're lucky for in the swife. I'll\",\n",
       "   1.6996542),\n",
       "  ('So you walked in a thing, hurry!', 1.7103709),\n",
       "  ('Wood, have you built, are you washed Jack?', 1.711327),\n",
       "  (\"...And what if what you did say we're over eating you...and I love Thel...\",\n",
       "   1.722913),\n",
       "  (\"I shouldn't Inty now to shoot the end.\", 1.7235254),\n",
       "  (\"H-huh. You're going to storaby non and you like Vice Malcomine...?\",\n",
       "   1.7288383),\n",
       "  ('But that is, lenny...', 1.7300146),\n",
       "  (\"...Abternative, you're trading in your life. What's the body, I'm in MOM?\",\n",
       "   1.7310427),\n",
       "  ('I sut your money.', 1.7327292),\n",
       "  ('Oh. Well, I got you, brick.', 1.7384093),\n",
       "  ('My girlf... security marks...', 1.7404552),\n",
       "  ('Hello!', 1.7467704),\n",
       "  ('How was that and I.I?', 1.7659069),\n",
       "  ('I abard, I never been wared you.', 1.7673662),\n",
       "  (\"Arranskin's, that I'm getting him used to up around.\", 1.7860249),\n",
       "  ('better thing last you - Diane, what Grace is wrong is a threatene.',\n",
       "   1.786254),\n",
       "  (\"I won't worry about it, Nice. Well, holey Lach -\", 1.7932173),\n",
       "  ('Uh, no.', 1.8002294),\n",
       "  (\"...What about the Stanwar, or intent screamin' you - War, or I think, that \",\n",
       "   1.8038338),\n",
       "  ('...and your mom taken jewrhook and give miscreten all ya going down.',\n",
       "   1.8077066),\n",
       "  (\"Baby! I have a bullet telling one - Why didn't you ride, Joh?\", 1.8246849),\n",
       "  (\"At Yes I knew I'm in one of the movie.\", 1.8330466),\n",
       "  (\"Yeah, chris, your grad. That's all. You got to come true, Daddy budd-e'le y\",\n",
       "   1.8353605),\n",
       "  (\"...Ih you let jimme noise! I'm alright, Captain and rescue and splittin' in\",\n",
       "   1.8354461),\n",
       "  ('You play crazy? How many crimately and hand space?', 1.8360839),\n",
       "  (\"Well in this manner, you got me marvey your page, but don't face, Ed, you k\",\n",
       "   1.8528523),\n",
       "  ('Have I need terrificy?', 1.8565696),\n",
       "  (\"You're gonna recicary he want to go doment fearing this...\", 1.8586638),\n",
       "  ('Have a risk, you were.', 1.8621501),\n",
       "  (\"It's infinitely niggling. Get you down to gave the house. Look again, JeSif\",\n",
       "   1.8635435),\n",
       "  (\"What I want my bax, is he.Cheed to stick to the head lunch - isn't it feeli\",\n",
       "   1.8733051),\n",
       "  (\"Ivis, I don't think to take lone to Damn waripa. you didn't like these bitc\",\n",
       "   1.8870388),\n",
       "  ('I am.', 1.8934826),\n",
       "  ('Skat because in there, Andle, alright, bow! You gotta say her arous, yeah, ',\n",
       "   1.9052964),\n",
       "  (\"Hi, Mr. juddo. Hey, Rose'-here, things you are fully right!\", 1.9069812),\n",
       "  ('Hi. What do yell represani?', 1.9149048),\n",
       "  ('uiguing your name?', 1.9154801),\n",
       "  (\"... great! you're endensed.\", 1.9310763),\n",
       "  ('Mickey is on the Genex, I have.', 1.9330764),\n",
       "  (\"That's a beauty. That was a sorry ush on him, Mr. Phildreating, we, player \",\n",
       "   1.9398277),\n",
       "  ('Are you frinkermant but your money? Was he her notcall?', 1.9426355),\n",
       "  (\"Chief, a fuckin' men. I uare it can be.\", 1.9453518),\n",
       "  ('Hi. Mera! What the hell do you uppocr?', 1.9581478),\n",
       "  (\"Jesus, I-I-I-I don't like these campambo becoming. Small time for twim. You\",\n",
       "   1.9632004),\n",
       "  ('eri, I been up easies - we need me - what if it could marry anyway?',\n",
       "   1.9637114),\n",
       "  ('I alread at work and be point.', 1.9670825),\n",
       "  (\"Vince... If he catele it, and it could go out, my barning up, I'm not.\",\n",
       "   1.9766848),\n",
       "  ('uYos always worker firence, Georgia like, Miss hand - but I gotta get strai',\n",
       "   1.9813042),\n",
       "  (\"And I'm going to hardly friend guy govered so...Abunna to fill your meaned.\",\n",
       "   1.9945817),\n",
       "  ('Keep frank...Just I know maked iniven a very first person on the bridge and',\n",
       "   2.0029101),\n",
       "  ('ui ever did by gilling out, test...your son... you see the hostage press at',\n",
       "   2.0080109),\n",
       "  ('This will be guy.', 2.0335007),\n",
       "  (\"It's Mac enough metboor, Right. You got 'er lucky because the end given all\",\n",
       "   2.0451458),\n",
       "  ('Hi...\"', 2.0510912),\n",
       "  (\"heel ora. It's a great wife. I've guese. Maybe, your experiment, hold Detic\",\n",
       "   2.0572557),\n",
       "  ('Die ya... would you quit years, Will?', 2.0572977),\n",
       "  ('Hell... I hardly Chryheh, until the way from Donny!', 2.0679722),\n",
       "  ('And your brain taking me alone in a systemms can be okeie today.',\n",
       "   2.0691659),\n",
       "  ('Ally, was you?', 2.0709751),\n",
       "  ('Hi, baby......\"Hi Van. I\\'m listen, Budd!', 2.0763612),\n",
       "  ('Hi, Jack, I deey purponated.', 2.0926988),\n",
       "  ('I feel you told mor-stening, man.', 2.0968311),\n",
       "  (\"Hal. I'll neud that.\", 2.1084056),\n",
       "  ('Then take ice in the age chipper, would, feel is the room verider, you inta',\n",
       "   2.128556),\n",
       "  (\"Michael, listen, I haven't made a sponsa use. Our Launchy, Bosaphotors but \",\n",
       "   2.1462939),\n",
       "  ('big, I... I being related into as business. We dnan Horraid I never plaves ',\n",
       "   2.1724608),\n",
       "  ('No, no!', 2.2118344),\n",
       "  ('Neah! See, baby!', 2.2313399),\n",
       "  ('A fan thing...?', 2.2357945),\n",
       "  (\"Hi, Sara. That's I-ah!\", 2.2497694),\n",
       "  (\"I never said, Roseb'll washewe your note. By Gormal, never Tawari.\",\n",
       "   2.2660859),\n",
       "  (\"Hi, don't thankie, Neig Retria?\", 2.2691352),\n",
       "  ('...Pay insult...', 2.2799172),\n",
       "  ('I.. do you correct...', 2.2838738),\n",
       "  ('Shut that alcohnon feet.', 2.2867258),\n",
       "  ('Hi!.,...', 2.2920303),\n",
       "  ('Walter to know... Stacy?', 2.3342671),\n",
       "  ('Hi. Hole?! Very god?', 2.3410313),\n",
       "  ('Helli-ah. You had a feel anybody bug so our arrest?...', 2.3558247),\n",
       "  (\"My deal Roybed's hays, hair within I mean to be my last, a classmen.\",\n",
       "   2.3810892),\n",
       "  ('Hal. What you asken?', 2.3850911),\n",
       "  (\"My. Short! That who just's say it exific ories?\", 2.3886416),\n",
       "  ('Bring him by.', 2.3898573),\n",
       "  ('Sir, Quiet, this is Tradini.', 2.409456),\n",
       "  ('Help!', 2.4342687),\n",
       "  ('Under I do.', 2.4419441),\n",
       "  ('Sir..', 2.478749),\n",
       "  (\"Dr. Qureaked, I don't think a yer to a prizo. Upserda...\", 2.4969437),\n",
       "  ('Arrespuch...', 2.5143757),\n",
       "  ('Bleile, left Mandreaitful S.A.A...I wishes hoaler in the hook, Jerry?',\n",
       "   2.5459089),\n",
       "  ('Hey! Hee!', 2.5497365),\n",
       "  ('All get it.', 2.5564802),\n",
       "  ('No, I -', 2.593708),\n",
       "  ('I guezs.', 2.5973606),\n",
       "  (\"43. STEE THEAN SLOD NASH! D'Apry explaining, Dick Japle Marious! Take her f\",\n",
       "   2.6324852),\n",
       "  ('... I am sorry..Neme in \"But \"Chrip guy\"!', 2.7094784),\n",
       "  ('Mine.', 2.7450376),\n",
       "  ('I\\'m \"Havin\\'.\"', 2.768147),\n",
       "  ('Hah!', 2.7752917),\n",
       "  (\"Um... Rock's forged.\", 2.7811627),\n",
       "  ('Not you, Limu.', 2.8466246),\n",
       "  ('Sir, fine?', 2.8737202),\n",
       "  (\"Dho, hadn't read downtown egotigheu? To 1ge...\", 3.0377347),\n",
       "  (\"EXIz, but no, shu'svald.\", 3.0401433),\n",
       "  ('Hiha.', 3.0691657),\n",
       "  ('Day. Have you do-ip?', 3.0998425),\n",
       "  ('How wyle?', 3.1813536),\n",
       "  ('Sir!', 3.2217805),\n",
       "  ('Kyan.', 3.3824487),\n",
       "  ('Ice, hu-hai!', 3.4198377),\n",
       "  ('Hi! CEADR!', 3.5652688),\n",
       "  ('DEAST!!', 4.6776352),\n",
       "  ('PUNUChH!', 4.8281093),\n",
       "  ('uEuV!', 5.7616367)]]"
      ]
     },
     "execution_count": 88,
     "metadata": {},
     "output_type": "execute_result"
    }
   ],
   "source": [
    "generate(as_matrix([\"\\x02\" + \"Hi, there.\" + \"\\x03\"]), 75, tau=1e-7, n_samples=200, seed=42)"
   ]
  },
  {
   "cell_type": "code",
   "execution_count": 64,
   "metadata": {
    "collapsed": true,
    "deletable": true,
    "editable": true
   },
   "outputs": [],
   "source": [
    "def softmax(x_ij, axis=-1):\n",
    "    x_ij = np.exp(x_ij - x_ij.max(axis=axis, keepdims=True))\n",
    "    return x_ij / x_ij.sum(axis=axis, keepdims=True)"
   ]
  },
  {
   "cell_type": "code",
   "execution_count": 65,
   "metadata": {
    "collapsed": true,
    "deletable": true,
    "editable": true
   },
   "outputs": [],
   "source": [
    "logits = op_predict_logits(be, bd)\n",
    "\n",
    "rasta = np.random.RandomState(42)\n",
    "gumbel = -np.log(-np.log(rasta.uniform(size=logits.shape)))\n"
   ]
  },
  {
   "cell_type": "code",
   "execution_count": 66,
   "metadata": {
    "collapsed": false,
    "deletable": true,
    "editable": true
   },
   "outputs": [
    {
     "data": {
      "image/png": "[encoded data removed]",
      "text/plain": [
       "<matplotlib.figure.Figure at 0x7f8e35362588>"
      ]
     },
     "metadata": {},
     "output_type": "display_data"
    }
   ],
   "source": [
    "p = gumbel + logits\n",
    "test = p[0, -10]\n",
    "ttau = np.logspace(-20, 20, num=101, base=2)[:, np.newaxis]\n",
    "test = softmax(test[np.newaxis] / ttau)\n",
    "\n",
    "plt.plot(np.log2(ttau), test);"
   ]
  },
  {
   "cell_type": "code",
   "execution_count": 66,
   "metadata": {
    "collapsed": false,
    "deletable": true,
    "editable": true
   },
   "outputs": [
    {
     "data": {
      "text/plain": [
       "(array([  4.30355000e+05,   2.61762000e+06,   1.09582100e+06,\n",
       "          2.05709000e+05,   3.29850000e+04,   5.28500000e+03,\n",
       "          8.02000000e+02,   1.21000000e+02,   1.80000000e+01,\n",
       "          2.00000000e+00]),\n",
       " array([ -2.69393827,  -0.84279984,   1.00833858,   2.859477  ,\n",
       "          4.71061543,   6.56175385,   8.41289227,  10.2640307 ,\n",
       "         12.11516912,  13.96630754,  15.81744597]),\n",
       " <a list of 10 Patch objects>)"
      ]
     },
     "execution_count": 66,
     "metadata": {},
     "output_type": "execute_result"
    },
    {
     "data": {
      "image/png": "[encoded data removed]",
      "text/plain": [
       "<matplotlib.figure.Figure at 0x7f8810d41048>"
      ]
     },
     "metadata": {},
     "output_type": "display_data"
    }
   ],
   "source": [
    "plt.hist(gumbel.flat)"
   ]
  },
  {
   "cell_type": "code",
   "execution_count": 71,
   "metadata": {
    "collapsed": true,
    "deletable": true,
    "editable": true
   },
   "outputs": [],
   "source": [
    "par = lasagne.layers.get_all_params(l_decoder_reembedder)\n",
    "wgt = dict(zip((p.name for p in par),\n",
    "                 weights[\"l_decoder_reembedder\"]))"
   ]
  },
  {
   "cell_type": "code",
   "execution_count": 80,
   "metadata": {
    "collapsed": false,
    "deletable": true,
    "editable": true
   },
   "outputs": [
    {
     "data": {
      "text/plain": [
       "[<matplotlib.lines.Line2D at 0x7f8e34c2bcc0>]"
      ]
     },
     "execution_count": 80,
     "metadata": {},
     "output_type": "execute_result"
    },
    {
     "data": {
      "image/png": "[encoded data removed]",
      "text/plain": [
       "<matplotlib.figure.Figure at 0x7f8e34c499e8>"
      ]
     },
     "metadata": {},
     "output_type": "display_data"
    }
   ],
   "source": [
    "plt.plot(wgt[\"decoder/gruattn_01.v_attn\"])"
   ]
  },
  {
   "cell_type": "code",
   "execution_count": 67,
   "metadata": {
    "collapsed": false,
    "deletable": true,
    "editable": true
   },
   "outputs": [
    {
     "name": "stdout",
     "output_type": "stream",
     "text": [
      "encoder/gru_f.W_in_to_updategate (32, 256)\n",
      "encoder/gru_f.W_hid_to_updategate (256, 256)\n",
      "encoder/gru_f.b_updategate (256,)\n",
      "encoder/gru_f.W_in_to_resetgate (32, 256)\n",
      "encoder/gru_f.W_hid_to_resetgate (256, 256)\n",
      "encoder/gru_f.b_resetgate (256,)\n",
      "encoder/gru_f.W_in_to_hidden_update (32, 256)\n",
      "encoder/gru_f.W_hid_to_hidden_update (256, 256)\n",
      "encoder/gru_f.b_hidden_update (256,)\n",
      "encoder/gru_f.hid_init (1, 256)\n",
      "encoder/gru_b.W_in_to_updategate (32, 256)\n",
      "encoder/gru_b.W_hid_to_updategate (256, 256)\n",
      "encoder/gru_b.b_updategate (256,)\n",
      "encoder/gru_b.W_in_to_resetgate (32, 256)\n",
      "encoder/gru_b.W_hid_to_resetgate (256, 256)\n",
      "encoder/gru_b.b_resetgate (256,)\n",
      "encoder/gru_b.W_in_to_hidden_update (32, 256)\n",
      "encoder/gru_b.W_hid_to_hidden_update (256, 256)\n",
      "encoder/gru_b.b_hidden_update (256,)\n",
      "encoder/gru_b.hid_init (1, 256)\n",
      "decoder/gruattn_00.W_in (32, 768)\n",
      "decoder/gruattn_00.W_ctx (512, 1024)\n",
      "decoder/gruattn_00.W_hid (256, 1024)\n",
      "decoder/gruattn_00.b (768,)\n",
      "decoder/gruattn_00.v_attn (256,)\n",
      "decoder/gruattn_00.b_attn (256,)\n",
      "decoder/gruattn_00.hid_init (1, 256)\n",
      "decoder/gruattn_01.W_in (256, 768)\n",
      "decoder/gruattn_01.W_ctx (512, 1024)\n",
      "decoder/gruattn_01.W_hid (256, 1024)\n",
      "decoder/gruattn_01.b (768,)\n",
      "decoder/gruattn_01.v_attn (256,)\n",
      "decoder/gruattn_01.b_attn (256,)\n",
      "decoder/gruattn_01.hid_init (1, 256)\n",
      "decoder/project.W (256, 74)\n",
      "decoder/project.b (74,)\n"
     ]
    }
   ],
   "source": [
    "for k, v, in zip(lasagne.layers.get_all_params(l_decoder_reembedder),\n",
    "                 weights[\"l_decoder_reembedder\"]):\n",
    "    print (k, v.shape)"
   ]
  },
  {
   "cell_type": "code",
   "execution_count": 52,
   "metadata": {
    "collapsed": true,
    "deletable": true,
    "editable": true
   },
   "outputs": [],
   "source": [
    "# for be, bd in generate_batch(32, max_len=128):\n",
    "#     break\n",
    "\n",
    "# v_encoder_context = lasagne.layers.get_output(l_encoder_context, inputs)\n",
    "\n",
    "# op_train(be, bd)\n",
    "\n",
    "# <hr/>"
   ]
  },
  {
   "cell_type": "code",
   "execution_count": null,
   "metadata": {
    "collapsed": false,
    "deletable": true,
    "editable": true,
    "scrolled": false
   },
   "outputs": [],
   "source": [
    "# list(zip(trainable[1:], weights[\"l_decoder_reembedder\"]))"
   ]
  },
  {
   "cell_type": "code",
   "execution_count": 55,
   "metadata": {
    "collapsed": true,
    "deletable": true,
    "editable": true
   },
   "outputs": [],
   "source": [
    "for be, bd in generate_batch(32, max_len=512):\n",
    "    break"
   ]
  },
  {
   "cell_type": "code",
   "execution_count": 79,
   "metadata": {
    "collapsed": false,
    "deletable": true,
    "editable": true
   },
   "outputs": [
    {
     "data": {
      "text/plain": [
       "array(2.7703378200531006)"
      ]
     },
     "execution_count": 79,
     "metadata": {},
     "output_type": "execute_result"
    }
   ],
   "source": [
    "op_train(bd, be)"
   ]
  },
  {
   "cell_type": "code",
   "execution_count": 68,
   "metadata": {
    "collapsed": false,
    "deletable": true,
    "editable": true
   },
   "outputs": [],
   "source": [
    "ass = h_0.eval({v_gen_input: be})"
   ]
  },
  {
   "cell_type": "code",
   "execution_count": 69,
   "metadata": {
    "collapsed": false,
    "deletable": true,
    "editable": true
   },
   "outputs": [
    {
     "data": {
      "text/plain": [
       "[<matplotlib.lines.Line2D at 0x7f8e350a8198>]"
      ]
     },
     "execution_count": 69,
     "metadata": {},
     "output_type": "execute_result"
    },
    {
     "data": {
      "image/png": "[encoded data removed]",
      "text/plain": [
       "<matplotlib.figure.Figure at 0x7f8e350d36a0>"
      ]
     },
     "metadata": {},
     "output_type": "display_data"
    }
   ],
   "source": [
    "plt.plot(ass[0])"
   ]
  },
  {
   "cell_type": "markdown",
   "metadata": {
    "deletable": true,
    "editable": true
   },
   "source": [
    "<hr/>"
   ]
  },
  {
   "cell_type": "markdown",
   "metadata": {
    "deletable": true,
    "editable": true
   },
   "source": [
    "The older generator"
   ]
  },
  {
   "cell_type": "code",
   "execution_count": 43,
   "metadata": {
    "collapsed": true,
    "deletable": true,
    "editable": true
   },
   "outputs": [],
   "source": [
    "# Generator's one step update function\n",
    "def generator_step(x_tm1, h_tm1, m_tm1, tau, eps):\n",
    "    \"\"\"One step of the generative decoder version.\"\"\"\n",
    "    # x_tm1 is `batch` int8, h_tm1 is `batch x ...`\n",
    "    # m_tm1 is `batch`, tau, eps are scalars\n",
    "\n",
    "    # embed the previous character. x_t is `batch x embed`\n",
    "    x_t = l_embed_char.get_output_for(x_tm1, deterministic=True)\n",
    "\n",
    "    # collect the inputs\n",
    "    inputs = {l_decoder_embed: x_t.dimshuffle(0, \"x\", 1),\n",
    "              l_decoder_mask: m_tm1.dimshuffle(0, \"x\")}\n",
    "\n",
    "    # Connect the prev variables to the the hidden and stack state feeds\n",
    "    j = 0\n",
    "    for layer in dec_rnn_layers:\n",
    "        inputs[layer.hid_init] = slice_(h_tm1, j, layer.num_units)\n",
    "        j += layer.num_units\n",
    "\n",
    "    # Get the outputs\n",
    "    outputs = [l_decoder_reembedder] + dec_rnn_layers_sliced\n",
    "\n",
    "    # propagate through the decoder column\n",
    "    logit_t, *h_t_list = lasagne.layers.get_output(outputs, inputs,\n",
    "                                                   deterministic=True)\n",
    "\n",
    "    logit_t = logit_t[:, 0]\n",
    "    prob_t = tt.nnet.softmax(logit_t)\n",
    "\n",
    "    # Gumbel-softmax sampling: Gumbel (e^{-e^{-x}}) distributed random noise\n",
    "    gumbel = -tt.log(-tt.log(theano_random_state.uniform(size=logit_t.shape) + eps) + eps)\n",
    "#     logit_t = theano.ifelse.ifelse(tt.gt(tau, 0), gumbel + logit_t, logit_t)\n",
    "#     inv_temp = theano.ifelse.ifelse(tt.gt(tau, 0), 1.0 / tau, tt.constant(1.0))\n",
    "    logit_t = tt.switch(tt.gt(tau, 0), gumbel + logit_t, logit_t)\n",
    "    inv_temp = tt.switch(tt.gt(tau, 0), 1.0 / tau, tt.constant(1.0))\n",
    "\n",
    "    # Pick one element\n",
    "    x_t = tt.cast(tt.argmax(tt.nnet.softmax(logit_t * inv_temp), axis=-1), x_tm1.dtype)\n",
    "\n",
    "    # Pack the hidden states\n",
    "    h_t = tt.concatenate(h_t_list, axis=-1)\n",
    "\n",
    "    # Compute the mask and inhibit the propagation on a stop symbol.\n",
    "    # Recurrent layers return the previous state if m_tm1 is Fasle\n",
    "    m_t = m_tm1 & tt.gt(x_t, vocab.index(\"\\x03\"))\n",
    "    x_t = tt.switch(m_t, x_t, vocab.index(\"\\x03\"))\n",
    "\n",
    "    # There is no need to freeze the states as they will be frozen by\n",
    "    # the RNN passthrough according to the mask `m_t`.\n",
    "\n",
    "    # Get the estimated probability of the picked symbol.\n",
    "    p_t = prob_t[tt.arange(x_t.shape[0]), x_t]\n",
    "    return x_t, h_t, m_t, p_t\n",
    "\n",
    "h_0 = tt.concatenate(dec_hid_inits, axis=-1)\n",
    "\n",
    "x_0 = tt.fill(tt.zeros((v_gen_input.shape[0],), dtype=\"int32\"),\n",
    "              vocab.index(\"\\x02\"))\n",
    "\n",
    "m_0 = tt.ones((v_gen_input.shape[0],), 'bool')\n",
    "\n",
    "result, updates = theano.scan(generator_step, sequences=None, n_steps=n_steps,\n",
    "                              outputs_info=[x_0, h_0, m_0, None],\n",
    "                              strict=False, return_list=True,\n",
    "                              non_sequences=[tau, eps], go_backwards=False,\n",
    "                              name=\"generator/scan\")\n",
    "x_t, h_t, m_t, p_t = [r.swapaxes(0, 1) for r in result]\n",
    "\n",
    "compile_mode = theano.Mode(optimizer=\"fast_run\", linker=\"cvm\")\n",
    "op_generate = theano.function([v_gen_input, n_steps, tau],\n",
    "                              [x_t, h_t, m_t, p_t],\n",
    "                              updates=updates, givens={eps: floatX(1e-20)},\n",
    "                              mode=compile_mode)\n",
    "\n",
    "def generate(questions, n_steps, n_samples=10, tau=0, seed=None):\n",
    "    results = []\n",
    "    for question in questions:\n",
    "        # Replicate the query\n",
    "        question = np.repeat(question[np.newaxis], n_samples, axis=0)\n",
    "        if seed is not None:\n",
    "            theano_random_state.seed(seed)\n",
    "        x_t, h_t, m_t, p_t = op_generate(question, n_steps, tau)\n",
    "\n",
    "        # may produce NaN, but they are shifted in the back by arsort\n",
    "        perplexity, n_chars = (- np.log2(p_t) * m_t).sum(axis=-1), m_t.sum(axis=-1)\n",
    "        perplexity /= n_chars\n",
    "\n",
    "        result = []\n",
    "        for i in perplexity.argsort():\n",
    "            reply = \"\".join(map(vocab.__getitem__, x_t[i, :n_chars[i]]))\n",
    "            result.append((reply, perplexity[i]))\n",
    "        results.append(result)\n",
    "    return results"
   ]
  }
 ],
 "metadata": {
  "kernelspec": {
   "display_name": "Python 3",
   "language": "python",
   "name": "python3"
  },
  "language_info": {
   "codemirror_mode": {
    "name": "ipython",
    "version": 3
   },
   "file_extension": ".py",
   "mimetype": "text/x-python",
   "name": "python",
   "nbconvert_exporter": "python",
   "pygments_lexer": "ipython3",
   "version": "3.6.0"
  }
 },
 "nbformat": 4,
 "nbformat_minor": 2
}
